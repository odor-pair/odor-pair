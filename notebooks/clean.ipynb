{
 "cells": [
  {
   "cell_type": "code",
   "execution_count": 1,
   "id": "8a337252-b14a-47e6-96cf-bb55c9eb6c00",
   "metadata": {
    "tags": []
   },
   "outputs": [
    {
     "data": {
      "text/plain": [
       "'/Users/laurasisson/odor-pair'"
      ]
     },
     "execution_count": 1,
     "metadata": {},
     "output_type": "execute_result"
    }
   ],
   "source": [
    "import os\n",
    "os.chdir(\"..\")\n",
    "os.getcwd()"
   ]
  },
  {
   "cell_type": "code",
   "execution_count": 2,
   "id": "31ec50fb-09af-4b0a-82b9-eb5f0eeb1465",
   "metadata": {
    "tags": []
   },
   "outputs": [
    {
     "data": {
      "text/plain": [
       "(268963,\n",
       " {'mol1': 'CC1=CC2C(C2(C)C)CC1C(=O)C',\n",
       "  'mol2': 'CCCC(CC)O',\n",
       "  'blend_notes': ['herbal']})"
      ]
     },
     "execution_count": 2,
     "metadata": {},
     "output_type": "execute_result"
    }
   ],
   "source": [
    "import json\n",
    "with open(\"dataset/aroma_large_raw.json\",\"r\") as f:\n",
    "    data = json.load(f)\n",
    "len(data), data[0]"
   ]
  },
  {
   "cell_type": "code",
   "execution_count": 3,
   "id": "bfc44462-52de-4699-9b76-4824861387e4",
   "metadata": {
    "tags": []
   },
   "outputs": [
    {
     "data": {
      "text/plain": [
       "266721"
      ]
     },
     "execution_count": 3,
     "metadata": {},
     "output_type": "execute_result"
    }
   ],
   "source": [
    "import graph.utils\n",
    "\n",
    "seen = set()\n",
    "cleaned = []\n",
    "for d in data:\n",
    "    if not d[\"mol1\"] or not d[\"mol2\"] or d[\"mol1\"] == d[\"mol2\"]:\n",
    "        continue\n",
    "    m1, m2 = graph.utils.sort(d[\"mol1\"],d[\"mol2\"])\n",
    "    pair = (m1,m2)\n",
    "    assert not pair in seen\n",
    "    seen.add(pair)\n",
    "    cleaned.append({\"mol1\":m1,\"mol2\":m2,\"blend_notes\":d[\"blend_notes\"]})\n",
    "        \n",
    "len(cleaned)"
   ]
  },
  {
   "cell_type": "code",
   "execution_count": 4,
   "id": "c70bc019-427d-4090-bf40-66bab2e5821b",
   "metadata": {
    "tags": []
   },
   "outputs": [
    {
     "data": {
      "text/plain": [
       "{'acetic',\n",
       " 'acidic',\n",
       " 'acrylate',\n",
       " 'alcoholic',\n",
       " 'aldehydic',\n",
       " 'alliaceous',\n",
       " 'amber',\n",
       " 'ammoniacal',\n",
       " 'animal',\n",
       " 'anise',\n",
       " 'apple',\n",
       " 'aromatic',\n",
       " 'astringent',\n",
       " 'balsamic',\n",
       " 'berry',\n",
       " 'bitter',\n",
       " 'bready',\n",
       " 'brown',\n",
       " 'burnt',\n",
       " 'buttery',\n",
       " 'cabbage',\n",
       " 'camphoreous',\n",
       " 'caramellic',\n",
       " 'celery',\n",
       " 'cheesy',\n",
       " 'chemical',\n",
       " 'cherry',\n",
       " 'chocolate',\n",
       " 'citronella',\n",
       " 'citrus',\n",
       " 'clean',\n",
       " 'cocoa',\n",
       " 'coconut',\n",
       " 'coffee',\n",
       " 'cooling',\n",
       " 'corn',\n",
       " 'corn chip',\n",
       " 'coumarinic',\n",
       " 'creamy',\n",
       " 'cucumber',\n",
       " 'dairy',\n",
       " 'dry',\n",
       " 'dusty',\n",
       " 'earthy',\n",
       " 'eggy',\n",
       " 'estery',\n",
       " 'ethereal',\n",
       " 'fatty',\n",
       " 'fermented',\n",
       " 'fishy',\n",
       " 'floral',\n",
       " 'fresh',\n",
       " 'fruity',\n",
       " 'fungal',\n",
       " 'fusel',\n",
       " 'garlic',\n",
       " 'greasy',\n",
       " 'green',\n",
       " 'hay',\n",
       " 'herbal',\n",
       " 'honey',\n",
       " 'jammy',\n",
       " 'juicy',\n",
       " 'ketonic',\n",
       " 'kokumi',\n",
       " 'lactonic',\n",
       " 'leafy',\n",
       " 'leathery',\n",
       " 'licorice',\n",
       " 'malty',\n",
       " 'marine',\n",
       " 'meaty',\n",
       " 'medicinal',\n",
       " 'melon',\n",
       " 'mentholic',\n",
       " 'metallic',\n",
       " 'milky',\n",
       " 'minty',\n",
       " 'moldy',\n",
       " 'mossy',\n",
       " 'mushroom',\n",
       " 'musk',\n",
       " 'mustard',\n",
       " 'musty',\n",
       " 'naphthyl',\n",
       " 'nutty',\n",
       " 'odorless',\n",
       " 'oily',\n",
       " 'onion',\n",
       " 'orris',\n",
       " 'peach',\n",
       " 'phenolic',\n",
       " 'pine',\n",
       " 'plastic',\n",
       " 'popcorn',\n",
       " 'potato',\n",
       " 'powdery',\n",
       " 'pungent',\n",
       " 'radish',\n",
       " 'ripe',\n",
       " 'roasted',\n",
       " 'rooty',\n",
       " 'rummy',\n",
       " 'salty',\n",
       " 'savory',\n",
       " 'seafood',\n",
       " 'smoky',\n",
       " 'soapy',\n",
       " 'solvent',\n",
       " 'sour',\n",
       " 'spicy',\n",
       " 'sulfurous',\n",
       " 'sweaty',\n",
       " 'sweet',\n",
       " 'tarragon',\n",
       " 'terpenic',\n",
       " 'thujonic',\n",
       " 'toasted',\n",
       " 'tobacco',\n",
       " 'tomato',\n",
       " 'tonka',\n",
       " 'tropical',\n",
       " 'vanilla',\n",
       " 'vegetable',\n",
       " 'wasabi',\n",
       " 'waxy',\n",
       " 'whiskey',\n",
       " 'winey',\n",
       " 'woody',\n",
       " 'yeasty'}"
      ]
     },
     "execution_count": 4,
     "metadata": {},
     "output_type": "execute_result"
    }
   ],
   "source": [
    "all_notes = set()\n",
    "for d in cleaned:\n",
    "    all_notes.update(d[\"blend_notes\"])\n",
    "all_notes"
   ]
  },
  {
   "cell_type": "code",
   "execution_count": 5,
   "id": "6bec3fa7-24ab-42bc-a4bc-0c9fc2140a31",
   "metadata": {
    "tags": []
   },
   "outputs": [],
   "source": [
    "with open(\"dataset/aroma_large.json\",\"w\") as f:\n",
    "    json.dump(cleaned,f)"
   ]
  }
 ],
 "metadata": {
  "kernelspec": {
   "display_name": "Python 3 (ipykernel)",
   "language": "python",
   "name": "python3"
  },
  "language_info": {
   "codemirror_mode": {
    "name": "ipython",
    "version": 3
   },
   "file_extension": ".py",
   "mimetype": "text/x-python",
   "name": "python",
   "nbconvert_exporter": "python",
   "pygments_lexer": "ipython3",
   "version": "3.11.5"
  }
 },
 "nbformat": 4,
 "nbformat_minor": 5
}
