{
 "cells": [
  {
   "cell_type": "code",
   "execution_count": 1,
   "id": "387e5642-228e-4a4a-ad02-da5e10b93034",
   "metadata": {
    "tags": []
   },
   "outputs": [
    {
     "data": {
      "text/plain": [
       "'/Users/laurasisson/odor-pair'"
      ]
     },
     "execution_count": 1,
     "metadata": {},
     "output_type": "execute_result"
    }
   ],
   "source": [
    "import os\n",
    "os.chdir(\"..\")\n",
    "os.getcwd()"
   ]
  },
  {
   "cell_type": "code",
   "execution_count": 3,
   "id": "adeb325e-38e2-48a7-a669-fb97917ac25b",
   "metadata": {
    "tags": []
   },
   "outputs": [
    {
     "data": {
      "text/plain": [
       "MixturePredictor(\n",
       "  (gcn): GCN(\n",
       "    (pad): ZeroPad2d((0, 91, 0, 0))\n",
       "    (gcn): GINConv(nn=Sequential(\n",
       "      (0): Sequential(\n",
       "        (0): Linear(in_features=100, out_features=100, bias=True)\n",
       "        (1): ReLU()\n",
       "        (2): Dropout(p=0, inplace=False)\n",
       "      )\n",
       "      (1): Sequential(\n",
       "        (0): Linear(in_features=100, out_features=100, bias=True)\n",
       "        (1): ReLU()\n",
       "        (2): Dropout(p=0, inplace=False)\n",
       "      )\n",
       "    ))\n",
       "    (readout): Set2Set(100, 200)\n",
       "    (post_mp): Sequential(\n",
       "      (0): Sequential(\n",
       "        (0): Linear(in_features=200, out_features=100, bias=True)\n",
       "        (1): ReLU()\n",
       "        (2): Dropout(p=0, inplace=False)\n",
       "      )\n",
       "      (1): Sequential(\n",
       "        (0): Linear(in_features=100, out_features=100, bias=True)\n",
       "      )\n",
       "    )\n",
       "  )\n",
       "  (out): Sequential(\n",
       "    (0): Sequential(\n",
       "      (0): Linear(in_features=200, out_features=77, bias=True)\n",
       "      (1): ReLU()\n",
       "      (2): Dropout(p=0, inplace=False)\n",
       "    )\n",
       "    (1): Sequential(\n",
       "      (0): Linear(in_features=77, out_features=77, bias=True)\n",
       "    )\n",
       "  )\n",
       ")"
      ]
     },
     "execution_count": 3,
     "metadata": {},
     "output_type": "execute_result"
    }
   ],
   "source": [
    "import analysis.best as best\n",
    "model = best.get_model()\n",
    "model"
   ]
  },
  {
   "cell_type": "code",
   "execution_count": 22,
   "id": "40b2bd9b-a639-4e06-834d-1787b10a7132",
   "metadata": {
    "tags": []
   },
   "outputs": [
    {
     "data": {
      "text/plain": [
       "dict_keys(['train', 'test', 'validate', 'covered_notes'])"
      ]
     },
     "execution_count": 22,
     "metadata": {},
     "output_type": "execute_result"
    }
   ],
   "source": [
    "import json\n",
    "import os\n",
    "\n",
    "folddir = \"dataset/folds\"\n",
    "\n",
    "fold_fnames = os.listdir(folddir)\n",
    "folds = []\n",
    "for fname in fold_fnames:\n",
    "    if not fname.endswith(\".json\"):\n",
    "        continue\n",
    "    with open(os.path.join(\"dataset/folds\",fname)) as f:\n",
    "        folds.append(json.load(f))\n",
    "folds[0].keys()"
   ]
  },
  {
   "cell_type": "code",
   "execution_count": 24,
   "id": "58ec7269-3b7b-4862-92d1-fe990975151a",
   "metadata": {
    "tags": []
   },
   "outputs": [
    {
     "data": {
      "text/plain": [
       "{'edge': ['CC(=CCCC(C)(C=C)O)C', 'C1CCCCCOCCCCOC(=O)CCCC1'],\n",
       " 'blend_notes': ['citrus', 'floral']}"
      ]
     },
     "execution_count": 24,
     "metadata": {},
     "output_type": "execute_result"
    }
   ],
   "source": [
    "example = folds[0][\"train\"][0]\n",
    "example"
   ]
  },
  {
   "cell_type": "code",
   "execution_count": 31,
   "id": "7cef7c19-6f66-4537-ba47-c70a5dc955b3",
   "metadata": {
    "tags": []
   },
   "outputs": [
    {
     "data": {
      "text/plain": [
       "PairData(y=[49], x_s=[11, 9], edge_attr_s=[20, 3], edge_index_s=[2, 20], smiles_s='CC(=CCCC(C)(C=C)O)C', x_t=[18, 9], edge_attr_t=[36, 3], edge_index_t=[2, 36], smiles_t='C1CCCCCOCCCCOC(=O)CCCC1')"
      ]
     },
     "execution_count": 31,
     "metadata": {},
     "output_type": "execute_result"
    }
   ],
   "source": [
    "import torch\n",
    "import pairing.data\n",
    "\n",
    "example_pd = pairing.data.to_pairdata((example[\"edge\"],{n:n for n in example[\"blend_notes\"]}),folds[0][\"covered_notes\"])\n",
    "example_pd"
   ]
  },
  {
   "cell_type": "code",
   "execution_count": 35,
   "id": "418441a1-f8e2-42e1-b2a4-0661631d4c05",
   "metadata": {
    "tags": []
   },
   "outputs": [],
   "source": [
    "loader = pairing.data.loader([example_pd],batch_size=1)"
   ]
  },
  {
   "cell_type": "code",
   "execution_count": 39,
   "id": "5669952c-72b7-4d7f-be1f-bf6fb5f5d884",
   "metadata": {
    "tags": []
   },
   "outputs": [
    {
     "name": "stdout",
     "output_type": "stream",
     "text": [
      "PairDataBatch(y=[1, 49], x_s=[11, 9], x_s_batch=[11], x_s_ptr=[2], edge_attr_s=[20, 3], edge_index_s=[2, 20], smiles_s=[1], x_t=[18, 9], x_t_batch=[18], x_t_ptr=[2], edge_attr_t=[36, 3], edge_index_t=[2, 36], smiles_t=[1])\n",
      "tensor([[ -7.5304, -10.9434,  -4.1523, -10.5723,  -6.7158,  -5.7163,  -7.3422,\n",
      "          -5.6530,  -2.2875,  -5.3072,  -6.5789, -12.0449, -11.1216, -10.1371,\n",
      "         -10.8562,  -7.3053,  -8.9638, -13.4858,  -9.5016,  -6.1817,  -2.5538,\n",
      "          -7.6263, -14.2503,  -7.3566, -12.8955,  -5.9212, -13.8315,  -5.8680,\n",
      "          -5.3056,  -5.9917, -14.1736,  -8.8033,  -5.7729,  -9.3598,   0.9498,\n",
      "          -8.6636,  -2.6678,  -7.0573, -14.2349,  -1.1380,  -2.6668,  -4.8227,\n",
      "         -10.4803,  -7.6062,  -7.5505, -13.7821,  -3.8134,  -5.7388,  -5.5302,\n",
      "          -5.6775, -11.0578,  -5.6931, -15.7447, -10.6977,  -6.9568,  -4.9923,\n",
      "         -14.0037,  -9.9651,  -9.5920, -14.6009,  -5.3259, -16.1524, -10.6952,\n",
      "          -7.8088, -18.2082, -19.2514,  -3.4855,  -9.0148,  -6.9703,  -8.0546,\n",
      "          -8.4883, -11.4933,  -8.9760, -11.2727,  -5.3501, -10.0470,  -3.9499]],\n",
      "       grad_fn=<AddmmBackward0>)\n"
     ]
    }
   ],
   "source": [
    "for batch in loader:\n",
    "    print(batch)\n",
    "    print(model(**batch))"
   ]
  },
  {
   "cell_type": "markdown",
   "id": "6b936077-ec4c-4650-a304-6bf6a76d900f",
   "metadata": {},
   "source": [
    "# Steps now\n",
    "### Make train/test/validate dataset for each fold\n",
    "### Try just doing the AUROC there for now\n",
    "### Probavbly will have to do the full training :("
   ]
  },
  {
   "cell_type": "code",
   "execution_count": null,
   "id": "55984820-672e-4c5b-a9cd-ec5e2b0790df",
   "metadata": {},
   "outputs": [],
   "source": []
  }
 ],
 "metadata": {
  "kernelspec": {
   "display_name": "Python 3 (ipykernel)",
   "language": "python",
   "name": "python3"
  },
  "language_info": {
   "codemirror_mode": {
    "name": "ipython",
    "version": 3
   },
   "file_extension": ".py",
   "mimetype": "text/x-python",
   "name": "python",
   "nbconvert_exporter": "python",
   "pygments_lexer": "ipython3",
   "version": "3.11.5"
  }
 },
 "nbformat": 4,
 "nbformat_minor": 5
}
