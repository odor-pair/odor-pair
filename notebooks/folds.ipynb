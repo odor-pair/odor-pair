{
 "cells": [
  {
   "cell_type": "code",
   "execution_count": 1,
   "id": "387e5642-228e-4a4a-ad02-da5e10b93034",
   "metadata": {
    "tags": []
   },
   "outputs": [
    {
     "data": {
      "text/plain": [
       "'/Users/laurasisson/odor-pair'"
      ]
     },
     "execution_count": 1,
     "metadata": {},
     "output_type": "execute_result"
    }
   ],
   "source": [
    "import os\n",
    "os.chdir(\"..\")\n",
    "os.getcwd()"
   ]
  },
  {
   "cell_type": "code",
   "execution_count": 2,
   "id": "adeb325e-38e2-48a7-a669-fb97917ac25b",
   "metadata": {
    "tags": []
   },
   "outputs": [
    {
     "data": {
      "text/plain": [
       "MixturePredictor(\n",
       "  (gcn): GCN(\n",
       "    (pad): ZeroPad2d((0, 91, 0, 0))\n",
       "    (gcn): GINConv(nn=Sequential(\n",
       "      (0): Sequential(\n",
       "        (0): Linear(in_features=100, out_features=100, bias=True)\n",
       "        (1): ReLU()\n",
       "        (2): Dropout(p=0, inplace=False)\n",
       "      )\n",
       "      (1): Sequential(\n",
       "        (0): Linear(in_features=100, out_features=100, bias=True)\n",
       "        (1): ReLU()\n",
       "        (2): Dropout(p=0, inplace=False)\n",
       "      )\n",
       "    ))\n",
       "    (readout): Set2Set(100, 200)\n",
       "    (post_mp): Sequential(\n",
       "      (0): Sequential(\n",
       "        (0): Linear(in_features=200, out_features=100, bias=True)\n",
       "        (1): ReLU()\n",
       "        (2): Dropout(p=0, inplace=False)\n",
       "      )\n",
       "      (1): Sequential(\n",
       "        (0): Linear(in_features=100, out_features=100, bias=True)\n",
       "      )\n",
       "    )\n",
       "  )\n",
       "  (out): Sequential(\n",
       "    (0): Sequential(\n",
       "      (0): Linear(in_features=200, out_features=77, bias=True)\n",
       "      (1): ReLU()\n",
       "      (2): Dropout(p=0, inplace=False)\n",
       "    )\n",
       "    (1): Sequential(\n",
       "      (0): Linear(in_features=77, out_features=77, bias=True)\n",
       "    )\n",
       "  )\n",
       ")"
      ]
     },
     "execution_count": 2,
     "metadata": {},
     "output_type": "execute_result"
    }
   ],
   "source": [
    "import analysis.best as best\n",
    "model = best.get_model()\n",
    "model"
   ]
  },
  {
   "cell_type": "code",
   "execution_count": 3,
   "id": "40b2bd9b-a639-4e06-834d-1787b10a7132",
   "metadata": {
    "tags": []
   },
   "outputs": [
    {
     "data": {
      "text/plain": [
       "dict_keys(['train', 'test', 'validate', 'covered_notes'])"
      ]
     },
     "execution_count": 3,
     "metadata": {},
     "output_type": "execute_result"
    }
   ],
   "source": [
    "import json\n",
    "import os\n",
    "\n",
    "folddir = \"dataset/folds\"\n",
    "\n",
    "fold_fnames = os.listdir(folddir)\n",
    "folds = []\n",
    "for fname in fold_fnames:\n",
    "    if not fname.endswith(\".json\"): \n",
    "        continue\n",
    "    with open(os.path.join(\"dataset/folds\",fname)) as f:\n",
    "        folds.append(json.load(f))\n",
    "folds[0].keys()"
   ]
  },
  {
   "cell_type": "code",
   "execution_count": 4,
   "id": "70963fcd-c5e1-42ff-8755-67fbc26f6042",
   "metadata": {
    "tags": []
   },
   "outputs": [
    {
     "data": {
      "text/plain": [
       "PairData(y=[49], x_s=[11, 9], edge_attr_s=[20, 3], edge_index_s=[2, 20], smiles_s='CC(=CCCC(C)(C=C)O)C', x_t=[18, 9], edge_attr_t=[36, 3], edge_index_t=[2, 36], smiles_t='C1CCCCCOCCCCOC(=O)CCCC1')"
      ]
     },
     "execution_count": 4,
     "metadata": {},
     "output_type": "execute_result"
    }
   ],
   "source": [
    "import pairing.data\n",
    "\n",
    "def make_pairdatas(dataset,covered_notes,show_failed=False):\n",
    "    pds = []\n",
    "    failed = 0\n",
    "    for d in dataset:\n",
    "        try:\n",
    "            notes = {n:n for n in d[\"blend_notes\"]}\n",
    "            pds.append(pairing.data.to_pairdata((d[\"edge\"],notes),covered_notes))\n",
    "        except AttributeError:\n",
    "            failed+=1\n",
    "    if show_failed:\n",
    "        print(f\"Built {len(pds)} datapoints. Failed on {failed}.\")\n",
    "    return pds\n",
    "\n",
    "make_pairdatas(folds[0][\"train\"],folds[0][\"covered_notes\"])[0]"
   ]
  },
  {
   "cell_type": "code",
   "execution_count": 11,
   "id": "38a62f07-d0de-4da7-b469-692288b5ecf7",
   "metadata": {
    "tags": []
   },
   "outputs": [
    {
     "data": {
      "application/vnd.jupyter.widget-view+json": {
       "model_id": "c00c0cd6b3cf4210afd5c86f276fcdf5",
       "version_major": 2,
       "version_minor": 0
      },
      "text/plain": [
       "  0%|          | 0/5 [00:00<?, ?it/s]"
      ]
     },
     "metadata": {},
     "output_type": "display_data"
    },
    {
     "data": {
      "text/plain": [
       "5"
      ]
     },
     "execution_count": 11,
     "metadata": {},
     "output_type": "execute_result"
    }
   ],
   "source": [
    "from tqdm.notebook import tqdm\n",
    "\n",
    "fold_datas = []\n",
    "for fold in tqdm(folds):\n",
    "    covered = fold[\"covered_notes\"]\n",
    "    ftrain = make_pairdatas(fold[\"train\"],covered)\n",
    "    ftest = make_pairdatas(fold[\"test\"],covered)\n",
    "    fvalid = make_pairdatas(fold[\"validate\"],covered)\n",
    "    fold_datas.append({\"train\":ftrain,\"test\":ftest,\"validate\":fvalid,\"covered_notes\":covered})\n",
    "len(fold_datas)"
   ]
  },
  {
   "cell_type": "code",
   "execution_count": 38,
   "id": "e6071966-a4e3-4cb1-b75d-b92a31a5e977",
   "metadata": {
    "tags": []
   },
   "outputs": [
    {
     "name": "stdout",
     "output_type": "stream",
     "text": [
      "Fold 0.\n"
     ]
    },
    {
     "data": {
      "application/vnd.jupyter.widget-view+json": {
       "model_id": "66cebe7f33ca4d92be147f2c04155ac2",
       "version_major": 2,
       "version_minor": 0
      },
      "text/plain": [
       "  0%|          | 0/124 [00:00<?, ?it/s]"
      ]
     },
     "metadata": {},
     "output_type": "display_data"
    },
    {
     "name": "stdout",
     "output_type": "stream",
     "text": [
      "tensor(0.1025)\n",
      "Fold 1.\n"
     ]
    },
    {
     "data": {
      "application/vnd.jupyter.widget-view+json": {
       "model_id": "1d2ce9f0524f43fe94f72112385cc120",
       "version_major": 2,
       "version_minor": 0
      },
      "text/plain": [
       "  0%|          | 0/124 [00:00<?, ?it/s]"
      ]
     },
     "metadata": {},
     "output_type": "display_data"
    },
    {
     "name": "stdout",
     "output_type": "stream",
     "text": [
      "tensor(0.0910)\n",
      "Fold 2.\n"
     ]
    },
    {
     "data": {
      "application/vnd.jupyter.widget-view+json": {
       "model_id": "a3757470dc2945458c45e8c79588227b",
       "version_major": 2,
       "version_minor": 0
      },
      "text/plain": [
       "  0%|          | 0/124 [00:00<?, ?it/s]"
      ]
     },
     "metadata": {},
     "output_type": "display_data"
    },
    {
     "name": "stdout",
     "output_type": "stream",
     "text": [
      "tensor(0.1175)\n",
      "Fold 3.\n"
     ]
    },
    {
     "data": {
      "application/vnd.jupyter.widget-view+json": {
       "model_id": "7aebfa1adcd744ceaf21f16c26056c04",
       "version_major": 2,
       "version_minor": 0
      },
      "text/plain": [
       "  0%|          | 0/124 [00:00<?, ?it/s]"
      ]
     },
     "metadata": {},
     "output_type": "display_data"
    },
    {
     "name": "stdout",
     "output_type": "stream",
     "text": [
      "tensor(0.1221)\n",
      "Fold 4.\n"
     ]
    },
    {
     "data": {
      "application/vnd.jupyter.widget-view+json": {
       "model_id": "8af1e4fd85164a69b1251a3578fde448",
       "version_major": 2,
       "version_minor": 0
      },
      "text/plain": [
       "  0%|          | 0/124 [00:00<?, ?it/s]"
      ]
     },
     "metadata": {},
     "output_type": "display_data"
    },
    {
     "name": "stdout",
     "output_type": "stream",
     "text": [
      "tensor(0.1242)\n"
     ]
    }
   ],
   "source": [
    "from main import MixturePredictor, GCN\n",
    "\n",
    "params = {\"DIM\":100,\"LINEAR\":2,\"CONVS\":6,\"AGGR\":2,\"ARCH\":\"GIN\",\"LR\":0.0094574,\"STEPS\":124.00,\"DECAY\":0.0018544}\n",
    "def do_trial(fold_idx,fold):\n",
    "    model = MixturePredictor(num_convs=params[\"CONVS\"],\n",
    "        num_linear=params[\"LINEAR\"],\n",
    "        embedding_size=int(params[\"DIM\"]),\n",
    "        aggr_steps=params[\"AGGR\"],\n",
    "        architecture=params[\"ARCH\"],\n",
    "        num_classes=len(fold[\"covered_notes\"]))\n",
    "\n",
    "    bsz = int((2**18) / ((params[\"DIM\"])*params[\"LINEAR\"]))\n",
    "\n",
    "    train, test, validate = fold[\"train\"], fold[\"test\"], fold[\"validate\"]\n",
    "    train_loader = pairing.data.loader(train,batch_size=bsz)\n",
    "    test_loader = pairing.data.loader(test,batch_size=bsz)\n",
    "    validate_loader = pairing.data.loader(validate,batch_size=bsz)\n",
    "\n",
    "    loss_fn = torch.nn.BCEWithLogitsLoss()\n",
    "    optimizer = torch.optim.Adam(model.parameters(), lr=params[\"LR\"])\n",
    "    # From paper\n",
    "    end_step = .9 * params[\"STEPS\"]\n",
    "    scheduler = torch.optim.lr_scheduler.LinearLR(optimizer,\n",
    "                                                  start_factor=1,\n",
    "                                                  end_factor=params[\"DECAY\"],\n",
    "                                                  total_iters=end_step)\n",
    "    def do_train_epoch():\n",
    "        model.train()\n",
    "        losses = []\n",
    "        for batch in train_loader:\n",
    "            optimizer.zero_grad()\n",
    "\n",
    "            pred = model(**batch.to_dict())\n",
    "\n",
    "            loss = loss_fn(pred,batch.y)\n",
    "            loss.backward()\n",
    "            losses.append(loss*len(batch.y))\n",
    "\n",
    "            optimizer.step()\n",
    "\n",
    "        return torch.stack(losses).sum() / len(train)\n",
    "\n",
    "    def collate(loader):\n",
    "        model.eval()\n",
    "        preds = []\n",
    "        ys = []\n",
    "        for batch in loader:\n",
    "            with torch.no_grad():\n",
    "                pred = model(**batch.to_dict())\n",
    "\n",
    "            preds.append(pred)\n",
    "            ys.append(batch.y)\n",
    "\n",
    "        return torch.cat(preds,dim=0), torch.cat(ys,dim=0)\n",
    "\n",
    "    def get_loss(loader):\n",
    "        pred, y = collate(loader)\n",
    "        return loss_fn(pred,y)\n",
    "\n",
    "    def get_auroc(loader):\n",
    "        pred, y = collate(loader)\n",
    "        return auroc(pred,y.int())\n",
    "\n",
    "    for s in tqdm(range(int(params[\"STEPS\"]))):\n",
    "        train_loss = do_train_epoch()\n",
    "        scheduler.step()\n",
    "        validate_loss = get_loss(validate_loader)\n",
    "        \n",
    "    test_pred, test_true = collate(test_loader)\n",
    "    torch.save(test_pred,f\"fold_preds/{fold_idx}_pred.pt\")\n",
    "    torch.save(test_true,f\"fold_preds/{fold_idx}_true.pt\")\n",
    "        \n",
    "    return get_loss(test_loader), test_pred, test_true\n",
    "\n",
    "test_preds = []\n",
    "test_trues = []\n",
    "for fidx, fold in enumerate(fold_datas):\n",
    "    print(f\"Fold {fidx}.\")\n",
    "    test_loss, test_pred, test_true = do_trial(fidx,fold)\n",
    "    print(test_loss)\n",
    "    test_preds.append(test_pred)\n",
    "    test_trues.append(test_true)    "
   ]
  }
 ],
 "metadata": {
  "kernelspec": {
   "display_name": "Python 3 (ipykernel)",
   "language": "python",
   "name": "python3"
  },
  "language_info": {
   "codemirror_mode": {
    "name": "ipython",
    "version": 3
   },
   "file_extension": ".py",
   "mimetype": "text/x-python",
   "name": "python",
   "nbconvert_exporter": "python",
   "pygments_lexer": "ipython3",
   "version": "3.11.5"
  }
 },
 "nbformat": 4,
 "nbformat_minor": 5
}
