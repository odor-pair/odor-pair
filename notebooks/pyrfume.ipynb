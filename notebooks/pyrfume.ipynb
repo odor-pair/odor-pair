{
 "cells": [
  {
   "cell_type": "code",
   "execution_count": 1,
   "id": "7feec456-4348-4182-b643-bf3cd7e35383",
   "metadata": {},
   "outputs": [
    {
     "data": {
      "text/plain": [
       "'/Users/laurasisson/odor-pair'"
      ]
     },
     "execution_count": 1,
     "metadata": {},
     "output_type": "execute_result"
    }
   ],
   "source": [
    "import os\n",
    "os.chdir(\"..\")\n",
    "os.getcwd()"
   ]
  },
  {
   "cell_type": "code",
   "execution_count": 2,
   "id": "caaafe0e-8ed1-45d4-aba8-49a9e78fa443",
   "metadata": {
    "tags": []
   },
   "outputs": [
    {
     "data": {
      "text/plain": [
       "(268963,\n",
       " {'mol1': 'CC1=CC2C(C2(C)C)CC1C(=O)C',\n",
       "  'mol2': 'CCCC(CC)O',\n",
       "  'blend_notes': ['herbal']})"
      ]
     },
     "execution_count": 2,
     "metadata": {},
     "output_type": "execute_result"
    }
   ],
   "source": [
    "import json\n",
    "with open(\"dataset/full_large.json\") as f:\n",
    "    full_data = json.load(f)\n",
    "len(full_data), full_data[0]"
   ]
  },
  {
   "cell_type": "code",
   "execution_count": 3,
   "id": "6c2135ab-e2d7-4bd6-b54e-007e17dd47fd",
   "metadata": {
    "tags": []
   },
   "outputs": [
    {
     "data": {
      "application/vnd.jupyter.widget-view+json": {
       "model_id": "9ad1b0d895c04eb6904738de2ddf3b5c",
       "version_major": 2,
       "version_minor": 0
      },
      "text/plain": [
       "  0%|          | 0/268963 [00:00<?, ?it/s]"
      ]
     },
     "metadata": {},
     "output_type": "display_data"
    },
    {
     "data": {
      "text/plain": [
       "(3430,\n",
       " [('', 2206),\n",
       "  ('CC(CC1=CC2=C(C=C1)OCO2)C=O', 963),\n",
       "  ('OC(C1OC(\\\\C=C)(CC1)C)(C)C', 927)])"
      ]
     },
     "execution_count": 3,
     "metadata": {},
     "output_type": "execute_result"
    }
   ],
   "source": [
    "import collections\n",
    "from tqdm.notebook import tqdm\n",
    "all_smiles = collections.Counter()\n",
    "for d in tqdm(full_data):\n",
    "    all_smiles[d[\"mol1\"]] += 1\n",
    "    all_smiles[d[\"mol2\"]] += 1\n",
    "len(all_smiles), all_smiles.most_common(3)"
   ]
  },
  {
   "cell_type": "code",
   "execution_count": 4,
   "id": "279be086-9dab-4053-80f0-6b37384baa83",
   "metadata": {
    "tags": []
   },
   "outputs": [
    {
     "data": {
      "application/vnd.jupyter.widget-view+json": {
       "model_id": "86343b5b46d04ffc94349a2df36635cb",
       "version_major": 2,
       "version_minor": 0
      },
      "text/plain": [
       "  0%|          | 0/3430 [00:00<?, ?it/s]"
      ]
     },
     "metadata": {},
     "output_type": "display_data"
    },
    {
     "name": "stderr",
     "output_type": "stream",
     "text": [
      "[15:16:15] SMILES Parse Error: syntax error while parsing: (C)C1=CN=CC(=N1)OC.CC(C)C1=CN=C(C=N1)OC.CC(C)C1=NC=CN=C1OC\n",
      "[15:16:15] SMILES Parse Error: Failed parsing SMILES '(C)C1=CN=CC(=N1)OC.CC(C)C1=CN=C(C=N1)OC.CC(C)C1=NC=CN=C1OC' for input: '(C)C1=CN=CC(=N1)OC.CC(C)C1=CN=C(C=N1)OC.CC(C)C1=NC=CN=C1OC'\n",
      "[15:16:15] SMILES Parse Error: syntax error while parsing: InChI=1/C7H8S/c1-6-4-2-3-5-7(6)8/h2-5,8H,1H3\n",
      "[15:16:15] SMILES Parse Error: Failed parsing SMILES 'InChI=1/C7H8S/c1-6-4-2-3-5-7(6)8/h2-5,8H,1H3' for input: 'InChI=1/C7H8S/c1-6-4-2-3-5-7(6)8/h2-5,8H,1H3'\n"
     ]
    },
    {
     "name": "stdout",
     "output_type": "stream",
     "text": [
      "(C)C1=CN=CC(=N1)OC.CC(C)C1=CN=C(C=N1)OC.CC(C)C1=NC=CN=C1OC\n",
      "InChI=1/C7H8S/c1-6-4-2-3-5-7(6)8/h2-5,8H,1H3\n",
      "CC(=O)c1ccc(C)n1\n"
     ]
    },
    {
     "name": "stderr",
     "output_type": "stream",
     "text": [
      "[15:16:17] Can't kekulize mol.  Unkekulized atoms: 3 4 5 6 8\n"
     ]
    },
    {
     "data": {
      "text/plain": [
       "3427"
      ]
     },
     "execution_count": 4,
     "metadata": {},
     "output_type": "execute_result"
    }
   ],
   "source": [
    "from ogb.utils import smiles2graph\n",
    "\n",
    "valid_smiles = set()\n",
    "for smiles in tqdm(all_smiles.keys()):\n",
    "    try:\n",
    "        smiles2graph(smiles)\n",
    "        valid_smiles.add(smiles)\n",
    "    except AttributeError:\n",
    "        print(smiles)\n",
    "        continue\n",
    "len(valid_smiles)"
   ]
  },
  {
   "cell_type": "code",
   "execution_count": 5,
   "id": "c020113a-0067-4652-84e9-c779ed725252",
   "metadata": {
    "tags": []
   },
   "outputs": [
    {
     "data": {
      "application/vnd.jupyter.widget-view+json": {
       "model_id": "ceba8353988841d7944446ed9575ae72",
       "version_major": 2,
       "version_minor": 0
      },
      "text/plain": [
       "  0%|          | 0/3427 [00:00<?, ?it/s]"
      ]
     },
     "metadata": {},
     "output_type": "display_data"
    },
    {
     "name": "stdout",
     "output_type": "stream",
     "text": [
      "Error processing SMILES : identifier/cid cannot be None\n"
     ]
    },
    {
     "data": {
      "text/plain": [
       "('CC(=O)OCC\\\\C=C\\\\C/C=C\\\\CC', 71587638)"
      ]
     },
     "execution_count": 5,
     "metadata": {},
     "output_type": "execute_result"
    }
   ],
   "source": [
    "from pubchempy import get_cids\n",
    "\n",
    "smiles_to_cid = {}\n",
    "for smiles in tqdm(valid_smiles):\n",
    "    try:\n",
    "        # Retrieve the first CID for the SMILES string\n",
    "        cids = get_cids(smiles, namespace='smiles')\n",
    "        if not cids:\n",
    "            continue\n",
    "        smiles_to_cid[smiles] = cids[0]\n",
    "    except Exception as e:\n",
    "        print(f\"Error processing SMILES {smiles}: {e}\")\n",
    "next(iter(smiles_to_cid.items()))"
   ]
  },
  {
   "cell_type": "code",
   "execution_count": 14,
   "id": "a12a54df-950e-403a-b2fd-e2a22e778800",
   "metadata": {
    "tags": []
   },
   "outputs": [
    {
     "data": {
      "application/vnd.jupyter.widget-view+json": {
       "model_id": "8daeffe3dd09466694b968f2d435e005",
       "version_major": 2,
       "version_minor": 0
      },
      "text/plain": [
       "  0%|          | 0/268963 [00:00<?, ?it/s]"
      ]
     },
     "metadata": {},
     "output_type": "display_data"
    },
    {
     "data": {
      "text/plain": [
       "{'CID.1': 44079, 'CID.2': 12178, 'Descriptors': 'herbal'}"
      ]
     },
     "execution_count": 14,
     "metadata": {},
     "output_type": "execute_result"
    }
   ],
   "source": [
    "import json\n",
    "\n",
    "prediction_targets = []\n",
    "for d in tqdm(full_data):\n",
    "    try:\n",
    "        cid1 = smiles_to_cid[d[\"mol1\"]]\n",
    "        cid2 = smiles_to_cid[d[\"mol2\"]]\n",
    "        descriptors = \";\".join(d[\"blend_notes\"])\n",
    "        prediction_targets.append({\"CID.1\":cid1,\"CID.2\":cid2,\"Descriptors\":descriptors})\n",
    "    except KeyError:\n",
    "        continue\n",
    "prediction_targets[0]"
   ]
  },
  {
   "cell_type": "code",
   "execution_count": 15,
   "id": "d5baf80c-382f-4fd2-8503-dd7c7487960d",
   "metadata": {
    "tags": []
   },
   "outputs": [
    {
     "data": {
      "text/html": [
       "<div>\n",
       "<style scoped>\n",
       "    .dataframe tbody tr th:only-of-type {\n",
       "        vertical-align: middle;\n",
       "    }\n",
       "\n",
       "    .dataframe tbody tr th {\n",
       "        vertical-align: top;\n",
       "    }\n",
       "\n",
       "    .dataframe thead th {\n",
       "        text-align: right;\n",
       "    }\n",
       "</style>\n",
       "<table border=\"1\" class=\"dataframe\">\n",
       "  <thead>\n",
       "    <tr style=\"text-align: right;\">\n",
       "      <th></th>\n",
       "      <th>CID.1</th>\n",
       "      <th>CID.2</th>\n",
       "      <th>Descriptors</th>\n",
       "    </tr>\n",
       "  </thead>\n",
       "  <tbody>\n",
       "    <tr>\n",
       "      <th>28137</th>\n",
       "      <td>0</td>\n",
       "      <td>177</td>\n",
       "      <td>floral;pungent</td>\n",
       "    </tr>\n",
       "    <tr>\n",
       "      <th>28171</th>\n",
       "      <td>0</td>\n",
       "      <td>957</td>\n",
       "      <td>floral;waxy</td>\n",
       "    </tr>\n",
       "    <tr>\n",
       "      <th>247415</th>\n",
       "      <td>0</td>\n",
       "      <td>2879</td>\n",
       "      <td>floral</td>\n",
       "    </tr>\n",
       "    <tr>\n",
       "      <th>28042</th>\n",
       "      <td>0</td>\n",
       "      <td>3893</td>\n",
       "      <td>fatty;floral</td>\n",
       "    </tr>\n",
       "    <tr>\n",
       "      <th>28051</th>\n",
       "      <td>0</td>\n",
       "      <td>6544</td>\n",
       "      <td>floral;green</td>\n",
       "    </tr>\n",
       "    <tr>\n",
       "      <th>...</th>\n",
       "      <td>...</td>\n",
       "      <td>...</td>\n",
       "      <td>...</td>\n",
       "    </tr>\n",
       "    <tr>\n",
       "      <th>13126</th>\n",
       "      <td>152743294</td>\n",
       "      <td>26447</td>\n",
       "      <td>minty</td>\n",
       "    </tr>\n",
       "    <tr>\n",
       "      <th>13123</th>\n",
       "      <td>152743294</td>\n",
       "      <td>29025</td>\n",
       "      <td>camphoreous</td>\n",
       "    </tr>\n",
       "    <tr>\n",
       "      <th>9418</th>\n",
       "      <td>152743294</td>\n",
       "      <td>439263</td>\n",
       "      <td>mentholic</td>\n",
       "    </tr>\n",
       "    <tr>\n",
       "      <th>13125</th>\n",
       "      <td>152743294</td>\n",
       "      <td>11615984</td>\n",
       "      <td>cooling</td>\n",
       "    </tr>\n",
       "    <tr>\n",
       "      <th>13124</th>\n",
       "      <td>152743294</td>\n",
       "      <td>11967982</td>\n",
       "      <td>camphoreous</td>\n",
       "    </tr>\n",
       "  </tbody>\n",
       "</table>\n",
       "<p>266450 rows × 3 columns</p>\n",
       "</div>"
      ],
      "text/plain": [
       "            CID.1     CID.2     Descriptors\n",
       "28137           0       177  floral;pungent\n",
       "28171           0       957     floral;waxy\n",
       "247415          0      2879          floral\n",
       "28042           0      3893    fatty;floral\n",
       "28051           0      6544    floral;green\n",
       "...           ...       ...             ...\n",
       "13126   152743294     26447           minty\n",
       "13123   152743294     29025     camphoreous\n",
       "9418    152743294    439263       mentholic\n",
       "13125   152743294  11615984         cooling\n",
       "13124   152743294  11967982     camphoreous\n",
       "\n",
       "[266450 rows x 3 columns]"
      ]
     },
     "execution_count": 15,
     "metadata": {},
     "output_type": "execute_result"
    }
   ],
   "source": [
    "import pandas as pd\n",
    "prediction_targets_df = pd.DataFrame(prediction_targets).sort_values(by=[\"CID.1\",\"CID.2\"])\n",
    "prediction_targets_df.to_csv(\"pyrfume/prediction_targets_sisson_2024.csv\",index=False)\n",
    "prediction_targets_df"
   ]
  },
  {
   "cell_type": "code",
   "execution_count": 16,
   "id": "202df4d8-1f53-480e-a45a-693af711cbfc",
   "metadata": {
    "tags": []
   },
   "outputs": [
    {
     "ename": "SyntaxError",
     "evalue": "invalid syntax (<unknown>, line 1)",
     "output_type": "error",
     "traceback": [
      "Traceback \u001b[0;36m(most recent call last)\u001b[0m:\n",
      "\u001b[0m  File \u001b[1;32m~/miniconda3/envs/rdenv/lib/python3.11/site-packages/IPython/core/interactiveshell.py:3526\u001b[0m in \u001b[1;35mrun_code\u001b[0m\n    exec(code_obj, self.user_global_ns, self.user_ns)\u001b[0m\n",
      "\u001b[0m  Cell \u001b[1;32mIn[16], line 4\u001b[0m\n    df[\"Descriptors\"] = df[\"Descriptors\"].apply(literal_eval)\u001b[0m\n",
      "\u001b[0m  File \u001b[1;32m~/miniconda3/envs/rdenv/lib/python3.11/site-packages/pandas/core/series.py:4764\u001b[0m in \u001b[1;35mapply\u001b[0m\n    ).apply()\u001b[0m\n",
      "\u001b[0m  File \u001b[1;32m~/miniconda3/envs/rdenv/lib/python3.11/site-packages/pandas/core/apply.py:1209\u001b[0m in \u001b[1;35mapply\u001b[0m\n    return self.apply_standard()\u001b[0m\n",
      "\u001b[0m  File \u001b[1;32m~/miniconda3/envs/rdenv/lib/python3.11/site-packages/pandas/core/apply.py:1289\u001b[0m in \u001b[1;35mapply_standard\u001b[0m\n    mapped = obj._map_values(\u001b[0m\n",
      "\u001b[0m  File \u001b[1;32m~/miniconda3/envs/rdenv/lib/python3.11/site-packages/pandas/core/base.py:921\u001b[0m in \u001b[1;35m_map_values\u001b[0m\n    return algorithms.map_array(arr, mapper, na_action=na_action, convert=convert)\u001b[0m\n",
      "\u001b[0m  File \u001b[1;32m~/miniconda3/envs/rdenv/lib/python3.11/site-packages/pandas/core/algorithms.py:1814\u001b[0m in \u001b[1;35mmap_array\u001b[0m\n    return lib.map_infer(values, mapper, convert=convert)\u001b[0m\n",
      "\u001b[0m  File \u001b[1;32mlib.pyx:2926\u001b[0m in \u001b[1;35mpandas._libs.lib.map_infer\u001b[0m\n",
      "\u001b[0m  File \u001b[1;32m~/miniconda3/envs/rdenv/lib/python3.11/ast.py:64\u001b[0m in \u001b[1;35mliteral_eval\u001b[0m\n    node_or_string = parse(node_or_string.lstrip(\" \\t\"), mode='eval')\u001b[0m\n",
      "\u001b[0;36m  File \u001b[0;32m~/miniconda3/envs/rdenv/lib/python3.11/ast.py:50\u001b[0;36m in \u001b[0;35mparse\u001b[0;36m\n\u001b[0;31m    return compile(source, filename, mode, flags,\u001b[0;36m\n",
      "\u001b[0;36m  File \u001b[0;32m<unknown>:1\u001b[0;36m\u001b[0m\n\u001b[0;31m    floral;pungent\u001b[0m\n\u001b[0m          ^\u001b[0m\n\u001b[0;31mSyntaxError\u001b[0m\u001b[0;31m:\u001b[0m invalid syntax\n"
     ]
    }
   ],
   "source": [
    "from ast import literal_eval\n",
    "\n",
    "df = pd.read_csv(\"pyrfume/prediction_targets_sisson_2024.csv\")\n",
    "df[\"Descriptors\"] = df[\"Descriptors\"].apply(literal_eval)\n",
    "df"
   ]
  },
  {
   "cell_type": "code",
   "execution_count": null,
   "id": "3d457c5f-1471-4318-ad4c-15d8cf5877a5",
   "metadata": {
    "tags": []
   },
   "outputs": [],
   "source": [
    "# Generate index\n",
    "cid_to_smiles = {v:k for k,v in smiles_to_cid.items()}\n",
    "# Build dataframe\n",
    "molecules_df = pd.DataFrame(list(cid_to_smiles.items()),columns=[\"CID\",\"SMILES\"]).set_index(\"CID\")\n",
    "# Count frequency\n",
    "molecules_df[\"Frequency\"] = molecules_df[\"SMILES\"].map(all_smiles)\n",
    "# Order columns\n",
    "molecules_df = molecules_df[[\"Frequency\",\"SMILES\"]].sort_index()\n",
    "molecules_df.to_csv(\"pyrfume/molecules.csv\",index=False)\n",
    "molecules_df"
   ]
  }
 ],
 "metadata": {
  "kernelspec": {
   "display_name": "Python 3 (ipykernel)",
   "language": "python",
   "name": "python3"
  },
  "language_info": {
   "codemirror_mode": {
    "name": "ipython",
    "version": 3
   },
   "file_extension": ".py",
   "mimetype": "text/x-python",
   "name": "python",
   "nbconvert_exporter": "python",
   "pygments_lexer": "ipython3",
   "version": "3.11.5"
  }
 },
 "nbformat": 4,
 "nbformat_minor": 5
}
