{
 "cells": [
  {
   "cell_type": "code",
   "execution_count": null,
   "id": "5f910ad5-9740-49e5-975a-332426b04764",
   "metadata": {
    "tags": []
   },
   "outputs": [],
   "source": [
    "import os\n",
    "os.chdir(\"..\")\n",
    "os.listdir()"
   ]
  },
  {
   "cell_type": "code",
   "execution_count": 2,
   "id": "09eeb1f3-daef-47aa-9822-ee0d97edc7a7",
   "metadata": {
    "tags": []
   },
   "outputs": [
    {
     "data": {
      "text/plain": [
       "(266758,\n",
       " {'mol1': 'CC1=CC2C(C2(C)C)CC1C(=O)C',\n",
       "  'mol2': 'CCCC(CC)O',\n",
       "  'blend_notes': ['herbal']})"
      ]
     },
     "execution_count": 2,
     "metadata": {},
     "output_type": "execute_result"
    }
   ],
   "source": [
    "import json\n",
    "\n",
    "# Define a maximum allowable exponent to prevent overflow\n",
    "MAX_EXPONENT = 709  # Close to the upper limit for math.exp without overflow\n",
    "MIN_EXPONENT = -709  # To avoid underflow to 0\n",
    "\n",
    "with open(\"dataset/full_large.json\") as f:\n",
    "    full_data = json.load(f)\n",
    "\n",
    "full_data = [d for d in full_data if d[\"mol1\"] and d[\"mol2\"]]\n",
    "len(full_data), full_data[0]"
   ]
  },
  {
   "cell_type": "code",
   "execution_count": 3,
   "id": "67e13333-c773-4916-83f3-653a43a2234c",
   "metadata": {
    "tags": []
   },
   "outputs": [],
   "source": [
    "import graph.utils\n",
    "import collections\n",
    "\n",
    "all_edges = set()\n",
    "all_nodes = set()\n",
    "edge_to_notes = dict()\n",
    "node_to_edges = collections.defaultdict(set)\n",
    "\n",
    "for d in full_data:\n",
    "    edge = graph.utils.sort(d[\"mol1\"],d[\"mol2\"])\n",
    "    all_edges.add(edge)\n",
    "    edge_to_notes[edge] = graph.utils.canonize(d[\"blend_notes\"])\n",
    "\n",
    "    all_nodes.add(d[\"mol1\"])\n",
    "    node_to_edges[d[\"mol1\"]].add(edge)\n",
    "    \n",
    "    all_nodes.add(d[\"mol2\"])\n",
    "    node_to_edges[d[\"mol2\"]].add(edge)\n",
    "\n",
    "full_graph = collections.defaultdict(set)\n",
    "for n1, n2 in all_edges:\n",
    "    full_graph[n1].add(n2)\n",
    "    full_graph[n2].add(n1)\n"
   ]
  },
  {
   "cell_type": "code",
   "execution_count": 4,
   "id": "a26cb9da-0922-44dd-900b-e2f688eceeb5",
   "metadata": {
    "tags": []
   },
   "outputs": [],
   "source": [
    "import random\n",
    "\n",
    "def build_edges(all_nodes):\n",
    "    all_edges = set()\n",
    "    for node in all_nodes:\n",
    "        for other in full_graph[node]:\n",
    "            if not other in all_nodes:\n",
    "                continue\n",
    "            all_edges.add(graph.utils.sort(node,other))\n",
    "    return all_edges\n",
    "\n",
    "def random_split_carving(train_fraction):\n",
    "    train_nodes = set(random.sample(sorted(all_nodes),int(len(all_nodes)*train_fraction)))\n",
    "    test_nodes = all_nodes.difference(train_nodes)\n",
    "    \n",
    "    train_edges = build_edges(train_nodes)\n",
    "    test_edges = build_edges(test_nodes)\n",
    "\n",
    "    assert not train_nodes.intersection(test_nodes)\n",
    "    assert not train_edges.intersection(test_edges)\n",
    "    \n",
    "    return train_edges, test_edges"
   ]
  },
  {
   "cell_type": "code",
   "execution_count": 5,
   "id": "820082a1-a93c-4af9-8aab-d4e4a967d72c",
   "metadata": {
    "tags": []
   },
   "outputs": [
    {
     "name": "stdout",
     "output_type": "stream",
     "text": [
      "Using decay of 0.9892 from t = 50.000 -> 0.001 over 1,000 steps\n",
      "train/test: 0.5/0.5:, steps: 1000. temperature: 50. decay:0.9892385449788692.\n"
     ]
    },
    {
     "name": "stderr",
     "output_type": "stream",
     "text": [
      "100%|█| 1000/1000 [00:07<00:00, 130.26it/s, Covered=96, Fraction=0.531, Temperat\n"
     ]
    },
    {
     "name": "stdout",
     "output_type": "stream",
     "text": [
      "Skipped: 515, Hits: 485, Train Edges: 57338, Test Edges: 84436, Covered: 96\n"
     ]
    }
   ],
   "source": [
    "import tqdm\n",
    "import math\n",
    "data_path = \"notebooks/carvings\"\n",
    "\n",
    "def calculate_decay_constant(initial_temp, final_temp, steps):\n",
    "    \"\"\"\n",
    "    Calculate the decay constant given the initial temperature, final temperature, and steps.\n",
    "\n",
    "    :param initial_temp: Initial temperature (e.g., 50)\n",
    "    :param final_temp: Final temperature (e.g., 0.001)\n",
    "    :param steps: Number of steps (e.g., 100)\n",
    "    :return: Decay constant\n",
    "    \"\"\"\n",
    "    decay_constant = math.exp(math.log(final_temp / initial_temp) / steps)\n",
    "    return decay_constant\n",
    "\n",
    "def make_dataset(edges):\n",
    "    return [{\"mol1\":m1,\"mol2\":m2,\"blend_notes\":edge_to_notes[(m1,m2)]} for (m1,m2) in edges]\n",
    "\n",
    "def save_carving(fname,train_edges,test_edges,covered):\n",
    "    result = {\"train\":make_dataset(train_edges),\"test\":make_dataset(test_edges),\"covered_notes\":covered}\n",
    "    with open(os.path.join(data_path,fname),\"w\") as f:\n",
    "            json.dump(result,f)\n",
    "\n",
    "def anneal_better_coverage(fname, train_fraction, steps = 10000, initial_temp = 50, final_temp = 1e-3):\n",
    "    def build_covered(edges):\n",
    "        covered = collections.Counter()\n",
    "        for e in edges:\n",
    "            covered.update(edge_to_notes[e])\n",
    "        return covered\n",
    "\n",
    "    def get_data(nodes):\n",
    "        edges = build_edges(nodes)\n",
    "        return nodes, edges, build_covered(edges)\n",
    "\n",
    "    def get_relevant_edges(new_nodes,n):\n",
    "        edges = node_to_edges[n]\n",
    "        return {(n1,n2) for (n1,n2) in edges if n1 in new_nodes and n2 in new_nodes}\n",
    "\n",
    "    def update_data(nodes,edges,covered,to_add,to_remove):\n",
    "        remove_edges = get_relevant_edges(nodes,to_remove)\n",
    "        new_nodes = {n for n in nodes if n!=to_remove}\n",
    "\n",
    "        new_nodes.add(to_add)\n",
    "        add_edges = get_relevant_edges(new_nodes,to_add)\n",
    "\n",
    "        lost = build_covered(remove_edges)\n",
    "        gained = build_covered(add_edges)\n",
    "\n",
    "        new_edges = edges.union(add_edges).difference(remove_edges)\n",
    "        new_covered = covered - lost + gained\n",
    "        return new_nodes, new_edges, new_covered\n",
    "\n",
    "    test_fraction = 1 - train_fraction\n",
    "    all_covered = set()\n",
    "    i = 0\n",
    "    train_nodes = set(random.sample(sorted(all_nodes),int(len(all_nodes)*train_fraction)))\n",
    "    test_nodes = all_nodes.difference(train_nodes)\n",
    "    \n",
    "    train_nodes, train_edges, train_covered = get_data(train_nodes)\n",
    "    test_nodes, test_edges, test_covered = get_data(test_nodes)\n",
    "\n",
    "    temperature = initial_temp\n",
    "    decay = calculate_decay_constant(initial_temp, final_temp, steps)\n",
    "    print(f\"Using decay of {decay:.4f} from t = {initial_temp:.3f} -> {final_temp:.3f} over {steps:,} steps\")\n",
    "    skipped = 0\n",
    "    hits = 0\n",
    "\n",
    "    print(f\"train/test: {train_fraction}/{test_fraction}:, steps: {steps}. temperature: {temperature}. decay:{decay}.\")\n",
    "    with tqdm.tqdm(total=steps, smoothing=0) as pbar:\n",
    "        while i < steps:\n",
    "            fraction = i/steps\n",
    "            covered = set(train_covered.keys()).intersection(set(test_covered.keys()))\n",
    "            old_covered = len(covered)\n",
    "            fraction = (len(train_edges)+len(test_edges))/len(all_edges)\n",
    "            i += 1\n",
    "            temperature *= decay\n",
    "\n",
    "            pbar.update(1)\n",
    "            pbar.set_postfix({\"Covered\":len(covered),\"Fraction\":fraction,\"Temperature\":temperature})\n",
    "\n",
    "            x1,x2 = random.choice(list(train_nodes)), random.choice(list(test_nodes))\n",
    "            new_train_nodes, new_train_edges, new_train_covered = update_data(train_nodes,train_edges,train_covered,x2,x1)\n",
    "            new_test_nodes, new_test_edges, new_test_covered = update_data(test_nodes,test_edges,test_covered,x1,x2)\n",
    "\n",
    "            new_covered = len(set(new_train_covered.keys()).intersection(set(new_test_covered.keys())))\n",
    "\n",
    "            if new_covered < old_covered:\n",
    "                skipped += 1\n",
    "                continue\n",
    "\n",
    "\n",
    "             # Check if the new configuration results in fewer edges\n",
    "            delta = (len(new_train_edges) - len(train_edges)) + (len(new_test_edges) - len(test_edges))\n",
    "            if delta < 0: \n",
    "                # Calculate the exponent and cap it\n",
    "                exponent = delta / temperature  # delta is negative here\n",
    "                exponent = max(min(exponent, MAX_EXPONENT), MIN_EXPONENT)\n",
    "\n",
    "                # Calculate the acceptance probability with the capped exponent\n",
    "                acceptance_prob = math.exp(exponent)\n",
    "\n",
    "                # Decide whether to continue based on acceptance probability\n",
    "                if random.random() > acceptance_prob:\n",
    "                    skipped += 1\n",
    "                    continue\n",
    "\n",
    "            train_nodes, train_edges, train_covered = new_train_nodes, new_train_edges, new_train_covered\n",
    "            test_nodes, test_edges, test_covered = new_test_nodes, new_test_edges, new_test_covered\n",
    "            hits += 1\n",
    "\n",
    "    train_covered_set = {k for k,v in train_covered.most_common() if v>0}\n",
    "    test_covered_set = {k for k,v in test_covered.most_common() if v>0}\n",
    "    covered = list(train_covered_set.intersection(test_covered_set))\n",
    "    print(f\"Skipped: {skipped}, Hits: {hits}, Train Edges: {len(train_edges)}, Test Edges: {len(test_edges)}, Covered: {len(covered)}\")\n",
    "    save_carving(fname,train_edges,test_edges,covered)\n",
    "            \n",
    "anneal_better_coverage(\"example.json\",.5,steps=1000)"
   ]
  }
 ],
 "metadata": {
  "kernelspec": {
   "display_name": "Python 3 (ipykernel)",
   "language": "python",
   "name": "python3"
  },
  "language_info": {
   "codemirror_mode": {
    "name": "ipython",
    "version": 3
   },
   "file_extension": ".py",
   "mimetype": "text/x-python",
   "name": "python",
   "nbconvert_exporter": "python",
   "pygments_lexer": "ipython3",
   "version": "3.11.5"
  }
 },
 "nbformat": 4,
 "nbformat_minor": 5
}
