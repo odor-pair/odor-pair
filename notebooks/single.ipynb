{
 "cells": [
  {
   "cell_type": "code",
   "execution_count": 12,
   "id": "6d94d108-825b-453e-8fe4-124cc9d7ce26",
   "metadata": {
    "tags": []
   },
   "outputs": [
    {
     "data": {
      "text/plain": [
       "{'edge': ['CCCCCCCCCCCC(OC)OC', 'CCC/C=C\\\\CO'], 'blend_notes': ['green']}"
      ]
     },
     "execution_count": 12,
     "metadata": {},
     "output_type": "execute_result"
    }
   ],
   "source": [
    "import json\n",
    "with open(\"../dataset/single_fold.json\") as f:\n",
    "    data = json.load(f)\n",
    "data[\"train\"][0]"
   ]
  },
  {
   "cell_type": "code",
   "execution_count": 18,
   "id": "b79bcd89-8bff-4f10-baca-5804222f5071",
   "metadata": {
    "tags": []
   },
   "outputs": [
    {
     "data": {
      "text/plain": [
       "{'mol1': 'CCCCC/C=C/C(=O)OC',\n",
       " 'mol1_notes': ['violet',\n",
       "  'sweet',\n",
       "  'oily',\n",
       "  'melon',\n",
       "  'pear',\n",
       "  'hairy',\n",
       "  'costus',\n",
       "  'fruity',\n",
       "  'violet leaf',\n",
       "  'waxy',\n",
       "  'fresh',\n",
       "  'green'],\n",
       " 'mol2': 'CCCCCOC(=O)CCC',\n",
       " 'mol2_notes': ['cherry',\n",
       "  'sweet',\n",
       "  'pineapple',\n",
       "  'fruity',\n",
       "  'banana',\n",
       "  'tropical'],\n",
       " 'blend_notes': ['animal', 'fruity', 'waxy']}"
      ]
     },
     "execution_count": 18,
     "metadata": {},
     "output_type": "execute_result"
    }
   ],
   "source": [
    "with open(\"../dataset/full.json\") as f:\n",
    "    full_data = json.load(f)\n",
    "full_data[0]"
   ]
  },
  {
   "cell_type": "code",
   "execution_count": 20,
   "id": "a2cb607f-b259-4172-9d29-38b7b877df1d",
   "metadata": {
    "tags": []
   },
   "outputs": [],
   "source": [
    "train_set = set()\n",
    "test_set = set()\n",
    "\n",
    "for d in data[\"train\"]:\n",
    "    train_set.update(d[\"edge\"])\n",
    "\n",
    "for d in data[\"test\"]:\n",
    "    test_set.update(d[\"edge\"])\n"
   ]
  },
  {
   "cell_type": "code",
   "execution_count": 21,
   "id": "c2c1a526-0d2c-433d-ab74-838f947e4eb1",
   "metadata": {
    "tags": []
   },
   "outputs": [],
   "source": [
    "mol_notes = dict()\n",
    "for d in full_data:\n",
    "    mol_notes[d[\"mol1\"]] = d[\"mol1_notes\"]\n",
    "    mol_notes[d[\"mol2\"]] = d[\"mol2_notes\"]\n"
   ]
  },
  {
   "cell_type": "code",
   "execution_count": 37,
   "id": "4622b854-523c-4504-a73a-64a15f84f4de",
   "metadata": {
    "tags": []
   },
   "outputs": [
    {
     "data": {
      "text/plain": [
       "60"
      ]
     },
     "execution_count": 37,
     "metadata": {},
     "output_type": "execute_result"
    }
   ],
   "source": [
    "single_notes = ['aldehydic', 'alliaceous', 'amber', 'animal', 'anise', 'aromatic', 'balsamic', 'berry', 'bitter', 'burnt', 'buttery', 'camphoreous', 'caramellic', 'cheesy', 'chocolate', 'citrus', 'clean', 'cocoa', 'coconut', 'coffee', 'cooling', 'coumarinic', 'creamy', 'dairy', 'earthy', 'ethereal', 'fatty', 'fermented', 'floral', 'fresh', 'fruity', 'green', 'herbal', 'honey', 'meaty', 'medicinal', 'melon', 'minty', 'musk', 'musty', 'nutty', 'oily', 'onion', 'orris', 'phenolic', 'powdery', 'roasted', 'rummy', 'soapy', 'solvent', 'sour', 'spicy', 'sulfurous', 'sweet', 'tropical', 'vanilla', 'vegetable', 'waxy', 'winey', 'woody']\n",
    "len(single_notes)"
   ]
  },
  {
   "cell_type": "code",
   "execution_count": 54,
   "id": "06ef6d84-5b51-4adb-8dda-e86dd707f873",
   "metadata": {
    "tags": []
   },
   "outputs": [
    {
     "name": "stderr",
     "output_type": "stream",
     "text": [
      "100%|███████████████████████████████████| 1471/1471 [00:01<00:00, 1035.90it/s]\n",
      "100%|████████████████████████████████████| 1468/1468 [00:04<00:00, 360.30it/s]\n"
     ]
    },
    {
     "data": {
      "text/plain": [
       "(1446, 1434)"
      ]
     },
     "execution_count": 54,
     "metadata": {},
     "output_type": "execute_result"
    }
   ],
   "source": [
    "import tqdm\n",
    "from ogb.utils import smiles2graph\n",
    "import torch\n",
    "import torch_geometric as pyg\n",
    "\n",
    "def multi_hot(notes, all_notes):\n",
    "    notes = [n for n in notes if n in all_notes]\n",
    "    indices = torch.tensor([all_notes.index(n) for n in notes])\n",
    "    if len(indices) == 0:\n",
    "        # Occurs when the notes in the pair were removed due to infrequency.\n",
    "        raise AttributeError(\"Found no valid notes.\")\n",
    "    one_hots = torch.nn.functional.one_hot(indices, len(all_notes))\n",
    "    return one_hots.sum(dim=0)\n",
    "    \n",
    "def to_torch(smiles):\n",
    "    graph = smiles2graph(smiles)\n",
    "    tensor_keys = [\"edge_index\", 'edge_feat', 'node_feat']\n",
    "    for key in tensor_keys:\n",
    "        graph[key] = torch.tensor(graph[key])\n",
    "    return graph\n",
    "    \n",
    "def make_data(mol_set):\n",
    "    graph_data = []\n",
    "    for smiles in tqdm.tqdm(mol_set):\n",
    "        try:\n",
    "            graph = to_torch(smiles)\n",
    "            graph[\"y\"] = multi_hot(mol_notes[smiles],single_notes)\n",
    "            gd = pyg.data.Data(x=graph[\"node_feat\"].float(),edge_attr=graph[\"edge_feat\"],edge_index=graph[\"edge_index\"],y=graph[\"y\"].float(),smiles=smiles)\n",
    "            graph_data.append(gd)\n",
    "        except AttributeError:\n",
    "            continue\n",
    "            \n",
    "    return graph_data\n",
    "\n",
    "train_data = make_data(train_set)\n",
    "test_data = make_data(test_set)\n",
    "len(train_data), len(test_data)"
   ]
  },
  {
   "cell_type": "code",
   "execution_count": 42,
   "id": "d8b1a847-c3fb-4c1d-9096-9ddc6e3658be",
   "metadata": {
    "tags": []
   },
   "outputs": [
    {
     "data": {
      "text/plain": [
       "'/Users/laurasisson/odor-pair'"
      ]
     },
     "execution_count": 42,
     "metadata": {},
     "output_type": "execute_result"
    }
   ],
   "source": [
    "import os\n",
    "os.chdir(\"..\")\n",
    "os.getcwd()"
   ]
  },
  {
   "cell_type": "code",
   "execution_count": 53,
   "id": "e12c0d07-bf59-4755-b62f-e11998a414d7",
   "metadata": {
    "tags": []
   },
   "outputs": [],
   "source": [
    "import single.data\n",
    "\n",
    "train_fname = \"trainsingles.pt\"\n",
    "test_fname = \"testsingles.pt\"\n",
    "\n",
    "single.data.save(train_data,train_fname)\n",
    "single.data.save(test_data,test_fname)"
   ]
  }
 ],
 "metadata": {
  "kernelspec": {
   "display_name": "Python 3 (ipykernel)",
   "language": "python",
   "name": "python3"
  },
  "language_info": {
   "codemirror_mode": {
    "name": "ipython",
    "version": 3
   },
   "file_extension": ".py",
   "mimetype": "text/x-python",
   "name": "python",
   "nbconvert_exporter": "python",
   "pygments_lexer": "ipython3",
   "version": "3.11.5"
  }
 },
 "nbformat": 4,
 "nbformat_minor": 5
}
