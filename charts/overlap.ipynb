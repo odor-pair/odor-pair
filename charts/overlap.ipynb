{
 "cells": [
  {
   "cell_type": "code",
   "execution_count": 1,
   "id": "7a28255c-ed13-4204-b92d-c49b83279ce9",
   "metadata": {
    "tags": []
   },
   "outputs": [
    {
     "data": {
      "text/plain": [
       "'/Users/laurasisson/odor-pair'"
      ]
     },
     "execution_count": 1,
     "metadata": {},
     "output_type": "execute_result"
    }
   ],
   "source": [
    "import os\n",
    "os.chdir(\"..\")\n",
    "os.getcwd()"
   ]
  },
  {
   "cell_type": "code",
   "execution_count": 2,
   "id": "2043fec9-0034-4022-bc50-11dff4d77e0e",
   "metadata": {
    "tags": []
   },
   "outputs": [
    {
     "data": {
      "text/plain": [
       "(166814,\n",
       " {'mol1': 'CCCCC/C=C/C(=O)OC',\n",
       "  'mol1_notes': ['violet',\n",
       "   'sweet',\n",
       "   'oily',\n",
       "   'melon',\n",
       "   'pear',\n",
       "   'hairy',\n",
       "   'costus',\n",
       "   'fruity',\n",
       "   'violet leaf',\n",
       "   'waxy',\n",
       "   'fresh',\n",
       "   'green'],\n",
       "  'mol2': 'CCCCCOC(=O)CCC',\n",
       "  'mol2_notes': ['cherry',\n",
       "   'sweet',\n",
       "   'pineapple',\n",
       "   'fruity',\n",
       "   'banana',\n",
       "   'tropical'],\n",
       "  'blend_notes': ['animal', 'fruity', 'waxy']})"
      ]
     },
     "execution_count": 2,
     "metadata": {},
     "output_type": "execute_result"
    }
   ],
   "source": [
    "import json\n",
    "with open(\"dataset/full.json\") as f:\n",
    "    data = json.load(f)\n",
    "len(data), data[0]"
   ]
  },
  {
   "cell_type": "code",
   "execution_count": 3,
   "id": "710cc251-2eec-4eac-8c13-48aa5c739cac",
   "metadata": {
    "tags": []
   },
   "outputs": [
    {
     "data": {
      "text/plain": [
       "'Before Canonicalization: |Blend Notes| = 109. |Single Notes| = 496.'"
      ]
     },
     "execution_count": 3,
     "metadata": {},
     "output_type": "execute_result"
    }
   ],
   "source": [
    "import graph.utils\n",
    "import single.utils\n",
    "\n",
    "all_blend_notes = set()\n",
    "all_single_notes = set()\n",
    "for d in data:\n",
    "    all_blend_notes.update(d[\"blend_notes\"])\n",
    "    all_single_notes.update(d[\"mol1_notes\"])\n",
    "    all_single_notes.update(d[\"mol2_notes\"])\n",
    "\n",
    "f\"Before Canonicalization: |Blend Notes| = {len(all_blend_notes)}. |Single Notes| = {len(all_single_notes)}.\""
   ]
  },
  {
   "cell_type": "code",
   "execution_count": 4,
   "id": "f6f7832c-a387-4e25-aa62-1f95aa62e0e3",
   "metadata": {
    "tags": []
   },
   "outputs": [
    {
     "data": {
      "text/plain": [
       "'After Canonicalization: |Blend Notes| = 104. |Single Notes| = 398.'"
      ]
     },
     "execution_count": 4,
     "metadata": {},
     "output_type": "execute_result"
    }
   ],
   "source": [
    "all_blend_notes = list(graph.utils.canonize(all_blend_notes))\n",
    "all_single_notes = list(single.utils.canonize(all_single_notes))\n",
    "    \n",
    "f\"After Canonicalization: |Blend Notes| = {len(all_blend_notes)}. |Single Notes| = {len(all_single_notes)}.\""
   ]
  },
  {
   "cell_type": "code",
   "execution_count": 5,
   "id": "136aa2c4-7414-4105-afdb-72393b9051de",
   "metadata": {
    "tags": []
   },
   "outputs": [
    {
     "data": {
      "text/plain": [
       "\"The following notes appear only in blends: {'minty', 'anise'}.\""
      ]
     },
     "execution_count": 5,
     "metadata": {},
     "output_type": "execute_result"
    }
   ],
   "source": [
    "f\"The following notes appear only in blends: {set(all_blend_notes).difference(set(all_single_notes))}.\""
   ]
  },
  {
   "cell_type": "code",
   "execution_count": 6,
   "id": "f9adc7bf-32aa-47bd-bd3f-9614b688b61a",
   "metadata": {
    "tags": []
   },
   "outputs": [
    {
     "data": {
      "text/plain": [
       "'Found a total of 400 notes.'"
      ]
     },
     "execution_count": 6,
     "metadata": {},
     "output_type": "execute_result"
    }
   ],
   "source": [
    "all_notes = set(all_blend_notes).union(set(all_single_notes))\n",
    "f\"Found a total of {len(all_notes)} notes.\""
   ]
  },
  {
   "cell_type": "code",
   "execution_count": 7,
   "id": "9df70dc8-58ca-44c7-b2e6-da9568946b8f",
   "metadata": {
    "tags": []
   },
   "outputs": [
    {
     "data": {
      "text/plain": [
       "'Found a total of 102 notes in common.'"
      ]
     },
     "execution_count": 7,
     "metadata": {},
     "output_type": "execute_result"
    }
   ],
   "source": [
    "common_notes = set(all_blend_notes).intersection(set(all_single_notes))\n",
    "f\"Found a total of {len(common_notes)} notes in common.\""
   ]
  },
  {
   "cell_type": "code",
   "execution_count": 74,
   "id": "57bff59f-fc04-470c-95cb-0055019672c6",
   "metadata": {
    "tags": []
   },
   "outputs": [
    {
     "data": {
      "application/vnd.jupyter.widget-view+json": {
       "model_id": "1054e9148e634b5da2bf1bc2c64849dd",
       "version_major": 2,
       "version_minor": 0
      },
      "text/plain": [
       "  0%|          | 0/166814 [00:00<?, ?it/s]"
      ]
     },
     "metadata": {},
     "output_type": "display_data"
    }
   ],
   "source": [
    "from tqdm.notebook import tqdm\n",
    "unions = []\n",
    "intersections = []\n",
    "blends = []\n",
    "for d in tqdm(data):\n",
    "    blnd = set(graph.utils.canonize(d[\"blend_notes\"]))\n",
    "    if not blnd:\n",
    "        continue\n",
    "\n",
    "    n1 = set(single.utils.canonize(d[\"mol1_notes\"]))\n",
    "    n2 = set(single.utils.canonize(d[\"mol2_notes\"]))\n",
    "    \n",
    "    unions.append(n1.union(n2))\n",
    "    intersections.append(n1.intersection(n2))\n",
    "    blends.append(blnd)\n",
    "assert len(unions) == len(intersections) and len(intersections) == len(blends)"
   ]
  },
  {
   "cell_type": "code",
   "execution_count": 75,
   "id": "4245926f-a80f-4d1a-a63c-3d93bde559b2",
   "metadata": {
    "tags": []
   },
   "outputs": [
    {
     "data": {
      "text/plain": [
       "'Union <-> Blend Jaccard = 0.12. Intersection <-> Blend Jaccard = 0.24.'"
      ]
     },
     "execution_count": 75,
     "metadata": {},
     "output_type": "execute_result"
    }
   ],
   "source": [
    "import numpy as np\n",
    "def jaccard(s1,s2):\n",
    "    return len(s1.intersection(s2)) / len(s1.union(s2))\n",
    "union_jaccard = np.mean([jaccard(union,blend) for union, blend in zip(unions,blends)])\n",
    "intersection_jaccard = np.mean([jaccard(intersection,blend) for intersection, blend in zip(intersections,blends)])\n",
    "f\"Union <-> Blend Jaccard = {union_jaccard:.2f}. Intersection <-> Blend Jaccard = {intersection_jaccard:.2f}.\""
   ]
  },
  {
   "cell_type": "code",
   "execution_count": 84,
   "id": "05b1b1f2-f63b-43e9-8a5c-84dead349dc2",
   "metadata": {
    "tags": []
   },
   "outputs": [
    {
     "data": {
      "text/plain": [
       "\"Example: Single notes = {'fruity', 'sweet'}. Pair notes = {'animal', 'fruity', 'waxy'}. Emergent notes = {'animal'}. Suppressed note = {'banana', 'cherry', 'leafy', 'pineapple', 'tropical', 'pear', 'hairy', 'sweet', 'fresh', 'green', 'violet', 'oily', 'melon', 'costus'}.\""
      ]
     },
     "execution_count": 84,
     "metadata": {},
     "output_type": "execute_result"
    }
   ],
   "source": [
    "emergences = []\n",
    "suppressions = []\n",
    "suppression_intersections = []\n",
    "\n",
    "for union, blend in zip(unions,blends):\n",
    "    emergences.append(blend.difference(union))\n",
    "    suppressions.append(union.difference(blend))\n",
    "    suppression_intersections.append(union.intersection(blend))\n",
    "    \n",
    "f\"Example: Single notes = {intersections[0]}. Pair notes = {blends[0]}. Emergent notes = {emergences[0]}. Suppressed note = {suppressions[0]}.\""
   ]
  },
  {
   "cell_type": "code",
   "execution_count": 86,
   "id": "f5ea5120-2b16-4992-8b05-1a827152b518",
   "metadata": {
    "tags": []
   },
   "outputs": [
    {
     "data": {
      "text/plain": [
       "'For the average blend, we get = 0.18 new notes, and lose 1.26 notes.'"
      ]
     },
     "execution_count": 86,
     "metadata": {},
     "output_type": "execute_result"
    }
   ],
   "source": [
    "f\"For the average blend, we get = {np.mean([len(x) for x in emergences]):.2f} new notes, and lose {np.mean([len(x) for x in suppression_intersections]):.2f} notes.\""
   ]
  },
  {
   "cell_type": "code",
   "execution_count": 79,
   "id": "bc323683-15e0-4cbb-95f1-512f11e4b58d",
   "metadata": {
    "tags": []
   },
   "outputs": [],
   "source": [
    "from collections import Counter\n",
    "\n",
    "# Calculate baseline frequency of notes in individual molecules\n",
    "baseline_individual_freq = Counter(note for union in unions for note in union)\n",
    "\n",
    "# Calculate baseline frequency of notes in blends\n",
    "baseline_blend_freq = Counter(note for blend in blends for note in blend)\n",
    "\n",
    "# Calculate raw frequency of emergent and suppressed notes\n",
    "emergence_freq = Counter(note for emerg in emergences for note in emerg if note in common_notes)\n",
    "suppression_freq = Counter(note for supp in suppressions for note in supp if note in common_notes)"
   ]
  },
  {
   "cell_type": "code",
   "execution_count": 80,
   "id": "65ff0823-6fdd-4c12-9f8b-c1609a2c5e56",
   "metadata": {
    "tags": []
   },
   "outputs": [],
   "source": [
    "for note in common_notes:\n",
    "    # A note can appear in the blend if:\n",
    "    #  * It appeared in the individual molecules and wasn't suppressed\n",
    "    #  * It emerged\n",
    "    appearing_freq = (baseline_individual_freq[note] - suppression_freq[note])\n",
    "    assert appearing_freq + emergence_freq[note] == baseline_blend_freq[note] "
   ]
  },
  {
   "cell_type": "code",
   "execution_count": 82,
   "id": "85c3eece-fa6c-4d3d-85cc-12ecfcabc9dd",
   "metadata": {
    "tags": []
   },
   "outputs": [],
   "source": [
    "suppressed_ratio = dict()\n",
    "emerge_ratio = dict()\n",
    "for note in common_notes:\n",
    "    # Ratio of # note is suppressed to # note isn't suppressed (appears in blend and wasn't an emergence)\n",
    "    not_suppressed = (baseline_blend_freq[note] - emergence_freq[note])\n",
    "    suppressed_ratio[note] = suppression_freq[note] / not_suppressed if not_suppressed > 0 else float('inf')\n",
    "        \n",
    "    # Ratio of # note emergences to # note does not emerge (appears in single molecules and wasn't suppressed)\n",
    "    not_emergent = (baseline_individual_freq[note] - suppression_freq[note])\n",
    "    emerge_ratio[note] = emergence_freq[note] / not_emergent if not_emergent > 0 else float('inf')\n"
   ]
  },
  {
   "cell_type": "code",
   "execution_count": 83,
   "id": "a6317563-315a-49e9-826a-69f4771d450e",
   "metadata": {
    "tags": []
   },
   "outputs": [
    {
     "data": {
      "text/html": [
       "<div>\n",
       "<style scoped>\n",
       "    .dataframe tbody tr th:only-of-type {\n",
       "        vertical-align: middle;\n",
       "    }\n",
       "\n",
       "    .dataframe tbody tr th {\n",
       "        vertical-align: top;\n",
       "    }\n",
       "\n",
       "    .dataframe thead th {\n",
       "        text-align: right;\n",
       "    }\n",
       "</style>\n",
       "<table border=\"1\" class=\"dataframe\">\n",
       "  <thead>\n",
       "    <tr style=\"text-align: right;\">\n",
       "      <th></th>\n",
       "      <th>Note</th>\n",
       "      <th>Frequency</th>\n",
       "      <th>Emergence Odds-Ratio</th>\n",
       "      <th>Suppression Odds-Ratio</th>\n",
       "    </tr>\n",
       "  </thead>\n",
       "  <tbody>\n",
       "    <tr>\n",
       "      <th>0</th>\n",
       "      <td>fruity</td>\n",
       "      <td>50409</td>\n",
       "      <td>0.043125</td>\n",
       "      <td>1.173451</td>\n",
       "    </tr>\n",
       "    <tr>\n",
       "      <th>1</th>\n",
       "      <td>floral</td>\n",
       "      <td>47627</td>\n",
       "      <td>0.132924</td>\n",
       "      <td>0.963344</td>\n",
       "    </tr>\n",
       "    <tr>\n",
       "      <th>2</th>\n",
       "      <td>green</td>\n",
       "      <td>29375</td>\n",
       "      <td>0.038500</td>\n",
       "      <td>2.617302</td>\n",
       "    </tr>\n",
       "    <tr>\n",
       "      <th>3</th>\n",
       "      <td>waxy</td>\n",
       "      <td>11092</td>\n",
       "      <td>0.155657</td>\n",
       "      <td>4.086164</td>\n",
       "    </tr>\n",
       "    <tr>\n",
       "      <th>4</th>\n",
       "      <td>herbal</td>\n",
       "      <td>9157</td>\n",
       "      <td>0.205503</td>\n",
       "      <td>4.438125</td>\n",
       "    </tr>\n",
       "    <tr>\n",
       "      <th>...</th>\n",
       "      <td>...</td>\n",
       "      <td>...</td>\n",
       "      <td>...</td>\n",
       "      <td>...</td>\n",
       "    </tr>\n",
       "    <tr>\n",
       "      <th>97</th>\n",
       "      <td>pine</td>\n",
       "      <td>13</td>\n",
       "      <td>0.000000</td>\n",
       "      <td>419.846154</td>\n",
       "    </tr>\n",
       "    <tr>\n",
       "      <th>98</th>\n",
       "      <td>peach</td>\n",
       "      <td>10</td>\n",
       "      <td>0.000000</td>\n",
       "      <td>1069.400000</td>\n",
       "    </tr>\n",
       "    <tr>\n",
       "      <th>99</th>\n",
       "      <td>ammoniacal</td>\n",
       "      <td>9</td>\n",
       "      <td>0.000000</td>\n",
       "      <td>7.777778</td>\n",
       "    </tr>\n",
       "    <tr>\n",
       "      <th>100</th>\n",
       "      <td>hay</td>\n",
       "      <td>2</td>\n",
       "      <td>inf</td>\n",
       "      <td>inf</td>\n",
       "    </tr>\n",
       "    <tr>\n",
       "      <th>101</th>\n",
       "      <td>salty</td>\n",
       "      <td>1</td>\n",
       "      <td>inf</td>\n",
       "      <td>inf</td>\n",
       "    </tr>\n",
       "  </tbody>\n",
       "</table>\n",
       "<p>102 rows × 4 columns</p>\n",
       "</div>"
      ],
      "text/plain": [
       "           Note  Frequency  Emergence Odds-Ratio  Suppression Odds-Ratio\n",
       "0        fruity      50409              0.043125                1.173451\n",
       "1        floral      47627              0.132924                0.963344\n",
       "2         green      29375              0.038500                2.617302\n",
       "3          waxy      11092              0.155657                4.086164\n",
       "4        herbal       9157              0.205503                4.438125\n",
       "..          ...        ...                   ...                     ...\n",
       "97         pine         13              0.000000              419.846154\n",
       "98        peach         10              0.000000             1069.400000\n",
       "99   ammoniacal          9              0.000000                7.777778\n",
       "100         hay          2                   inf                     inf\n",
       "101       salty          1                   inf                     inf\n",
       "\n",
       "[102 rows x 4 columns]"
      ]
     },
     "execution_count": 83,
     "metadata": {},
     "output_type": "execute_result"
    }
   ],
   "source": [
    "import pandas as pd\n",
    "\n",
    "csv_data = []\n",
    "for note in common_notes:\n",
    "    csv_data.append({\n",
    "        'Note': note,\n",
    "        'Frequency': baseline_blend_freq[note],\n",
    "        'Emergence Odds-Ratio': emerge_ratio[note],\n",
    "        'Suppression Odds-Ratio': suppressed_ratio[note]\n",
    "    })\n",
    "\n",
    "# Step 3: Create a DataFrame and sort by `Baseline Blend Frequency`\n",
    "df = pd.DataFrame(csv_data)\n",
    "df = df.sort_values(by='Frequency', ascending=False)\n",
    "df = df.reset_index(drop=True)\n",
    "\n",
    "# Step 4: Save to CSV\n",
    "df.to_csv('charts/csv/notes_emergence_suppression.csv', index=False)\n",
    "\n",
    "df"
   ]
  }
 ],
 "metadata": {
  "kernelspec": {
   "display_name": "Python 3 (ipykernel)",
   "language": "python",
   "name": "python3"
  },
  "language_info": {
   "codemirror_mode": {
    "name": "ipython",
    "version": 3
   },
   "file_extension": ".py",
   "mimetype": "text/x-python",
   "name": "python",
   "nbconvert_exporter": "python",
   "pygments_lexer": "ipython3",
   "version": "3.11.5"
  }
 },
 "nbformat": 4,
 "nbformat_minor": 5
}
