{
 "cells": [
  {
   "cell_type": "code",
   "execution_count": 1,
   "id": "7a28255c-ed13-4204-b92d-c49b83279ce9",
   "metadata": {
    "tags": []
   },
   "outputs": [
    {
     "data": {
      "text/plain": [
       "'/Users/laurasisson/odor-pair'"
      ]
     },
     "execution_count": 1,
     "metadata": {},
     "output_type": "execute_result"
    }
   ],
   "source": [
    "import os\n",
    "os.chdir(\"..\")\n",
    "os.getcwd()"
   ]
  },
  {
   "cell_type": "code",
   "execution_count": 2,
   "id": "2043fec9-0034-4022-bc50-11dff4d77e0e",
   "metadata": {
    "tags": []
   },
   "outputs": [
    {
     "data": {
      "text/plain": [
       "(166814,\n",
       " {'mol1': 'CCCCC/C=C/C(=O)OC',\n",
       "  'mol1_notes': ['violet',\n",
       "   'sweet',\n",
       "   'oily',\n",
       "   'melon',\n",
       "   'pear',\n",
       "   'hairy',\n",
       "   'costus',\n",
       "   'fruity',\n",
       "   'violet leaf',\n",
       "   'waxy',\n",
       "   'fresh',\n",
       "   'green'],\n",
       "  'mol2': 'CCCCCOC(=O)CCC',\n",
       "  'mol2_notes': ['cherry',\n",
       "   'sweet',\n",
       "   'pineapple',\n",
       "   'fruity',\n",
       "   'banana',\n",
       "   'tropical'],\n",
       "  'blend_notes': ['animal', 'fruity', 'waxy']})"
      ]
     },
     "execution_count": 2,
     "metadata": {},
     "output_type": "execute_result"
    }
   ],
   "source": [
    "import json\n",
    "with open(\"dataset/full.json\") as f:\n",
    "    data = json.load(f)\n",
    "len(data), data[0]"
   ]
  },
  {
   "cell_type": "code",
   "execution_count": 3,
   "id": "710cc251-2eec-4eac-8c13-48aa5c739cac",
   "metadata": {
    "tags": []
   },
   "outputs": [
    {
     "data": {
      "text/plain": [
       "'Before Canonicalization: |Blend Notes| = 109. |Single Notes| = 496.'"
      ]
     },
     "execution_count": 3,
     "metadata": {},
     "output_type": "execute_result"
    }
   ],
   "source": [
    "import graph.utils\n",
    "import single.utils\n",
    "\n",
    "all_blend_notes = set()\n",
    "all_single_notes = set()\n",
    "for d in data:\n",
    "    all_blend_notes.update(d[\"blend_notes\"])\n",
    "    all_single_notes.update(d[\"mol1_notes\"])\n",
    "    all_single_notes.update(d[\"mol2_notes\"])\n",
    "\n",
    "f\"Before Canonicalization: |Blend Notes| = {len(all_blend_notes)}. |Single Notes| = {len(all_single_notes)}.\""
   ]
  },
  {
   "cell_type": "code",
   "execution_count": 4,
   "id": "f6f7832c-a387-4e25-aa62-1f95aa62e0e3",
   "metadata": {
    "tags": []
   },
   "outputs": [
    {
     "data": {
      "text/plain": [
       "'After Canonicalization: |Blend Notes| = 104. |Single Notes| = 398.'"
      ]
     },
     "execution_count": 4,
     "metadata": {},
     "output_type": "execute_result"
    }
   ],
   "source": [
    "all_blend_notes = list(graph.utils.canonize(all_blend_notes))\n",
    "all_single_notes = list(single.utils.canonize(all_single_notes))\n",
    "    \n",
    "f\"After Canonicalization: |Blend Notes| = {len(all_blend_notes)}. |Single Notes| = {len(all_single_notes)}.\""
   ]
  },
  {
   "cell_type": "code",
   "execution_count": 5,
   "id": "136aa2c4-7414-4105-afdb-72393b9051de",
   "metadata": {
    "tags": []
   },
   "outputs": [
    {
     "data": {
      "text/plain": [
       "\"The following notes appear only in blends: {'minty', 'anise'}.\""
      ]
     },
     "execution_count": 5,
     "metadata": {},
     "output_type": "execute_result"
    }
   ],
   "source": [
    "f\"The following notes appear only in blends: {set(all_blend_notes).difference(set(all_single_notes))}.\""
   ]
  },
  {
   "cell_type": "code",
   "execution_count": 6,
   "id": "f9adc7bf-32aa-47bd-bd3f-9614b688b61a",
   "metadata": {
    "tags": []
   },
   "outputs": [
    {
     "data": {
      "text/plain": [
       "'Found a total of 400 notes.'"
      ]
     },
     "execution_count": 6,
     "metadata": {},
     "output_type": "execute_result"
    }
   ],
   "source": [
    "all_notes = set(all_blend_notes).union(set(all_single_notes))\n",
    "f\"Found a total of {len(all_notes)} notes.\""
   ]
  },
  {
   "cell_type": "code",
   "execution_count": 7,
   "id": "9df70dc8-58ca-44c7-b2e6-da9568946b8f",
   "metadata": {
    "tags": []
   },
   "outputs": [
    {
     "data": {
      "text/plain": [
       "'Found a total of 102 notes in common.'"
      ]
     },
     "execution_count": 7,
     "metadata": {},
     "output_type": "execute_result"
    }
   ],
   "source": [
    "common_notes = set(all_blend_notes).intersection(set(all_single_notes))\n",
    "f\"Found a total of {len(common_notes)} notes in common.\""
   ]
  },
  {
   "cell_type": "code",
   "execution_count": 74,
   "id": "57bff59f-fc04-470c-95cb-0055019672c6",
   "metadata": {
    "tags": []
   },
   "outputs": [
    {
     "data": {
      "application/vnd.jupyter.widget-view+json": {
       "model_id": "1054e9148e634b5da2bf1bc2c64849dd",
       "version_major": 2,
       "version_minor": 0
      },
      "text/plain": [
       "  0%|          | 0/166814 [00:00<?, ?it/s]"
      ]
     },
     "metadata": {},
     "output_type": "display_data"
    }
   ],
   "source": [
    "from tqdm.notebook import tqdm\n",
    "unions = []\n",
    "intersections = []\n",
    "blends = []\n",
    "for d in tqdm(data):\n",
    "    blnd = set(graph.utils.canonize(d[\"blend_notes\"]))\n",
    "    if not blnd:\n",
    "        continue\n",
    "\n",
    "    n1 = set(single.utils.canonize(d[\"mol1_notes\"]))\n",
    "    n2 = set(single.utils.canonize(d[\"mol2_notes\"]))\n",
    "    \n",
    "    unions.append(n1.union(n2))\n",
    "    intersections.append(n1.intersection(n2))\n",
    "    blends.append(blnd)\n",
    "assert len(unions) == len(intersections) and len(intersections) == len(blends)"
   ]
  },
  {
   "cell_type": "code",
   "execution_count": 75,
   "id": "4245926f-a80f-4d1a-a63c-3d93bde559b2",
   "metadata": {
    "tags": []
   },
   "outputs": [
    {
     "data": {
      "text/plain": [
       "'Union <-> Blend Jaccard = 0.12. Intersection <-> Blend Jaccard = 0.24.'"
      ]
     },
     "execution_count": 75,
     "metadata": {},
     "output_type": "execute_result"
    }
   ],
   "source": [
    "import numpy as np\n",
    "def jaccard(s1,s2):\n",
    "    return len(s1.intersection(s2)) / len(s1.union(s2))\n",
    "union_jaccard = np.mean([jaccard(union,blend) for union, blend in zip(unions,blends)])\n",
    "intersection_jaccard = np.mean([jaccard(intersection,blend) for intersection, blend in zip(intersections,blends)])\n",
    "f\"Union <-> Blend Jaccard = {union_jaccard:.2f}. Intersection <-> Blend Jaccard = {intersection_jaccard:.2f}.\""
   ]
  },
  {
   "cell_type": "code",
   "execution_count": 84,
   "id": "05b1b1f2-f63b-43e9-8a5c-84dead349dc2",
   "metadata": {
    "tags": []
   },
   "outputs": [
    {
     "data": {
      "text/plain": [
       "\"Example: Single notes = {'fruity', 'sweet'}. Pair notes = {'animal', 'fruity', 'waxy'}. Emergent notes = {'animal'}. Suppressed note = {'banana', 'cherry', 'leafy', 'pineapple', 'tropical', 'pear', 'hairy', 'sweet', 'fresh', 'green', 'violet', 'oily', 'melon', 'costus'}.\""
      ]
     },
     "execution_count": 84,
     "metadata": {},
     "output_type": "execute_result"
    }
   ],
   "source": [
    "emergences = []\n",
    "suppressions = []\n",
    "suppression_intersections = []\n",
    "\n",
    "for union, blend in zip(unions,blends):\n",
    "    emergences.append(blend.difference(union))\n",
    "    suppressions.append(union.difference(blend))\n",
    "    suppression_intersections.append(union.intersection(blend))\n",
    "    \n",
    "f\"Example: Single notes = {intersections[0]}. Pair notes = {blends[0]}. Emergent notes = {emergences[0]}. Suppressed note = {suppressions[0]}.\""
   ]
  },
  {
   "cell_type": "code",
   "execution_count": 86,
   "id": "f5ea5120-2b16-4992-8b05-1a827152b518",
   "metadata": {
    "tags": []
   },
   "outputs": [
    {
     "data": {
      "text/plain": [
       "'For the average blend, we get = 0.18 new notes, and lose 1.26 notes.'"
      ]
     },
     "execution_count": 86,
     "metadata": {},
     "output_type": "execute_result"
    }
   ],
   "source": [
    "f\"For the average blend, we get = {np.mean([len(x) for x in emergences]):.2f} new notes, and lose {np.mean([len(x) for x in suppression_intersections]):.2f} notes.\""
   ]
  },
  {
   "cell_type": "code",
   "execution_count": 79,
   "id": "bc323683-15e0-4cbb-95f1-512f11e4b58d",
   "metadata": {
    "tags": []
   },
   "outputs": [],
   "source": [
    "from collections import Counter\n",
    "\n",
    "# Calculate baseline frequency of notes in individual molecules\n",
    "baseline_individual_freq = Counter(note for union in unions for note in union)\n",
    "\n",
    "# Calculate baseline frequency of notes in blends\n",
    "baseline_blend_freq = Counter(note for blend in blends for note in blend)\n",
    "\n",
    "# Calculate raw frequency of emergent and suppressed notes\n",
    "emergence_freq = Counter(note for emerg in emergences for note in emerg if note in common_notes)\n",
    "suppression_freq = Counter(note for supp in suppressions for note in supp if note in common_notes)"
   ]
  },
  {
   "cell_type": "code",
   "execution_count": 80,
   "id": "65ff0823-6fdd-4c12-9f8b-c1609a2c5e56",
   "metadata": {
    "tags": []
   },
   "outputs": [],
   "source": [
    "for note in common_notes:\n",
    "    # A note can appear in the blend if:\n",
    "    #  * It appeared in the individual molecules and wasn't suppressed\n",
    "    #  * It emerged\n",
    "    appearing_freq = (baseline_individual_freq[note] - suppression_freq[note])\n",
    "    assert appearing_freq + emergence_freq[note] == baseline_blend_freq[note] "
   ]
  },
  {
   "cell_type": "code",
   "execution_count": 82,
   "id": "85c3eece-fa6c-4d3d-85cc-12ecfcabc9dd",
   "metadata": {
    "tags": []
   },
   "outputs": [],
   "source": [
    "suppressed_ratio = dict()\n",
    "emerge_ratio = dict()\n",
    "for note in common_notes:\n",
    "    # Ratio of # note is suppressed to # note isn't suppressed (appears in blend and wasn't an emergence)\n",
    "    not_suppressed = (baseline_blend_freq[note] - emergence_freq[note])\n",
    "    suppressed_ratio[note] = suppression_freq[note] / not_suppressed if not_suppressed > 0 else float('inf')\n",
    "        \n",
    "    # Ratio of # note emergences to # note does not emerge (appears in single molecules and wasn't suppressed)\n",
    "    not_emergent = (baseline_individual_freq[note] - suppression_freq[note])\n",
    "    emerge_ratio[note] = emergence_freq[note] / not_emergent if not_emergent > 0 else float('inf')\n"
   ]
  },
  {
   "cell_type": "code",
   "execution_count": 102,
   "id": "a6317563-315a-49e9-826a-69f4771d450e",
   "metadata": {
    "tags": []
   },
   "outputs": [
    {
     "data": {
      "text/html": [
       "<div>\n",
       "<style scoped>\n",
       "    .dataframe tbody tr th:only-of-type {\n",
       "        vertical-align: middle;\n",
       "    }\n",
       "\n",
       "    .dataframe tbody tr th {\n",
       "        vertical-align: top;\n",
       "    }\n",
       "\n",
       "    .dataframe thead th {\n",
       "        text-align: right;\n",
       "    }\n",
       "</style>\n",
       "<table border=\"1\" class=\"dataframe\">\n",
       "  <thead>\n",
       "    <tr style=\"text-align: right;\">\n",
       "      <th></th>\n",
       "      <th>Note</th>\n",
       "      <th>Frequency</th>\n",
       "      <th>Emergence Odds-Ratio</th>\n",
       "      <th>Suppression Odds-Ratio</th>\n",
       "    </tr>\n",
       "  </thead>\n",
       "  <tbody>\n",
       "    <tr>\n",
       "      <th>0</th>\n",
       "      <td>fruity</td>\n",
       "      <td>50409</td>\n",
       "      <td>0.043125</td>\n",
       "      <td>1.173451</td>\n",
       "    </tr>\n",
       "    <tr>\n",
       "      <th>1</th>\n",
       "      <td>floral</td>\n",
       "      <td>47627</td>\n",
       "      <td>0.132924</td>\n",
       "      <td>0.963344</td>\n",
       "    </tr>\n",
       "    <tr>\n",
       "      <th>2</th>\n",
       "      <td>green</td>\n",
       "      <td>29375</td>\n",
       "      <td>0.038500</td>\n",
       "      <td>2.617302</td>\n",
       "    </tr>\n",
       "    <tr>\n",
       "      <th>3</th>\n",
       "      <td>waxy</td>\n",
       "      <td>11092</td>\n",
       "      <td>0.155657</td>\n",
       "      <td>4.086164</td>\n",
       "    </tr>\n",
       "    <tr>\n",
       "      <th>4</th>\n",
       "      <td>herbal</td>\n",
       "      <td>9157</td>\n",
       "      <td>0.205503</td>\n",
       "      <td>4.438125</td>\n",
       "    </tr>\n",
       "    <tr>\n",
       "      <th>...</th>\n",
       "      <td>...</td>\n",
       "      <td>...</td>\n",
       "      <td>...</td>\n",
       "      <td>...</td>\n",
       "    </tr>\n",
       "    <tr>\n",
       "      <th>95</th>\n",
       "      <td>fishy</td>\n",
       "      <td>19</td>\n",
       "      <td>0.000000</td>\n",
       "      <td>46.368421</td>\n",
       "    </tr>\n",
       "    <tr>\n",
       "      <th>96</th>\n",
       "      <td>acetic</td>\n",
       "      <td>13</td>\n",
       "      <td>0.000000</td>\n",
       "      <td>52.769231</td>\n",
       "    </tr>\n",
       "    <tr>\n",
       "      <th>97</th>\n",
       "      <td>pine</td>\n",
       "      <td>13</td>\n",
       "      <td>0.000000</td>\n",
       "      <td>419.846154</td>\n",
       "    </tr>\n",
       "    <tr>\n",
       "      <th>98</th>\n",
       "      <td>peach</td>\n",
       "      <td>10</td>\n",
       "      <td>0.000000</td>\n",
       "      <td>1069.400000</td>\n",
       "    </tr>\n",
       "    <tr>\n",
       "      <th>99</th>\n",
       "      <td>ammoniacal</td>\n",
       "      <td>9</td>\n",
       "      <td>0.000000</td>\n",
       "      <td>7.777778</td>\n",
       "    </tr>\n",
       "  </tbody>\n",
       "</table>\n",
       "<p>100 rows × 4 columns</p>\n",
       "</div>"
      ],
      "text/plain": [
       "          Note  Frequency  Emergence Odds-Ratio  Suppression Odds-Ratio\n",
       "0       fruity      50409              0.043125                1.173451\n",
       "1       floral      47627              0.132924                0.963344\n",
       "2        green      29375              0.038500                2.617302\n",
       "3         waxy      11092              0.155657                4.086164\n",
       "4       herbal       9157              0.205503                4.438125\n",
       "..         ...        ...                   ...                     ...\n",
       "95       fishy         19              0.000000               46.368421\n",
       "96      acetic         13              0.000000               52.769231\n",
       "97        pine         13              0.000000              419.846154\n",
       "98       peach         10              0.000000             1069.400000\n",
       "99  ammoniacal          9              0.000000                7.777778\n",
       "\n",
       "[100 rows x 4 columns]"
      ]
     },
     "execution_count": 102,
     "metadata": {},
     "output_type": "execute_result"
    }
   ],
   "source": [
    "import pandas as pd\n",
    "\n",
    "csv_data = []\n",
    "for note in common_notes:\n",
    "    csv_data.append({\n",
    "        'Note': note,\n",
    "        'Frequency': baseline_blend_freq[note],\n",
    "        'Emergence Odds-Ratio': emerge_ratio[note],\n",
    "        'Suppression Odds-Ratio': suppressed_ratio[note]\n",
    "    })\n",
    "\n",
    "# Step 3: Create a DataFrame and sort by `Baseline Blend Frequency`\n",
    "df = pd.DataFrame(csv_data)\n",
    "df = df.sort_values(by='Frequency', ascending=False)\n",
    "df = df.reset_index(drop=True)\n",
    "\n",
    "df.replace([np.inf, -np.inf], np.nan, inplace=True)\n",
    "df = df.dropna()\n",
    "\n",
    "# Step 4: Save to CSV\n",
    "df.to_csv('charts/csv/notes_emergence_suppression.csv', index=False)\n",
    "\n",
    "df"
   ]
  },
  {
   "cell_type": "code",
   "execution_count": 103,
   "id": "6a7a1f0d-ea6c-4405-b7a5-57b17653ce69",
   "metadata": {
    "tags": []
   },
   "outputs": [
    {
     "data": {
      "text/html": [
       "<div>\n",
       "<style scoped>\n",
       "    .dataframe tbody tr th:only-of-type {\n",
       "        vertical-align: middle;\n",
       "    }\n",
       "\n",
       "    .dataframe tbody tr th {\n",
       "        vertical-align: top;\n",
       "    }\n",
       "\n",
       "    .dataframe thead th {\n",
       "        text-align: right;\n",
       "    }\n",
       "</style>\n",
       "<table border=\"1\" class=\"dataframe\">\n",
       "  <thead>\n",
       "    <tr style=\"text-align: right;\">\n",
       "      <th></th>\n",
       "      <th>Note</th>\n",
       "      <th>Frequency</th>\n",
       "      <th>Emergence Odds-Ratio</th>\n",
       "      <th>Suppression Odds-Ratio</th>\n",
       "    </tr>\n",
       "  </thead>\n",
       "  <tbody>\n",
       "    <tr>\n",
       "      <th>99</th>\n",
       "      <td>ammoniacal</td>\n",
       "      <td>9</td>\n",
       "      <td>0.00</td>\n",
       "      <td>7.777778</td>\n",
       "    </tr>\n",
       "    <tr>\n",
       "      <th>76</th>\n",
       "      <td>moldy</td>\n",
       "      <td>105</td>\n",
       "      <td>0.00</td>\n",
       "      <td>1.628571</td>\n",
       "    </tr>\n",
       "    <tr>\n",
       "      <th>73</th>\n",
       "      <td>thujonic</td>\n",
       "      <td>123</td>\n",
       "      <td>0.00</td>\n",
       "      <td>8.138211</td>\n",
       "    </tr>\n",
       "    <tr>\n",
       "      <th>72</th>\n",
       "      <td>tomato</td>\n",
       "      <td>138</td>\n",
       "      <td>0.00</td>\n",
       "      <td>11.355072</td>\n",
       "    </tr>\n",
       "    <tr>\n",
       "      <th>23</th>\n",
       "      <td>musk</td>\n",
       "      <td>1311</td>\n",
       "      <td>0.00</td>\n",
       "      <td>3.938215</td>\n",
       "    </tr>\n",
       "    <tr>\n",
       "      <th>...</th>\n",
       "      <td>...</td>\n",
       "      <td>...</td>\n",
       "      <td>...</td>\n",
       "      <td>...</td>\n",
       "    </tr>\n",
       "    <tr>\n",
       "      <th>90</th>\n",
       "      <td>celery</td>\n",
       "      <td>34</td>\n",
       "      <td>16.00</td>\n",
       "      <td>1839.000000</td>\n",
       "    </tr>\n",
       "    <tr>\n",
       "      <th>74</th>\n",
       "      <td>eggy</td>\n",
       "      <td>120</td>\n",
       "      <td>19.00</td>\n",
       "      <td>147.000000</td>\n",
       "    </tr>\n",
       "    <tr>\n",
       "      <th>67</th>\n",
       "      <td>juicy</td>\n",
       "      <td>185</td>\n",
       "      <td>45.25</td>\n",
       "      <td>1639.500000</td>\n",
       "    </tr>\n",
       "    <tr>\n",
       "      <th>86</th>\n",
       "      <td>malty</td>\n",
       "      <td>51</td>\n",
       "      <td>50.00</td>\n",
       "      <td>1024.000000</td>\n",
       "    </tr>\n",
       "    <tr>\n",
       "      <th>75</th>\n",
       "      <td>cabbage</td>\n",
       "      <td>111</td>\n",
       "      <td>54.50</td>\n",
       "      <td>764.500000</td>\n",
       "    </tr>\n",
       "  </tbody>\n",
       "</table>\n",
       "<p>100 rows × 4 columns</p>\n",
       "</div>"
      ],
      "text/plain": [
       "          Note  Frequency  Emergence Odds-Ratio  Suppression Odds-Ratio\n",
       "99  ammoniacal          9                  0.00                7.777778\n",
       "76       moldy        105                  0.00                1.628571\n",
       "73    thujonic        123                  0.00                8.138211\n",
       "72      tomato        138                  0.00               11.355072\n",
       "23        musk       1311                  0.00                3.938215\n",
       "..         ...        ...                   ...                     ...\n",
       "90      celery         34                 16.00             1839.000000\n",
       "74        eggy        120                 19.00              147.000000\n",
       "67       juicy        185                 45.25             1639.500000\n",
       "86       malty         51                 50.00             1024.000000\n",
       "75     cabbage        111                 54.50              764.500000\n",
       "\n",
       "[100 rows x 4 columns]"
      ]
     },
     "execution_count": 103,
     "metadata": {},
     "output_type": "execute_result"
    }
   ],
   "source": [
    "df.sort_values(\"Emergence Odds-Ratio\")"
   ]
  },
  {
   "cell_type": "code",
   "execution_count": 104,
   "id": "524ea44e-e5ab-4c7f-bd84-c39958148850",
   "metadata": {
    "tags": []
   },
   "outputs": [
    {
     "data": {
      "text/plain": [
       "[{'Note': 'ammoniacal', 'Emergence Odds-Ratio': 0.0},\n",
       " {'Note': 'moldy', 'Emergence Odds-Ratio': 0.0},\n",
       " {'Note': 'thujonic', 'Emergence Odds-Ratio': 0.0},\n",
       " {'Note': 'tomato', 'Emergence Odds-Ratio': 0.0},\n",
       " {'Note': 'musk', 'Emergence Odds-Ratio': 0.0},\n",
       " {'Note': 'orris', 'Emergence Odds-Ratio': 0.0},\n",
       " {'Note': 'toasted', 'Emergence Odds-Ratio': 0.0},\n",
       " {'Note': 'tobacco', 'Emergence Odds-Ratio': 0.0},\n",
       " {'Note': 'pungent', 'Emergence Odds-Ratio': 0.0},\n",
       " {'Note': 'coumarinic', 'Emergence Odds-Ratio': 0.0},\n",
       " {'Note': 'cheesy', 'Emergence Odds-Ratio': 0.0},\n",
       " {'Note': 'rummy', 'Emergence Odds-Ratio': 0.0},\n",
       " {'Note': 'peach', 'Emergence Odds-Ratio': 0.0},\n",
       " {'Note': 'camphoreous', 'Emergence Odds-Ratio': 0.0},\n",
       " {'Note': 'cherry', 'Emergence Odds-Ratio': 0.0},\n",
       " {'Note': 'fusel', 'Emergence Odds-Ratio': 0.0},\n",
       " {'Note': 'vanilla', 'Emergence Odds-Ratio': 0.0},\n",
       " {'Note': 'solvent', 'Emergence Odds-Ratio': 0.0},\n",
       " {'Note': 'garlic', 'Emergence Odds-Ratio': 0.0},\n",
       " {'Note': 'pine', 'Emergence Odds-Ratio': 0.0},\n",
       " {'Note': 'acetic', 'Emergence Odds-Ratio': 0.0},\n",
       " {'Note': 'fishy', 'Emergence Odds-Ratio': 0.0},\n",
       " {'Note': 'rooty', 'Emergence Odds-Ratio': 0.0},\n",
       " {'Note': 'tarragon', 'Emergence Odds-Ratio': 0.0},\n",
       " {'Note': 'meaty', 'Emergence Odds-Ratio': 0.0},\n",
       " {'Note': 'dusty', 'Emergence Odds-Ratio': 0.0},\n",
       " {'Note': 'smoky', 'Emergence Odds-Ratio': 0.0},\n",
       " {'Note': 'leathery', 'Emergence Odds-Ratio': 0.0},\n",
       " {'Note': 'alcoholic', 'Emergence Odds-Ratio': 0.0},\n",
       " {'Note': 'corn', 'Emergence Odds-Ratio': 0.0},\n",
       " {'Note': 'lactonic', 'Emergence Odds-Ratio': 0.0},\n",
       " {'Note': 'coconut', 'Emergence Odds-Ratio': 0.0},\n",
       " {'Note': 'woody', 'Emergence Odds-Ratio': 0.022068317877685175},\n",
       " {'Note': 'honey', 'Emergence Odds-Ratio': 0.023137121469887716},\n",
       " {'Note': 'sulfurous', 'Emergence Odds-Ratio': 0.024289531212047608},\n",
       " {'Note': 'green', 'Emergence Odds-Ratio': 0.038499611115039245},\n",
       " {'Note': 'fruity', 'Emergence Odds-Ratio': 0.0431246766683911},\n",
       " {'Note': 'amber', 'Emergence Odds-Ratio': 0.04416094210009813},\n",
       " {'Note': 'aldehydic', 'Emergence Odds-Ratio': 0.0621136296732411},\n",
       " {'Note': 'clean', 'Emergence Odds-Ratio': 0.08333333333333333},\n",
       " {'Note': 'phenolic', 'Emergence Odds-Ratio': 0.0880503144654088},\n",
       " {'Note': 'caramellic', 'Emergence Odds-Ratio': 0.08938793483047115},\n",
       " {'Note': 'mossy', 'Emergence Odds-Ratio': 0.0966183574879227},\n",
       " {'Note': 'balsamic', 'Emergence Odds-Ratio': 0.12896507529637938},\n",
       " {'Note': 'floral', 'Emergence Odds-Ratio': 0.13292418944313614},\n",
       " {'Note': 'buttery', 'Emergence Odds-Ratio': 0.14250614250614252},\n",
       " {'Note': 'vegetable', 'Emergence Odds-Ratio': 0.14454976303317535},\n",
       " {'Note': 'alliaceous', 'Emergence Odds-Ratio': 0.14455231930960086},\n",
       " {'Note': 'waxy', 'Emergence Odds-Ratio': 0.1556574286309648},\n",
       " {'Note': 'creamy', 'Emergence Odds-Ratio': 0.15593220338983052},\n",
       " {'Note': 'soapy', 'Emergence Odds-Ratio': 0.16881720430107527},\n",
       " {'Note': 'onion', 'Emergence Odds-Ratio': 0.1788793103448276},\n",
       " {'Note': 'acidic', 'Emergence Odds-Ratio': 0.1889763779527559},\n",
       " {'Note': 'cocoa', 'Emergence Odds-Ratio': 0.19148936170212766},\n",
       " {'Note': 'ethereal', 'Emergence Odds-Ratio': 0.19215210355987056},\n",
       " {'Note': 'herbal', 'Emergence Odds-Ratio': 0.2055028962611901},\n",
       " {'Note': 'spicy', 'Emergence Odds-Ratio': 0.20633834929320566},\n",
       " {'Note': 'citrus', 'Emergence Odds-Ratio': 0.2099519860323003},\n",
       " {'Note': 'nutty', 'Emergence Odds-Ratio': 0.23184152604548788},\n",
       " {'Note': 'fungal', 'Emergence Odds-Ratio': 0.23469387755102042},\n",
       " {'Note': 'chocolate', 'Emergence Odds-Ratio': 0.24055666003976142},\n",
       " {'Note': 'melon', 'Emergence Odds-Ratio': 0.24124513618677043},\n",
       " {'Note': 'coffee', 'Emergence Odds-Ratio': 0.24454828660436137},\n",
       " {'Note': 'tonka', 'Emergence Odds-Ratio': 0.2681818181818182},\n",
       " {'Note': 'earthy', 'Emergence Odds-Ratio': 0.2909441233140655},\n",
       " {'Note': 'fatty', 'Emergence Odds-Ratio': 0.330773606370876},\n",
       " {'Note': 'jammy', 'Emergence Odds-Ratio': 0.3411371237458194},\n",
       " {'Note': 'tropical', 'Emergence Odds-Ratio': 0.3983739837398374},\n",
       " {'Note': 'roasted', 'Emergence Odds-Ratio': 0.4131944444444444},\n",
       " {'Note': 'dairy', 'Emergence Odds-Ratio': 0.4275092936802974},\n",
       " {'Note': 'bready', 'Emergence Odds-Ratio': 0.4519230769230769},\n",
       " {'Note': 'animal', 'Emergence Odds-Ratio': 0.4807692307692308},\n",
       " {'Note': 'winey', 'Emergence Odds-Ratio': 0.5053272450532724},\n",
       " {'Note': 'berry', 'Emergence Odds-Ratio': 0.5197984161267099},\n",
       " {'Note': 'oily', 'Emergence Odds-Ratio': 0.5643153526970954},\n",
       " {'Note': 'mentholic', 'Emergence Odds-Ratio': 0.6621004566210046},\n",
       " {'Note': 'chemical', 'Emergence Odds-Ratio': 0.7904191616766467},\n",
       " {'Note': 'sweet', 'Emergence Odds-Ratio': 0.9145299145299145},\n",
       " {'Note': 'fermented', 'Emergence Odds-Ratio': 0.9437086092715232},\n",
       " {'Note': 'estery', 'Emergence Odds-Ratio': 1.0584958217270195},\n",
       " {'Note': 'musty', 'Emergence Odds-Ratio': 1.1066398390342052},\n",
       " {'Note': 'brown', 'Emergence Odds-Ratio': 1.1379310344827587},\n",
       " {'Note': 'fresh', 'Emergence Odds-Ratio': 1.1470588235294117},\n",
       " {'Note': 'powdery', 'Emergence Odds-Ratio': 1.3794871794871795},\n",
       " {'Note': 'licorice', 'Emergence Odds-Ratio': 1.661764705882353},\n",
       " {'Note': 'cooling', 'Emergence Odds-Ratio': 1.778894472361809},\n",
       " {'Note': 'marine', 'Emergence Odds-Ratio': 2.0545454545454547},\n",
       " {'Note': 'bitter', 'Emergence Odds-Ratio': 2.5324675324675323},\n",
       " {'Note': 'burnt', 'Emergence Odds-Ratio': 3.511904761904762},\n",
       " {'Note': 'sour', 'Emergence Odds-Ratio': 6.0},\n",
       " {'Note': 'mustard', 'Emergence Odds-Ratio': 6.125},\n",
       " {'Note': 'aromatic', 'Emergence Odds-Ratio': 8.0625},\n",
       " {'Note': 'mushroom', 'Emergence Odds-Ratio': 8.5},\n",
       " {'Note': 'medicinal', 'Emergence Odds-Ratio': 9.75},\n",
       " {'Note': 'potato', 'Emergence Odds-Ratio': 11.75},\n",
       " {'Note': 'celery', 'Emergence Odds-Ratio': 16.0},\n",
       " {'Note': 'eggy', 'Emergence Odds-Ratio': 19.0},\n",
       " {'Note': 'juicy', 'Emergence Odds-Ratio': 45.25},\n",
       " {'Note': 'malty', 'Emergence Odds-Ratio': 50.0},\n",
       " {'Note': 'cabbage', 'Emergence Odds-Ratio': 54.5}]"
      ]
     },
     "execution_count": 104,
     "metadata": {},
     "output_type": "execute_result"
    }
   ],
   "source": [
    "df.sort_values(\"Emergence Odds-Ratio\")[[\"Note\",\"Emergence Odds-Ratio\"]].to_dict(orient=\"records\")"
   ]
  },
  {
   "cell_type": "code",
   "execution_count": 112,
   "id": "170ce174-a2f0-49ec-a849-ef24f51bc8e3",
   "metadata": {
    "tags": []
   },
   "outputs": [
    {
     "data": {
      "text/plain": [
       "(32,\n",
       " ['vanilla',\n",
       "  'musk',\n",
       "  'camphoreous',\n",
       "  'coconut',\n",
       "  'meaty',\n",
       "  'cherry',\n",
       "  'rummy',\n",
       "  'cheesy',\n",
       "  'coumarinic',\n",
       "  'fusel',\n",
       "  'pungent',\n",
       "  'toasted',\n",
       "  'orris',\n",
       "  'tomato',\n",
       "  'thujonic',\n",
       "  'moldy',\n",
       "  'tobacco',\n",
       "  'solvent',\n",
       "  'garlic',\n",
       "  'corn',\n",
       "  'alcoholic',\n",
       "  'leathery',\n",
       "  'smoky',\n",
       "  'lactonic',\n",
       "  'dusty',\n",
       "  'tarragon',\n",
       "  'rooty',\n",
       "  'fishy',\n",
       "  'acetic',\n",
       "  'pine',\n",
       "  'peach',\n",
       "  'ammoniacal'])"
      ]
     },
     "execution_count": 112,
     "metadata": {},
     "output_type": "execute_result"
    }
   ],
   "source": [
    "never_emerge = df[df[\"Emergence Odds-Ratio\"]==0][\"Note\"].to_list()\n",
    "len(never_emerge), never_emerge"
   ]
  },
  {
   "cell_type": "code",
   "execution_count": 105,
   "id": "f24b1295-2aa7-4fb0-98e6-ffb4a7fb6b36",
   "metadata": {
    "tags": []
   },
   "outputs": [
    {
     "data": {
      "text/plain": [
       "[{'Note': 'alliaceous', 'Suppression Odds-Ratio': 0.8921251348435815},\n",
       " {'Note': 'floral', 'Suppression Odds-Ratio': 0.9633435619305882},\n",
       " {'Note': 'fruity', 'Suppression Odds-Ratio': 1.1734505949301604},\n",
       " {'Note': 'sulfurous', 'Suppression Odds-Ratio': 1.5992227350012145},\n",
       " {'Note': 'moldy', 'Suppression Odds-Ratio': 1.6285714285714286},\n",
       " {'Note': 'tonka', 'Suppression Odds-Ratio': 2.0166666666666666},\n",
       " {'Note': 'mossy', 'Suppression Odds-Ratio': 2.031400966183575},\n",
       " {'Note': 'vanilla', 'Suppression Odds-Ratio': 2.555028962611901},\n",
       " {'Note': 'green', 'Suppression Odds-Ratio': 2.6173018454359047},\n",
       " {'Note': 'aldehydic', 'Suppression Odds-Ratio': 2.738592876067118},\n",
       " {'Note': 'caramellic', 'Suppression Odds-Ratio': 2.769264641127257},\n",
       " {'Note': 'balsamic', 'Suppression Odds-Ratio': 2.8785645626401792},\n",
       " {'Note': 'ethereal', 'Suppression Odds-Ratio': 3.811084142394822},\n",
       " {'Note': 'musk', 'Suppression Odds-Ratio': 3.9382151029748282},\n",
       " {'Note': 'waxy', 'Suppression Odds-Ratio': 4.086163784121692},\n",
       " {'Note': 'buttery', 'Suppression Odds-Ratio': 4.292383292383293},\n",
       " {'Note': 'herbal', 'Suppression Odds-Ratio': 4.43812532912059},\n",
       " {'Note': 'woody', 'Suppression Odds-Ratio': 4.56098133583754},\n",
       " {'Note': 'honey', 'Suppression Odds-Ratio': 4.708063967335828},\n",
       " {'Note': 'toasted', 'Suppression Odds-Ratio': 4.76605504587156},\n",
       " {'Note': 'tarragon', 'Suppression Odds-Ratio': 5.285714285714286},\n",
       " {'Note': 'spicy', 'Suppression Odds-Ratio': 5.326265389876881},\n",
       " {'Note': 'citrus', 'Suppression Odds-Ratio': 5.651025752946311},\n",
       " {'Note': 'mentholic', 'Suppression Odds-Ratio': 6.529680365296803},\n",
       " {'Note': 'acidic', 'Suppression Odds-Ratio': 6.6299212598425195},\n",
       " {'Note': 'chocolate', 'Suppression Odds-Ratio': 6.815109343936382},\n",
       " {'Note': 'creamy', 'Suppression Odds-Ratio': 6.825181598062954},\n",
       " {'Note': 'coffee', 'Suppression Odds-Ratio': 6.957943925233645},\n",
       " {'Note': 'animal', 'Suppression Odds-Ratio': 7.017857142857143},\n",
       " {'Note': 'camphoreous', 'Suppression Odds-Ratio': 7.128587830080368},\n",
       " {'Note': 'amber', 'Suppression Odds-Ratio': 7.493621197252208},\n",
       " {'Note': 'ammoniacal', 'Suppression Odds-Ratio': 7.777777777777778},\n",
       " {'Note': 'soapy', 'Suppression Odds-Ratio': 7.844086021505376},\n",
       " {'Note': 'fatty', 'Suppression Odds-Ratio': 7.889078498293515},\n",
       " {'Note': 'thujonic', 'Suppression Odds-Ratio': 8.138211382113822},\n",
       " {'Note': 'chemical', 'Suppression Odds-Ratio': 8.2125748502994},\n",
       " {'Note': 'fermented', 'Suppression Odds-Ratio': 8.230132450331126},\n",
       " {'Note': 'nutty', 'Suppression Odds-Ratio': 8.567865003668379},\n",
       " {'Note': 'coumarinic', 'Suppression Odds-Ratio': 8.830601092896174},\n",
       " {'Note': 'meaty', 'Suppression Odds-Ratio': 9.078488372093023},\n",
       " {'Note': 'fungal', 'Suppression Odds-Ratio': 9.204081632653061},\n",
       " {'Note': 'fusel', 'Suppression Odds-Ratio': 9.418867924528302},\n",
       " {'Note': 'onion', 'Suppression Odds-Ratio': 9.989224137931034},\n",
       " {'Note': 'coconut', 'Suppression Odds-Ratio': 10.165266106442576},\n",
       " {'Note': 'tomato', 'Suppression Odds-Ratio': 11.355072463768115},\n",
       " {'Note': 'berry', 'Suppression Odds-Ratio': 12.886249100071995},\n",
       " {'Note': 'solvent', 'Suppression Odds-Ratio': 12.989247311827956},\n",
       " {'Note': 'corn', 'Suppression Odds-Ratio': 14.214285714285714},\n",
       " {'Note': 'brown', 'Suppression Odds-Ratio': 14.251231527093596},\n",
       " {'Note': 'melon', 'Suppression Odds-Ratio': 14.456549935149157},\n",
       " {'Note': 'earthy', 'Suppression Odds-Ratio': 16.973025048169557},\n",
       " {'Note': 'cheesy', 'Suppression Odds-Ratio': 17.28287841191067},\n",
       " {'Note': 'cooling', 'Suppression Odds-Ratio': 17.452261306532662},\n",
       " {'Note': 'winey', 'Suppression Odds-Ratio': 17.799086757990867},\n",
       " {'Note': 'roasted', 'Suppression Odds-Ratio': 18.618055555555557},\n",
       " {'Note': 'rummy', 'Suppression Odds-Ratio': 18.978365384615383},\n",
       " {'Note': 'phenolic', 'Suppression Odds-Ratio': 19.10272536687631},\n",
       " {'Note': 'dairy', 'Suppression Odds-Ratio': 19.304832713754646},\n",
       " {'Note': 'jammy', 'Suppression Odds-Ratio': 20.03344481605351},\n",
       " {'Note': 'cherry', 'Suppression Odds-Ratio': 20.52370203160271},\n",
       " {'Note': 'marine', 'Suppression Odds-Ratio': 20.936363636363637},\n",
       " {'Note': 'estery', 'Suppression Odds-Ratio': 23.089136490250695},\n",
       " {'Note': 'aromatic', 'Suppression Odds-Ratio': 23.125},\n",
       " {'Note': 'orris', 'Suppression Odds-Ratio': 24.47252747252747},\n",
       " {'Note': 'musty', 'Suppression Odds-Ratio': 25.072434607645874},\n",
       " {'Note': 'cocoa', 'Suppression Odds-Ratio': 27.069148936170212},\n",
       " {'Note': 'medicinal', 'Suppression Odds-Ratio': 27.9},\n",
       " {'Note': 'alcoholic', 'Suppression Odds-Ratio': 30.12121212121212},\n",
       " {'Note': 'bitter', 'Suppression Odds-Ratio': 33.20779220779221},\n",
       " {'Note': 'tropical', 'Suppression Odds-Ratio': 33.90243902439025},\n",
       " {'Note': 'bready', 'Suppression Odds-Ratio': 34.125},\n",
       " {'Note': 'leathery', 'Suppression Odds-Ratio': 35.459016393442624},\n",
       " {'Note': 'vegetable', 'Suppression Odds-Ratio': 38.741706161137444},\n",
       " {'Note': 'pungent', 'Suppression Odds-Ratio': 39.18410041841004},\n",
       " {'Note': 'licorice', 'Suppression Odds-Ratio': 42.36764705882353},\n",
       " {'Note': 'fishy', 'Suppression Odds-Ratio': 46.36842105263158},\n",
       " {'Note': 'burnt', 'Suppression Odds-Ratio': 47.273809523809526},\n",
       " {'Note': 'garlic', 'Suppression Odds-Ratio': 49.714285714285715},\n",
       " {'Note': 'smoky', 'Suppression Odds-Ratio': 50.92307692307692},\n",
       " {'Note': 'acetic', 'Suppression Odds-Ratio': 52.76923076923077},\n",
       " {'Note': 'tobacco', 'Suppression Odds-Ratio': 57.75247524752475},\n",
       " {'Note': 'mustard', 'Suppression Odds-Ratio': 70.875},\n",
       " {'Note': 'sour', 'Suppression Odds-Ratio': 86.8},\n",
       " {'Note': 'oily', 'Suppression Odds-Ratio': 94.66390041493776},\n",
       " {'Note': 'dusty', 'Suppression Odds-Ratio': 100.96875},\n",
       " {'Note': 'rooty', 'Suppression Odds-Ratio': 106.20833333333333},\n",
       " {'Note': 'powdery', 'Suppression Odds-Ratio': 117.88717948717948},\n",
       " {'Note': 'eggy', 'Suppression Odds-Ratio': 147.0},\n",
       " {'Note': 'lactonic', 'Suppression Odds-Ratio': 147.7941176470588},\n",
       " {'Note': 'clean', 'Suppression Odds-Ratio': 186.40277777777777},\n",
       " {'Note': 'pine', 'Suppression Odds-Ratio': 419.84615384615387},\n",
       " {'Note': 'potato', 'Suppression Odds-Ratio': 490.25},\n",
       " {'Note': 'cabbage', 'Suppression Odds-Ratio': 764.5},\n",
       " {'Note': 'sweet', 'Suppression Odds-Ratio': 847.7264957264957},\n",
       " {'Note': 'malty', 'Suppression Odds-Ratio': 1024.0},\n",
       " {'Note': 'peach', 'Suppression Odds-Ratio': 1069.4},\n",
       " {'Note': 'fresh', 'Suppression Odds-Ratio': 1300.8529411764705},\n",
       " {'Note': 'mushroom', 'Suppression Odds-Ratio': 1455.0},\n",
       " {'Note': 'juicy', 'Suppression Odds-Ratio': 1639.5},\n",
       " {'Note': 'celery', 'Suppression Odds-Ratio': 1839.0}]"
      ]
     },
     "execution_count": 105,
     "metadata": {},
     "output_type": "execute_result"
    }
   ],
   "source": [
    "df.sort_values(\"Suppression Odds-Ratio\")[[\"Note\",\"Suppression Odds-Ratio\"]].to_dict(orient=\"records\")"
   ]
  }
 ],
 "metadata": {
  "kernelspec": {
   "display_name": "Python 3 (ipykernel)",
   "language": "python",
   "name": "python3"
  },
  "language_info": {
   "codemirror_mode": {
    "name": "ipython",
    "version": 3
   },
   "file_extension": ".py",
   "mimetype": "text/x-python",
   "name": "python",
   "nbconvert_exporter": "python",
   "pygments_lexer": "ipython3",
   "version": "3.11.5"
  }
 },
 "nbformat": 4,
 "nbformat_minor": 5
}
