{
 "cells": [
  {
   "cell_type": "code",
   "execution_count": null,
   "id": "7cc5fab7-aedf-4812-8f6d-4bb8744d880f",
   "metadata": {
    "tags": []
   },
   "outputs": [],
   "source": [
    "import os\n",
    "os.chdir(\"..\")\n",
    "os.getcwd()"
   ]
  },
  {
   "cell_type": "code",
   "execution_count": 2,
   "id": "4d4b5619-9864-457f-bf6d-956e70123abe",
   "metadata": {
    "tags": []
   },
   "outputs": [
    {
     "data": {
      "text/plain": [
       "(166814,\n",
       " {'mol1': 'CCCCC/C=C/C(=O)OC',\n",
       "  'mol1_notes': ['violet',\n",
       "   'sweet',\n",
       "   'oily',\n",
       "   'melon',\n",
       "   'pear',\n",
       "   'hairy',\n",
       "   'costus',\n",
       "   'fruity',\n",
       "   'violet leaf',\n",
       "   'waxy',\n",
       "   'fresh',\n",
       "   'green'],\n",
       "  'mol2': 'CCCCCOC(=O)CCC',\n",
       "  'mol2_notes': ['cherry',\n",
       "   'sweet',\n",
       "   'pineapple',\n",
       "   'fruity',\n",
       "   'banana',\n",
       "   'tropical'],\n",
       "  'blend_notes': ['animal', 'fruity', 'waxy']})"
      ]
     },
     "execution_count": 2,
     "metadata": {},
     "output_type": "execute_result"
    }
   ],
   "source": [
    "import json\n",
    "with open(\"dataset/full.json\") as f:\n",
    "    full_data = json.load(f)\n",
    "len(full_data), full_data[0]"
   ]
  },
  {
   "cell_type": "code",
   "execution_count": 3,
   "id": "3c5d86eb-d122-49b2-aa84-3083e5e3983f",
   "metadata": {
    "tags": []
   },
   "outputs": [
    {
     "data": {
      "text/plain": [
       "2971"
      ]
     },
     "execution_count": 3,
     "metadata": {},
     "output_type": "execute_result"
    }
   ],
   "source": [
    "from tqdm.notebook import tqdm\n",
    "mol_to_notes = dict()\n",
    "for d in full_data:\n",
    "    mol_to_notes[d[\"mol1\"]] = d[\"mol1_notes\"]\n",
    "    mol_to_notes[d[\"mol2\"]] = d[\"mol2_notes\"]    \n",
    "len(mol_to_notes)"
   ]
  },
  {
   "cell_type": "code",
   "execution_count": 4,
   "id": "fcddf6bb-59bb-4e60-a769-a08bb35152ad",
   "metadata": {
    "tags": []
   },
   "outputs": [
    {
     "data": {
      "text/plain": [
       "'Before Canonicalization: |Single Notes| = 398. After Canonicalization: |Single Notes| = 398.'"
      ]
     },
     "execution_count": 4,
     "metadata": {},
     "output_type": "execute_result"
    }
   ],
   "source": [
    "import single.utils\n",
    "import graph.utils\n",
    "\n",
    "raw_single_notes = set()\n",
    "for d in full_data:\n",
    "    raw_single_notes.update(d[\"mol1_notes\"])\n",
    "    raw_single_notes.update(d[\"mol2_notes\"])\n",
    "\n",
    "all_single_notes = list(single.utils.canonize(raw_single_notes))\n",
    "f\"Before Canonicalization: |Single Notes| = {len(all_single_notes)}. After Canonicalization: |Single Notes| = {len(all_single_notes)}.\""
   ]
  },
  {
   "cell_type": "code",
   "execution_count": 5,
   "id": "889b51b0-cce0-4642-b4b3-b75787ebfe38",
   "metadata": {
    "tags": []
   },
   "outputs": [
    {
     "data": {
      "text/plain": [
       "{'train': 43992, 'test': 39554, 'covered_notes': 77}"
      ]
     },
     "execution_count": 5,
     "metadata": {},
     "output_type": "execute_result"
    }
   ],
   "source": [
    "import json\n",
    "with open(\"dataset/single_fold.json\") as f:\n",
    "    split_data = json.load(f)\n",
    "{k:len(v) for k, v in split_data.items()}"
   ]
  },
  {
   "cell_type": "code",
   "execution_count": 6,
   "id": "dc228596-3cec-4da9-9cdc-bd01c0b5fb41",
   "metadata": {
    "tags": []
   },
   "outputs": [
    {
     "data": {
      "text/plain": [
       "{'edge': ['CCCCCCCCCCCC(OC)OC', 'CCC/C=C\\\\CO'], 'blend_notes': ['green']}"
      ]
     },
     "execution_count": 6,
     "metadata": {},
     "output_type": "execute_result"
    }
   ],
   "source": [
    "split_data[\"train\"][0]"
   ]
  },
  {
   "cell_type": "code",
   "execution_count": 7,
   "id": "2e7c8e27-f1e7-459f-9d56-bc0b5705ff75",
   "metadata": {
    "tags": []
   },
   "outputs": [
    {
     "data": {
      "text/plain": [
       "(361, 369, 332)"
      ]
     },
     "execution_count": 7,
     "metadata": {},
     "output_type": "execute_result"
    }
   ],
   "source": [
    "def get_seen_single_notes(dataset):\n",
    "    seen = set()\n",
    "    for d in dataset:\n",
    "        mol1, mol2 = d[\"edge\"]\n",
    "        seen.update(mol_to_notes[mol1])\n",
    "        seen.update(mol_to_notes[mol2])\n",
    "    return set(single.utils.canonize(seen))\n",
    "train_singles = get_seen_single_notes(split_data[\"train\"])\n",
    "test_singles = get_seen_single_notes(split_data[\"test\"])\n",
    "common_singles = list(train_singles.intersection(test_singles))\n",
    "len(train_singles), len(test_singles), len(common_singles)"
   ]
  },
  {
   "cell_type": "code",
   "execution_count": 8,
   "id": "eeee42f5-8804-4aa7-8c9b-2afd4bb505c1",
   "metadata": {
    "tags": []
   },
   "outputs": [],
   "source": [
    "all_blend_notes = {'oily', 'ethereal', 'fermented', 'bitter', 'soapy', 'phenolic', 'winey', 'roasted', 'spicy', 'fusel', 'tropical', 'anise', 'honey', 'aromatic', 'meaty', 'fresh', 'woody', 'melon', 'mentholic', 'clean', 'camphoreous', 'nutty', 'herbal', 'jammy', 'earthy', 'vegetable', 'caramellic', 'coconut', 'orris', 'bready', 'citrus', 'chemical', 'burnt', 'dairy', 'cheesy', 'fatty', 'floral', 'fruity', 'green', 'marine', 'coumarinic', 'licorice', 'mossy', 'tonka', 'creamy', 'waxy', 'animal', 'acidic', 'brown', 'cocoa', 'chocolate', 'sweet', 'rummy', 'sour', 'balsamic', 'coffee', 'solvent', 'fungal', 'berry', 'amber', 'cooling', 'onion', 'buttery', 'estery', 'powdery', 'musk', 'aldehydic', 'medicinal', 'alliaceous', 'minty', 'vanilla', 'thujonic', 'sulfurous', 'musty'}\n",
    "all_blend_notes = list(all_blend_notes)"
   ]
  },
  {
   "cell_type": "code",
   "execution_count": 9,
   "id": "c422e8b7-2c7f-4719-ac40-66394c6029d4",
   "metadata": {
    "tags": []
   },
   "outputs": [
    {
     "data": {
      "application/vnd.jupyter.widget-view+json": {
       "model_id": "fa56e8c5feee41b2bdad1b7c4b3fba49",
       "version_major": 2,
       "version_minor": 0
      },
      "text/plain": [
       "  0%|          | 0/43992 [00:00<?, ?it/s]"
      ]
     },
     "metadata": {},
     "output_type": "display_data"
    },
    {
     "name": "stdout",
     "output_type": "stream",
     "text": [
      "Found 262 empty blends.\n"
     ]
    },
    {
     "data": {
      "application/vnd.jupyter.widget-view+json": {
       "model_id": "81953ad7e80d4592a0acdb6271491fca",
       "version_major": 2,
       "version_minor": 0
      },
      "text/plain": [
       "  0%|          | 0/39554 [00:00<?, ?it/s]"
      ]
     },
     "metadata": {},
     "output_type": "display_data"
    },
    {
     "name": "stdout",
     "output_type": "stream",
     "text": [
      "Found 286 empty blends.\n"
     ]
    },
    {
     "data": {
      "text/plain": [
       "((43730, 332), (39268, 332), (43730, 74), (39268, 74))"
      ]
     },
     "execution_count": 9,
     "metadata": {},
     "output_type": "execute_result"
    }
   ],
   "source": [
    "import numpy as np\n",
    "\n",
    "def make_notes_vectors(dataset):\n",
    "    xs = []\n",
    "    ys = []\n",
    "    empty = 0\n",
    "    for d in tqdm(dataset):\n",
    "        blnd = graph.utils.canonize(d[\"blend_notes\"])\n",
    "        \n",
    "        mol1, mol2 = d[\"edge\"]\n",
    "        n1 = set(single.utils.canonize(mol_to_notes[mol1]))\n",
    "        n2 = set(single.utils.canonize(mol_to_notes[mol2]))\n",
    "        \n",
    "        x = graph.utils.multi_hot(n1,common_singles)+graph.utils.multi_hot(n2,common_singles)\n",
    "        y = graph.utils.multi_hot(blnd,all_blend_notes)\n",
    "\n",
    "        if x.sum() == 0 or y.sum() == 0:\n",
    "            empty += 1\n",
    "            continue\n",
    "\n",
    "        xs.append(x)\n",
    "        ys.append(y)\n",
    "        \n",
    "    print(f\"Found {empty} empty blends.\")        \n",
    "    return np.array(xs), np.array(ys)\n",
    "\n",
    "train_x, train_y = make_notes_vectors(split_data[\"train\"])\n",
    "test_x, test_y = make_notes_vectors(split_data[\"test\"])\n",
    "train_x.shape, test_x.shape, train_y.shape, test_y.shape"
   ]
  },
  {
   "cell_type": "code",
   "execution_count": 10,
   "id": "3f9c7242-d584-43fb-963e-0dc3a72d7775",
   "metadata": {
    "tags": []
   },
   "outputs": [
    {
     "data": {
      "text/plain": [
       "'Data looks good!'"
      ]
     },
     "execution_count": 10,
     "metadata": {},
     "output_type": "execute_result"
    }
   ],
   "source": [
    "def checksum(vector):\n",
    "    # Assert every label has a sample and Assert every sample has a label\n",
    "    return (vector.sum(axis=0) > 0).all() and (vector.sum(axis=1) > 0).all()\n",
    "assert checksum(train_x)\n",
    "assert checksum(train_y)\n",
    "assert checksum(test_x)\n",
    "assert checksum(test_y)\n",
    "\"Data looks good!\""
   ]
  },
  {
   "cell_type": "code",
   "execution_count": 11,
   "id": "cb97b4be-3918-4ab2-ad08-4306cd5ba357",
   "metadata": {
    "tags": []
   },
   "outputs": [
    {
     "name": "stdout",
     "output_type": "stream",
     "text": [
      "Random Forest\n"
     ]
    },
    {
     "ename": "NameError",
     "evalue": "name 'train_evaluate_model' is not defined",
     "output_type": "error",
     "traceback": [
      "\u001b[0;31m---------------------------------------------------------------------------\u001b[0m",
      "\u001b[0;31mNameError\u001b[0m                                 Traceback (most recent call last)",
      "Cell \u001b[0;32mIn[11], line 4\u001b[0m\n\u001b[1;32m      1\u001b[0m \u001b[38;5;28;01mimport\u001b[39;00m \u001b[38;5;21;01msklearn\u001b[39;00m\u001b[38;5;21;01m.\u001b[39;00m\u001b[38;5;21;01mensemble\u001b[39;00m\n\u001b[1;32m      3\u001b[0m \u001b[38;5;28mprint\u001b[39m(\u001b[38;5;124m\"\u001b[39m\u001b[38;5;124mRandom Forest\u001b[39m\u001b[38;5;124m\"\u001b[39m)\n\u001b[0;32m----> 4\u001b[0m train_evaluate_model(sklearn\u001b[38;5;241m.\u001b[39mensemble\u001b[38;5;241m.\u001b[39mRandomForestClassifier())\n",
      "\u001b[0;31mNameError\u001b[0m: name 'train_evaluate_model' is not defined"
     ]
    }
   ],
   "source": [
    "import sklearn.ensemble\n",
    "\n",
    "print(\"Random Forest\")\n",
    "train_evaluate_model(sklearn.ensemble.RandomForestClassifier())"
   ]
  },
  {
   "cell_type": "code",
   "execution_count": null,
   "id": "e17dba44-5f89-449c-b61e-9618a84c13d1",
   "metadata": {
    "tags": []
   },
   "outputs": [],
   "source": [
    "import sklearn.svm\n",
    "import sklearn.multioutput\n",
    "\n",
    "print(\"SVM\")\n",
    "train_evaluate_model(sklearn.svm.SVC(probability=True))"
   ]
  }
 ],
 "metadata": {
  "kernelspec": {
   "display_name": "Python 3 (ipykernel)",
   "language": "python",
   "name": "python3"
  },
  "language_info": {
   "codemirror_mode": {
    "name": "ipython",
    "version": 3
   },
   "file_extension": ".py",
   "mimetype": "text/x-python",
   "name": "python",
   "nbconvert_exporter": "python",
   "pygments_lexer": "ipython3",
   "version": "3.11.5"
  }
 },
 "nbformat": 4,
 "nbformat_minor": 5
}
