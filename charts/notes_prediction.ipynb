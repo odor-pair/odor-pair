{
 "cells": [
  {
   "cell_type": "code",
   "execution_count": 1,
   "id": "7cc5fab7-aedf-4812-8f6d-4bb8744d880f",
   "metadata": {
    "tags": []
   },
   "outputs": [
    {
     "data": {
      "text/plain": [
       "'/Users/laurasisson/odor-pair'"
      ]
     },
     "execution_count": 1,
     "metadata": {},
     "output_type": "execute_result"
    }
   ],
   "source": [
    "import os\n",
    "os.chdir(\"..\")\n",
    "os.getcwd()"
   ]
  },
  {
   "cell_type": "code",
   "execution_count": 3,
   "id": "4d4b5619-9864-457f-bf6d-956e70123abe",
   "metadata": {
    "tags": []
   },
   "outputs": [
    {
     "data": {
      "text/plain": [
       "(166814,\n",
       " {'mol1': 'CCCCC/C=C/C(=O)OC',\n",
       "  'mol1_notes': ['violet',\n",
       "   'sweet',\n",
       "   'oily',\n",
       "   'melon',\n",
       "   'pear',\n",
       "   'hairy',\n",
       "   'costus',\n",
       "   'fruity',\n",
       "   'violet leaf',\n",
       "   'waxy',\n",
       "   'fresh',\n",
       "   'green'],\n",
       "  'mol2': 'CCCCCOC(=O)CCC',\n",
       "  'mol2_notes': ['cherry',\n",
       "   'sweet',\n",
       "   'pineapple',\n",
       "   'fruity',\n",
       "   'banana',\n",
       "   'tropical'],\n",
       "  'blend_notes': ['animal', 'fruity', 'waxy']})"
      ]
     },
     "execution_count": 3,
     "metadata": {},
     "output_type": "execute_result"
    }
   ],
   "source": [
    "import json\n",
    "with open(\"dataset/full.json\") as f:\n",
    "    full_data = json.load(f)\n",
    "len(full_data), full_data[0]"
   ]
  },
  {
   "cell_type": "code",
   "execution_count": 56,
   "id": "3c5d86eb-d122-49b2-aa84-3083e5e3983f",
   "metadata": {
    "tags": []
   },
   "outputs": [
    {
     "data": {
      "text/plain": [
       "2971"
      ]
     },
     "execution_count": 56,
     "metadata": {},
     "output_type": "execute_result"
    }
   ],
   "source": [
    "from tqdm.notebook import tqdm\n",
    "mol_to_notes = dict()\n",
    "for d in full_data:\n",
    "    mol_to_notes[d[\"mol1\"]] = d[\"mol1_notes\"]\n",
    "    mol_to_notes[d[\"mol2\"]] = d[\"mol2_notes\"]    \n",
    "len(mol_to_notes)"
   ]
  },
  {
   "cell_type": "code",
   "execution_count": 12,
   "id": "fcddf6bb-59bb-4e60-a769-a08bb35152ad",
   "metadata": {
    "tags": []
   },
   "outputs": [
    {
     "data": {
      "text/plain": [
       "'Before Canonicalization: |Single Notes| = 398. After Canonicalization: |Single Notes| = 398.'"
      ]
     },
     "execution_count": 12,
     "metadata": {},
     "output_type": "execute_result"
    }
   ],
   "source": [
    "import single.utils\n",
    "import graph.utils\n",
    "\n",
    "raw_single_notes = set()\n",
    "for d in data:\n",
    "    raw_single_notes.update(d[\"mol1_notes\"])\n",
    "    raw_single_notes.update(d[\"mol2_notes\"])\n",
    "\n",
    "all_single_notes = list(single.utils.canonize(raw_single_notes))\n",
    "f\"Before Canonicalization: |Single Notes| = {len(all_single_notes)}. After Canonicalization: |Single Notes| = {len(all_single_notes)}.\""
   ]
  },
  {
   "cell_type": "code",
   "execution_count": 6,
   "id": "889b51b0-cce0-4642-b4b3-b75787ebfe38",
   "metadata": {
    "tags": []
   },
   "outputs": [
    {
     "data": {
      "text/plain": [
       "{'train': 43992, 'test': 39554, 'covered_notes': 77}"
      ]
     },
     "execution_count": 6,
     "metadata": {},
     "output_type": "execute_result"
    }
   ],
   "source": [
    "import json\n",
    "with open(\"dataset/single_fold.json\") as f:\n",
    "    split_data = json.load(f)\n",
    "{k:len(v) for k, v in split_data.items()}"
   ]
  },
  {
   "cell_type": "code",
   "execution_count": 10,
   "id": "dc228596-3cec-4da9-9cdc-bd01c0b5fb41",
   "metadata": {
    "tags": []
   },
   "outputs": [
    {
     "data": {
      "text/plain": [
       "{'edge': ['CCCCCCCCCCCC(OC)OC', 'CCC/C=C\\\\CO'], 'blend_notes': ['green']}"
      ]
     },
     "execution_count": 10,
     "metadata": {},
     "output_type": "execute_result"
    }
   ],
   "source": [
    "split_data[\"train\"][0]"
   ]
  },
  {
   "cell_type": "code",
   "execution_count": 62,
   "id": "2e7c8e27-f1e7-459f-9d56-bc0b5705ff75",
   "metadata": {
    "tags": []
   },
   "outputs": [
    {
     "data": {
      "text/plain": [
       "(361, 369, 332)"
      ]
     },
     "execution_count": 62,
     "metadata": {},
     "output_type": "execute_result"
    }
   ],
   "source": [
    "def get_seen_single_notes(dataset):\n",
    "    seen = set()\n",
    "    for d in dataset:\n",
    "        mol1, mol2 = d[\"edge\"]\n",
    "        seen.update(mol_to_notes[mol1])\n",
    "        seen.update(mol_to_notes[mol2])\n",
    "    return set(single.utils.canonize(seen))\n",
    "train_singles = get_seen_single_notes(split_data[\"train\"])\n",
    "test_singles = get_seen_single_notes(split_data[\"test\"])\n",
    "common_singles = list(train_singles.intersection(test_singles))\n",
    "len(train_singles), len(test_singles), len(common_singles)"
   ]
  },
  {
   "cell_type": "code",
   "execution_count": 63,
   "id": "c422e8b7-2c7f-4719-ac40-66394c6029d4",
   "metadata": {
    "tags": []
   },
   "outputs": [
    {
     "data": {
      "application/vnd.jupyter.widget-view+json": {
       "model_id": "aba00fa0eece43af97bed0dcebcdc0c6",
       "version_major": 2,
       "version_minor": 0
      },
      "text/plain": [
       "  0%|          | 0/43992 [00:00<?, ?it/s]"
      ]
     },
     "metadata": {},
     "output_type": "display_data"
    },
    {
     "name": "stdout",
     "output_type": "stream",
     "text": [
      "Found 256 empty blends.\n"
     ]
    },
    {
     "data": {
      "application/vnd.jupyter.widget-view+json": {
       "model_id": "b09634dd96a84cb2a530840a5e4d5236",
       "version_major": 2,
       "version_minor": 0
      },
      "text/plain": [
       "  0%|          | 0/39554 [00:00<?, ?it/s]"
      ]
     },
     "metadata": {},
     "output_type": "display_data"
    },
    {
     "name": "stdout",
     "output_type": "stream",
     "text": [
      "Found 243 empty blends.\n"
     ]
    },
    {
     "data": {
      "text/plain": [
       "((43736, 332), (39311, 332), (43736, 77), (39311, 77))"
      ]
     },
     "execution_count": 63,
     "metadata": {},
     "output_type": "execute_result"
    }
   ],
   "source": [
    "import numpy as np\n",
    "\n",
    "def make_notes_vectors(dataset,all_blend_notes):\n",
    "    xs = []\n",
    "    ys = []\n",
    "    empty = 0\n",
    "    for d in tqdm(dataset):\n",
    "        blnd = graph.utils.canonize(d[\"blend_notes\"])\n",
    "        \n",
    "        mol1, mol2 = d[\"edge\"]\n",
    "        n1 = set(single.utils.canonize(mol_to_notes[mol1]))\n",
    "        n2 = set(single.utils.canonize(mol_to_notes[mol2]))\n",
    "        \n",
    "        x = graph.utils.multi_hot(n1,common_singles)+graph.utils.multi_hot(n2,common_singles)\n",
    "        y = graph.utils.multi_hot(blnd,all_blend_notes)\n",
    "\n",
    "        if x.sum() == 0 or y.sum() == 0:\n",
    "            empty += 1\n",
    "            continue\n",
    "\n",
    "        xs.append(x)\n",
    "        ys.append(y)\n",
    "        \n",
    "    print(f\"Found {empty} empty blends.\")        \n",
    "    return np.array(xs), np.array(ys)\n",
    "\n",
    "train_x, train_y = make_notes_vectors(split_data[\"train\"],split_data[\"covered_notes\"])\n",
    "test_x, test_y = make_notes_vectors(split_data[\"test\"],split_data[\"covered_notes\"])\n",
    "train_x.shape, test_x.shape, train_y.shape, test_y.shape"
   ]
  },
  {
   "cell_type": "code",
   "execution_count": 65,
   "id": "3f9c7242-d584-43fb-963e-0dc3a72d7775",
   "metadata": {
    "tags": []
   },
   "outputs": [
    {
     "data": {
      "text/plain": [
       "'Data looks good!'"
      ]
     },
     "execution_count": 65,
     "metadata": {},
     "output_type": "execute_result"
    }
   ],
   "source": [
    "def checksum(vector):\n",
    "    # Assert every label has a sample and Assert every sample has a label\n",
    "    return (vector.sum(axis=0) > 0).all() and (vector.sum(axis=1) > 0).all()\n",
    "assert checksum(train_x)\n",
    "assert checksum(train_y)\n",
    "assert checksum(test_x)\n",
    "assert checksum(test_y)\n",
    "\"Data looks good!\""
   ]
  },
  {
   "cell_type": "code",
   "execution_count": 90,
   "id": "86446ed1-edc8-4a26-b1c5-bed4548db830",
   "metadata": {
    "tags": []
   },
   "outputs": [
    {
     "name": "stdout",
     "output_type": "stream",
     "text": [
      "Logistic Regression\n",
      "Training the model...\n"
     ]
    },
    {
     "data": {
      "application/vnd.jupyter.widget-view+json": {
       "model_id": "c07a18c86eba4ae7b089a5050821096a",
       "version_major": 2,
       "version_minor": 0
      },
      "text/plain": [
       "Training classifiers for each label:   0%|          | 0/77 [00:00<?, ?it/s]"
      ]
     },
     "metadata": {},
     "output_type": "display_data"
    },
    {
     "name": "stdout",
     "output_type": "stream",
     "text": [
      "Predicting probabilities for AUROC calculation...\n"
     ]
    },
    {
     "data": {
      "application/vnd.jupyter.widget-view+json": {
       "model_id": "0f3f598a11d64d3290524ba35803c983",
       "version_major": 2,
       "version_minor": 0
      },
      "text/plain": [
       "Predicting probabilities:   0%|          | 0/77 [00:00<?, ?it/s]"
      ]
     },
     "metadata": {},
     "output_type": "display_data"
    },
    {
     "name": "stdout",
     "output_type": "stream",
     "text": [
      "Micro-averaged AUROC: 0.48962054009741324\n",
      "Macro-averaged AUROC: 0.5134447611351038\n"
     ]
    }
   ],
   "source": [
    "import sklearn.metrics\n",
    "import sklearn.ensemble\n",
    "import sklearn.linear_model\n",
    "\n",
    "def train_evaluate_model(base_classifier):\n",
    "    print(\"Training the model...\")\n",
    "    # Hack because I want progress bars\n",
    "    estimators = []\n",
    "    for i in tqdm(range(train_y.shape[1]), desc=\"Training classifiers for each label\"):\n",
    "        estimators.append(base_classifier.fit(train_x, train_y[:, i]))\n",
    "        \n",
    "    print(\"Predicting probabilities for AUROC calculation...\")\n",
    "    test_pred = np.zeros_like(test_y, dtype=float)\n",
    "    for i in tqdm(range(test_y.shape[1]), desc=\"Predicting probabilities\"):\n",
    "        test_pred[:, i] = estimators[i].predict_proba(test_x)[:,1]\n",
    "    \n",
    "    # Calculate AUROC for micro and macro averaging\n",
    "    auc_micro = sklearn.metrics.roc_auc_score(test_y, test_pred, average='micro')\n",
    "    auc_macro = sklearn.metrics.roc_auc_score(test_y, test_pred, average='macro')\n",
    "\n",
    "    print(\"Micro-averaged AUROC:\", auc_micro)\n",
    "    print(\"Macro-averaged AUROC:\", auc_macro)\n",
    "\n",
    "    model.estimators_ = estimators\n",
    "\n",
    "print(\"Logistic Regression\")\n",
    "train_evaluate_model(sklearn.linear_model.LogisticRegression(max_iter=1000))"
   ]
  },
  {
   "cell_type": "code",
   "execution_count": 91,
   "id": "cb97b4be-3918-4ab2-ad08-4306cd5ba357",
   "metadata": {
    "tags": []
   },
   "outputs": [
    {
     "name": "stdout",
     "output_type": "stream",
     "text": [
      "Random Forest\n",
      "Training the model...\n"
     ]
    },
    {
     "data": {
      "application/vnd.jupyter.widget-view+json": {
       "model_id": "7f001643c4ae4afb906a85016252bf47",
       "version_major": 2,
       "version_minor": 0
      },
      "text/plain": [
       "Training classifiers for each label:   0%|          | 0/77 [00:00<?, ?it/s]"
      ]
     },
     "metadata": {},
     "output_type": "display_data"
    },
    {
     "name": "stdout",
     "output_type": "stream",
     "text": [
      "Predicting probabilities for AUROC calculation...\n"
     ]
    },
    {
     "data": {
      "application/vnd.jupyter.widget-view+json": {
       "model_id": "1c86edd26a7b461aa39cb705760c5ec5",
       "version_major": 2,
       "version_minor": 0
      },
      "text/plain": [
       "Predicting probabilities:   0%|          | 0/77 [00:00<?, ?it/s]"
      ]
     },
     "metadata": {},
     "output_type": "display_data"
    },
    {
     "name": "stdout",
     "output_type": "stream",
     "text": [
      "Micro-averaged AUROC: 0.4988200219226068\n",
      "Macro-averaged AUROC: 0.5313256547262031\n"
     ]
    }
   ],
   "source": [
    "print(\"Random Forest\")\n",
    "train_evaluate_model(sklearn.ensemble.RandomForestClassifier())"
   ]
  }
 ],
 "metadata": {
  "kernelspec": {
   "display_name": "Python 3 (ipykernel)",
   "language": "python",
   "name": "python3"
  },
  "language_info": {
   "codemirror_mode": {
    "name": "ipython",
    "version": 3
   },
   "file_extension": ".py",
   "mimetype": "text/x-python",
   "name": "python",
   "nbconvert_exporter": "python",
   "pygments_lexer": "ipython3",
   "version": "3.11.5"
  }
 },
 "nbformat": 4,
 "nbformat_minor": 5
}
