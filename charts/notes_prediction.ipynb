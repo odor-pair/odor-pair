{
 "cells": [
  {
   "cell_type": "code",
   "execution_count": 1,
   "id": "7cc5fab7-aedf-4812-8f6d-4bb8744d880f",
   "metadata": {
    "tags": []
   },
   "outputs": [
    {
     "data": {
      "text/plain": [
       "'/Users/laurasisson/odor-pair'"
      ]
     },
     "execution_count": 1,
     "metadata": {},
     "output_type": "execute_result"
    }
   ],
   "source": [
    "import os\n",
    "os.chdir(\"..\")\n",
    "os.getcwd()"
   ]
  },
  {
   "cell_type": "code",
   "execution_count": 2,
   "id": "4d4b5619-9864-457f-bf6d-956e70123abe",
   "metadata": {
    "tags": []
   },
   "outputs": [
    {
     "data": {
      "text/plain": [
       "(166814,\n",
       " {'mol1': 'CCCCC/C=C/C(=O)OC',\n",
       "  'mol1_notes': ['violet',\n",
       "   'sweet',\n",
       "   'oily',\n",
       "   'melon',\n",
       "   'pear',\n",
       "   'hairy',\n",
       "   'costus',\n",
       "   'fruity',\n",
       "   'violet leaf',\n",
       "   'waxy',\n",
       "   'fresh',\n",
       "   'green'],\n",
       "  'mol2': 'CCCCCOC(=O)CCC',\n",
       "  'mol2_notes': ['cherry',\n",
       "   'sweet',\n",
       "   'pineapple',\n",
       "   'fruity',\n",
       "   'banana',\n",
       "   'tropical'],\n",
       "  'blend_notes': ['animal', 'fruity', 'waxy']})"
      ]
     },
     "execution_count": 2,
     "metadata": {},
     "output_type": "execute_result"
    }
   ],
   "source": [
    "import json\n",
    "with open(\"dataset/full.json\") as f:\n",
    "    full_data = json.load(f)\n",
    "len(full_data), full_data[0]"
   ]
  },
  {
   "cell_type": "code",
   "execution_count": 3,
   "id": "3c5d86eb-d122-49b2-aa84-3083e5e3983f",
   "metadata": {
    "tags": []
   },
   "outputs": [
    {
     "data": {
      "text/plain": [
       "2971"
      ]
     },
     "execution_count": 3,
     "metadata": {},
     "output_type": "execute_result"
    }
   ],
   "source": [
    "from tqdm.notebook import tqdm\n",
    "mol_to_notes = dict()\n",
    "for d in full_data:\n",
    "    mol_to_notes[d[\"mol1\"]] = d[\"mol1_notes\"]\n",
    "    mol_to_notes[d[\"mol2\"]] = d[\"mol2_notes\"]    \n",
    "len(mol_to_notes)"
   ]
  },
  {
   "cell_type": "code",
   "execution_count": 4,
   "id": "fcddf6bb-59bb-4e60-a769-a08bb35152ad",
   "metadata": {
    "tags": []
   },
   "outputs": [
    {
     "data": {
      "text/plain": [
       "'Before Canonicalization: |Single Notes| = 398. After Canonicalization: |Single Notes| = 398.'"
      ]
     },
     "execution_count": 4,
     "metadata": {},
     "output_type": "execute_result"
    }
   ],
   "source": [
    "import single.utils\n",
    "import graph.utils\n",
    "\n",
    "raw_single_notes = set()\n",
    "for d in full_data:\n",
    "    raw_single_notes.update(d[\"mol1_notes\"])\n",
    "    raw_single_notes.update(d[\"mol2_notes\"])\n",
    "\n",
    "all_single_notes = list(single.utils.canonize(raw_single_notes))\n",
    "f\"Before Canonicalization: |Single Notes| = {len(all_single_notes)}. After Canonicalization: |Single Notes| = {len(all_single_notes)}.\""
   ]
  },
  {
   "cell_type": "code",
   "execution_count": 5,
   "id": "889b51b0-cce0-4642-b4b3-b75787ebfe38",
   "metadata": {
    "tags": []
   },
   "outputs": [
    {
     "data": {
      "text/plain": [
       "{'train': 43992, 'test': 39554, 'covered_notes': 77}"
      ]
     },
     "execution_count": 5,
     "metadata": {},
     "output_type": "execute_result"
    }
   ],
   "source": [
    "import json\n",
    "with open(\"dataset/single_fold.json\") as f:\n",
    "    split_data = json.load(f)\n",
    "{k:len(v) for k, v in split_data.items()}"
   ]
  },
  {
   "cell_type": "code",
   "execution_count": 6,
   "id": "dc228596-3cec-4da9-9cdc-bd01c0b5fb41",
   "metadata": {
    "tags": []
   },
   "outputs": [
    {
     "data": {
      "text/plain": [
       "{'edge': ['CCCCCCCCCCCC(OC)OC', 'CCC/C=C\\\\CO'], 'blend_notes': ['green']}"
      ]
     },
     "execution_count": 6,
     "metadata": {},
     "output_type": "execute_result"
    }
   ],
   "source": [
    "split_data[\"train\"][0]"
   ]
  },
  {
   "cell_type": "code",
   "execution_count": 7,
   "id": "2e7c8e27-f1e7-459f-9d56-bc0b5705ff75",
   "metadata": {
    "tags": []
   },
   "outputs": [
    {
     "data": {
      "text/plain": [
       "(361, 369, 332)"
      ]
     },
     "execution_count": 7,
     "metadata": {},
     "output_type": "execute_result"
    }
   ],
   "source": [
    "def get_seen_single_notes(dataset):\n",
    "    seen = set()\n",
    "    for d in dataset:\n",
    "        mol1, mol2 = d[\"edge\"]\n",
    "        seen.update(mol_to_notes[mol1])\n",
    "        seen.update(mol_to_notes[mol2])\n",
    "    return set(single.utils.canonize(seen))\n",
    "train_singles = get_seen_single_notes(split_data[\"train\"])\n",
    "test_singles = get_seen_single_notes(split_data[\"test\"])\n",
    "common_singles = list(train_singles.intersection(test_singles))\n",
    "len(train_singles), len(test_singles), len(common_singles)"
   ]
  },
  {
   "cell_type": "code",
   "execution_count": 10,
   "id": "eeee42f5-8804-4aa7-8c9b-2afd4bb505c1",
   "metadata": {
    "tags": []
   },
   "outputs": [],
   "source": [
    "all_blend_notes = {'oily', 'ethereal', 'fermented', 'bitter', 'soapy', 'phenolic', 'winey', 'roasted', 'spicy', 'fusel', 'tropical', 'anise', 'honey', 'aromatic', 'meaty', 'fresh', 'woody', 'melon', 'mentholic', 'clean', 'camphoreous', 'nutty', 'herbal', 'jammy', 'earthy', 'vegetable', 'caramellic', 'coconut', 'orris', 'bready', 'citrus', 'chemical', 'burnt', 'dairy', 'cheesy', 'fatty', 'floral', 'fruity', 'green', 'marine', 'coumarinic', 'licorice', 'mossy', 'tonka', 'creamy', 'waxy', 'animal', 'acidic', 'brown', 'cocoa', 'chocolate', 'sweet', 'rummy', 'sour', 'balsamic', 'coffee', 'solvent', 'fungal', 'berry', 'amber', 'cooling', 'onion', 'buttery', 'estery', 'powdery', 'musk', 'aldehydic', 'medicinal', 'alliaceous', 'minty', 'vanilla', 'thujonic', 'sulfurous', 'musty'}\n",
    "all_blend_notes = list(all_blend_notes)"
   ]
  },
  {
   "cell_type": "code",
   "execution_count": 11,
   "id": "c422e8b7-2c7f-4719-ac40-66394c6029d4",
   "metadata": {
    "tags": []
   },
   "outputs": [
    {
     "data": {
      "application/vnd.jupyter.widget-view+json": {
       "model_id": "8fd842811cbf4e6eb14b0e03173835d5",
       "version_major": 2,
       "version_minor": 0
      },
      "text/plain": [
       "  0%|          | 0/43992 [00:00<?, ?it/s]"
      ]
     },
     "metadata": {},
     "output_type": "display_data"
    },
    {
     "name": "stdout",
     "output_type": "stream",
     "text": [
      "Found 262 empty blends.\n"
     ]
    },
    {
     "data": {
      "application/vnd.jupyter.widget-view+json": {
       "model_id": "c3c44028e92f4597ba9ab0299f6c8ee7",
       "version_major": 2,
       "version_minor": 0
      },
      "text/plain": [
       "  0%|          | 0/39554 [00:00<?, ?it/s]"
      ]
     },
     "metadata": {},
     "output_type": "display_data"
    },
    {
     "name": "stdout",
     "output_type": "stream",
     "text": [
      "Found 286 empty blends.\n"
     ]
    },
    {
     "data": {
      "text/plain": [
       "((43730, 332), (39268, 332), (43730, 74), (39268, 74))"
      ]
     },
     "execution_count": 11,
     "metadata": {},
     "output_type": "execute_result"
    }
   ],
   "source": [
    "import numpy as np\n",
    "\n",
    "def make_notes_vectors(dataset):\n",
    "    xs = []\n",
    "    ys = []\n",
    "    empty = 0\n",
    "    for d in tqdm(dataset):\n",
    "        blnd = graph.utils.canonize(d[\"blend_notes\"])\n",
    "        \n",
    "        mol1, mol2 = d[\"edge\"]\n",
    "        n1 = set(single.utils.canonize(mol_to_notes[mol1]))\n",
    "        n2 = set(single.utils.canonize(mol_to_notes[mol2]))\n",
    "        \n",
    "        x = graph.utils.multi_hot(n1,common_singles)+graph.utils.multi_hot(n2,common_singles)\n",
    "        y = graph.utils.multi_hot(blnd,all_blend_notes)\n",
    "\n",
    "        if x.sum() == 0 or y.sum() == 0:\n",
    "            empty += 1\n",
    "            continue\n",
    "\n",
    "        xs.append(x)\n",
    "        ys.append(y)\n",
    "        \n",
    "    print(f\"Found {empty} empty blends.\")        \n",
    "    return np.array(xs), np.array(ys)\n",
    "\n",
    "train_x, train_y = make_notes_vectors(split_data[\"train\"])\n",
    "test_x, test_y = make_notes_vectors(split_data[\"test\"])\n",
    "train_x.shape, test_x.shape, train_y.shape, test_y.shape"
   ]
  },
  {
   "cell_type": "code",
   "execution_count": 12,
   "id": "3f9c7242-d584-43fb-963e-0dc3a72d7775",
   "metadata": {
    "tags": []
   },
   "outputs": [
    {
     "data": {
      "text/plain": [
       "'Data looks good!'"
      ]
     },
     "execution_count": 12,
     "metadata": {},
     "output_type": "execute_result"
    }
   ],
   "source": [
    "def checksum(vector):\n",
    "    # Assert every label has a sample and Assert every sample has a label\n",
    "    return (vector.sum(axis=0) > 0).all() and (vector.sum(axis=1) > 0).all()\n",
    "assert checksum(train_x)\n",
    "assert checksum(train_y)\n",
    "assert checksum(test_x)\n",
    "assert checksum(test_y)\n",
    "\"Data looks good!\""
   ]
  },
  {
   "cell_type": "code",
   "execution_count": 13,
   "id": "6c5cb1a1-a021-47e3-8dc6-486f92e01ff7",
   "metadata": {
    "tags": []
   },
   "outputs": [
    {
     "name": "stdout",
     "output_type": "stream",
     "text": [
      "Training the model...\n",
      "Predicting probabilities for AUROC calculation...\n",
      "(39268, 74)\n",
      "Micro-averaged AUROC: 0.8729345741985826\n",
      "Macro-averaged AUROC: 0.7486614677589748\n"
     ]
    }
   ],
   "source": [
    "import numpy as np\n",
    "import scipy\n",
    "import sklearn.linear_model\n",
    "import sklearn.metrics\n",
    "\n",
    "class LogitRegression:\n",
    "    EPS = 1e-5\n",
    "\n",
    "    def __init__(self, model):\n",
    "        self.model = model\n",
    "\n",
    "    def _clip01(self, arr):\n",
    "        return np.asarray(arr).clip(self.EPS, 1 - self.EPS)\n",
    "\n",
    "    def fit(self, x, p):\n",
    "        p = self._clip01(p)\n",
    "        y = scipy.special.logit(p)\n",
    "        return self.model.fit(x, y)\n",
    "\n",
    "    def predict(self, x):\n",
    "        y = self.model.predict(x)\n",
    "        return scipy.special.expit(y)\n",
    "\n",
    "def train_evaluate_model(base_classifier):\n",
    "    print(\"Training the model...\")\n",
    "    model = LogitRegression(base_classifier)\n",
    "    model.fit(train_x,train_y)\n",
    "    \n",
    "    print(\"Predicting probabilities for AUROC calculation...\")\n",
    "    test_pred = model.predict(test_x)\n",
    "    print(test_pred.shape)\n",
    "    \n",
    "    # Calculate AUROC for micro and macro averaging\n",
    "    auc_micro = sklearn.metrics.roc_auc_score(test_y, test_pred, average='micro')\n",
    "    auc_macro = sklearn.metrics.roc_auc_score(test_y, test_pred, average='macro')\n",
    "\n",
    "    print(\"Micro-averaged AUROC:\", auc_micro)\n",
    "    print(\"Macro-averaged AUROC:\", auc_macro)\n",
    "\n",
    "train_evaluate_model(sklearn.linear_model.LinearRegression())"
   ]
  },
  {
   "cell_type": "code",
   "execution_count": 14,
   "id": "cb97b4be-3918-4ab2-ad08-4306cd5ba357",
   "metadata": {
    "tags": []
   },
   "outputs": [
    {
     "name": "stdout",
     "output_type": "stream",
     "text": [
      "Random Forest\n",
      "Training the model...\n",
      "Predicting probabilities for AUROC calculation...\n",
      "(39268, 74)\n",
      "Micro-averaged AUROC: 0.9064059789592686\n",
      "Macro-averaged AUROC: 0.7013881040721929\n"
     ]
    }
   ],
   "source": [
    "import sklearn.ensemble\n",
    "\n",
    "print(\"Random Forest\")\n",
    "train_evaluate_model(sklearn.ensemble.RandomForestRegressor())"
   ]
  },
  {
   "cell_type": "code",
   "execution_count": null,
   "id": "e17dba44-5f89-449c-b61e-9618a84c13d1",
   "metadata": {
    "tags": []
   },
   "outputs": [
    {
     "name": "stdout",
     "output_type": "stream",
     "text": [
      "SVM\n",
      "Training the model...\n"
     ]
    }
   ],
   "source": [
    "import sklearn.svm\n",
    "import sklearn.multioutput\n",
    "\n",
    "print(\"SVM\")\n",
    "train_evaluate_model(sklearn.multioutput.MultiOutputRegressor(sklearn.svm.SVR()))"
   ]
  }
 ],
 "metadata": {
  "kernelspec": {
   "display_name": "Python 3 (ipykernel)",
   "language": "python",
   "name": "python3"
  },
  "language_info": {
   "codemirror_mode": {
    "name": "ipython",
    "version": 3
   },
   "file_extension": ".py",
   "mimetype": "text/x-python",
   "name": "python",
   "nbconvert_exporter": "python",
   "pygments_lexer": "ipython3",
   "version": "3.11.5"
  }
 },
 "nbformat": 4,
 "nbformat_minor": 5
}
