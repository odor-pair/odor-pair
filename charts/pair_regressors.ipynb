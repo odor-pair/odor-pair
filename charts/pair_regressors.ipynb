{
 "cells": [
  {
   "cell_type": "code",
   "execution_count": 1,
   "id": "514ab328-4f50-444c-a754-ef6be3008b2c",
   "metadata": {
    "tags": []
   },
   "outputs": [],
   "source": [
    "import json\n",
    "import numpy as np\n",
    "import utils"
   ]
  },
  {
   "cell_type": "code",
   "execution_count": 4,
   "id": "39ad175e-4c0b-46a0-b5e7-b2884535de13",
   "metadata": {
    "tags": []
   },
   "outputs": [],
   "source": [
    "with open(\"data/gin_coefficients.json\") as f:\n",
    "    gin_coefficients = json.load(f)\n",
    "gin_coeffs = np.array(gin_coefficients[\"coeffs\"])\n",
    "gin_r2s = np.array(gin_coefficients[\"r2s\"])\n",
    "gin_idcs = np.array(gin_coefficients[\"idcs\"])\n",
    "gin_ps = np.array(gin_coefficients[\"ps\"])\n",
    "gin_scoeffs = sorted(gin_coeffs,key=lambda p: p[0])\n",
    "gin_x,gin_y = zip(*gin_scoeffs)"
   ]
  },
  {
   "cell_type": "code",
   "execution_count": 20,
   "id": "b056538f-6b09-496b-aa0d-c5b16b5ffc9a",
   "metadata": {
    "tags": []
   },
   "outputs": [],
   "source": [
    "with open(\"data/mpnn_coefficients.json\") as f:\n",
    "    mpnn_coefficients = json.load(f)\n",
    "mpnn_coeffs = np.array(mpnn_coefficients[\"coeffs\"])\n",
    "mpnn_r2s = np.array(mpnn_coefficients[\"r2s\"])\n",
    "mpnn_idcs = np.array(mpnn_coefficients[\"idcs\"])\n",
    "mpnn_ps = np.array(mpnn_coefficients[\"ps\"])\n",
    "mpnn_scoeffs = sorted(mpnn_coeffs,key=lambda p: p[0])\n",
    "mpnn_x,mpnn_y = zip(*mpnn_scoeffs)\n",
    "# mpnn_x = [x-3 for x in mpnn_x]\n",
    "# mpnn_y = [y-5 for y in mpnn_y]"
   ]
  },
  {
   "cell_type": "code",
   "execution_count": null,
   "id": "b4222030-cd8e-45dc-8420-a68cfdadc796",
   "metadata": {
    "tags": []
   },
   "outputs": [],
   "source": [
    "import matplotlib.pyplot as plt\n",
    "import numpy as np\n",
    "from mpl_toolkits.axes_grid1.inset_locator import inset_axes\n",
    "\n",
    "# Create a figure and axis\n",
    "fig, ax = utils.standard_fig_ax()\n",
    "scatter2 = ax.scatter(mpnn_x,mpnn_y,s=1e-3,label=\"MPNN-GNN\")\n",
    "scatter1 = ax.scatter(gin_x,gin_y,s=1e-3,label=\"GIN-GNN\")\n",
    "ax.grid()\n",
    "r = 15\n",
    "xm, ym = 0, 0\n",
    "ax.grid(False)\n",
    "ax.set_xlim((-r+xm,r+xm))\n",
    "ax.set_ylim((-r+ym,r+ym))\n",
    "\n",
    "ax.set_xlabel(r\"Fit $\\alpha_1$ (First Molecule)\")\n",
    "ax.set_ylabel(r\"Fit $\\alpha_2$ (Second Molecule)\")\n",
    "\n",
    "# Create custom legend handles with larger markers\n",
    "legend_handles = [\n",
    "    plt.Line2D([0], [0], marker='o', color='w', markerfacecolor=scatter1.get_facecolor()[0], markersize=10, label=\"GIN-GNN\"),\n",
    "    plt.Line2D([0], [0], marker='o', color='w', markerfacecolor=scatter2.get_facecolor()[0], markersize=10, label=\"MPNN-GNN\")\n",
    "]\n",
    "\n",
    "# Add legend\n",
    "plt.legend(handles=legend_handles, loc='best')  # You can adjust the location as needed\n",
    "    \n",
    "utils.save_figures(\"pair_regressors_final\",fig)\n",
    "plt.show()\n"
   ]
  }
 ],
 "metadata": {
  "kernelspec": {
   "display_name": "Python 3 (ipykernel)",
   "language": "python",
   "name": "python3"
  },
  "language_info": {
   "codemirror_mode": {
    "name": "ipython",
    "version": 3
   },
   "file_extension": ".py",
   "mimetype": "text/x-python",
   "name": "python",
   "nbconvert_exporter": "python",
   "pygments_lexer": "ipython3",
   "version": "3.11.5"
  }
 },
 "nbformat": 4,
 "nbformat_minor": 5
}
