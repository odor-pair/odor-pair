{
 "cells": [
  {
   "cell_type": "code",
   "execution_count": 1,
   "id": "c3c8bfe1-3db1-4a90-813e-cdad8d1b1fb2",
   "metadata": {
    "tags": []
   },
   "outputs": [
    {
     "data": {
      "text/plain": [
       "'/Users/laurasisson/odor-pair'"
      ]
     },
     "execution_count": 1,
     "metadata": {},
     "output_type": "execute_result"
    }
   ],
   "source": [
    "import os\n",
    "os.chdir(\"..\")\n",
    "os.getcwd()"
   ]
  },
  {
   "cell_type": "code",
   "execution_count": 2,
   "id": "7955763e-8fbb-4b0e-9e36-a9904df9ed89",
   "metadata": {
    "tags": []
   },
   "outputs": [
    {
     "data": {
      "text/plain": [
       "{'mol1': 'CCCCC/C=C/C(=O)OC',\n",
       " 'mol1_notes': ['violet',\n",
       "  'sweet',\n",
       "  'oily',\n",
       "  'melon',\n",
       "  'pear',\n",
       "  'hairy',\n",
       "  'costus',\n",
       "  'fruity',\n",
       "  'violet leaf',\n",
       "  'waxy',\n",
       "  'fresh',\n",
       "  'green'],\n",
       " 'mol2': 'CCCCCOC(=O)CCC',\n",
       " 'mol2_notes': ['cherry',\n",
       "  'sweet',\n",
       "  'pineapple',\n",
       "  'fruity',\n",
       "  'banana',\n",
       "  'tropical'],\n",
       " 'blend_notes': ['animal', 'fruity', 'waxy']}"
      ]
     },
     "execution_count": 2,
     "metadata": {},
     "output_type": "execute_result"
    }
   ],
   "source": [
    "import json\n",
    "with open(\"dataset/full.json\") as f:\n",
    "    full_data = json.load(f)\n",
    "full_data[0]"
   ]
  },
  {
   "cell_type": "code",
   "execution_count": 3,
   "id": "0fccad70-1c35-4a57-9707-4b2b33f43fd3",
   "metadata": {
    "tags": []
   },
   "outputs": [],
   "source": [
    "import random\n",
    "random_seed = 3\n",
    "random.seed(random_seed)"
   ]
  },
  {
   "cell_type": "code",
   "execution_count": 4,
   "id": "18777421-589e-420e-923c-f5d671052649",
   "metadata": {
    "tags": []
   },
   "outputs": [],
   "source": [
    "import graph.utils\n",
    "import graph.stats\n",
    "import graph.coverage"
   ]
  },
  {
   "cell_type": "code",
   "execution_count": 5,
   "id": "eaa39b0c-1cb7-431e-bbc2-c6bfbcf73eb9",
   "metadata": {
    "tags": []
   },
   "outputs": [],
   "source": [
    "train_edges, test_edges = graph.coverage.random_split_carving(tf=.1)"
   ]
  },
  {
   "cell_type": "code",
   "execution_count": 6,
   "id": "4ec56d31-ee35-4953-a742-f4e13231830e",
   "metadata": {
    "tags": []
   },
   "outputs": [
    {
     "name": "stdout",
     "output_type": "stream",
     "text": [
      "tensor(0.7719)\n",
      "tensor(0.9951)\n"
     ]
    }
   ],
   "source": [
    "print(graph.stats.kl_similarity(train_edges))\n",
    "print(graph.stats.kl_similarity(test_edges))\n"
   ]
  },
  {
   "cell_type": "code",
   "execution_count": null,
   "id": "8da0d465-0986-4881-a2c5-1d512e2c70ca",
   "metadata": {
    "tags": []
   },
   "outputs": [
    {
     "data": {
      "application/vnd.jupyter.widget-view+json": {
       "model_id": "07616ac832424a1b9722a47d6d7d5e68",
       "version_major": 2,
       "version_minor": 0
      },
      "text/plain": [
       "  0%|          | 0/30 [00:00<?, ?it/s]"
      ]
     },
     "metadata": {},
     "output_type": "display_data"
    }
   ],
   "source": [
    "from tqdm.notebook import tqdm\n",
    "import numpy as np\n",
    "\n",
    "iters = 30\n",
    "eps = 1e-2\n",
    "reps = 5\n",
    "\n",
    "train_sim = []\n",
    "test_sim = []\n",
    "tt_sim = []\n",
    "x = []\n",
    "\n",
    "for tf in tqdm(np.linspace(eps, 1-eps, iters),smoothing=0):\n",
    "    train_sim_reps = []\n",
    "    test_sim_reps = []\n",
    "    tt_sim_reps = []\n",
    "    \n",
    "    for _ in range(reps):\n",
    "        train_edges, test_edges = graph.coverage.random_split_carving(tf=tf)   \n",
    "        train_sim_reps.append(graph.stats.kl_similarity(train_edges))\n",
    "        test_sim_reps.append(graph.stats.kl_similarity(test_edges))\n",
    "        tt_sim_reps.append(graph.stats.kl_similarity(train_edges,test_edges))\n",
    "        \n",
    "    x.append(tf)\n",
    "    train_sim.append(np.mean(train_sim_reps))\n",
    "    test_sim.append(np.mean(test_sim_reps))\n",
    "    tt_sim.append(np.mean(tt_sim_reps))\n"
   ]
  },
  {
   "cell_type": "code",
   "execution_count": null,
   "id": "3ac1e8fb-b33f-4bb1-9c4c-d8e56790a60f",
   "metadata": {
    "tags": []
   },
   "outputs": [],
   "source": [
    "import matplotlib.pyplot as plt\n",
    "import utils\n",
    "\n",
    "fig, ax = utils.standard_fig_ax()\n",
    "\n",
    "# Create the plot\n",
    "plt.plot(x, train_sim, label='Train/Full', marker='.')\n",
    "plt.plot(x, test_sim, label='Test/Full', marker='.')\n",
    "plt.plot(x, tt_sim, label='Train/Test', marker='.')\n",
    "\n",
    "# Add labels and title\n",
    "plt.xlabel('Train Fraction')\n",
    "plt.ylabel('Kullback–Leibler Similarity')\n",
    "\n",
    "# Add a legend\n",
    "plt.legend()\n",
    "utils.save_figures(f\"kldiv\", fig)\n",
    "\n",
    "# Display the plot\n",
    "plt.show()"
   ]
  }
 ],
 "metadata": {
  "kernelspec": {
   "display_name": "Python 3 (ipykernel)",
   "language": "python",
   "name": "python3"
  },
  "language_info": {
   "codemirror_mode": {
    "name": "ipython",
    "version": 3
   },
   "file_extension": ".py",
   "mimetype": "text/x-python",
   "name": "python",
   "nbconvert_exporter": "python",
   "pygments_lexer": "ipython3",
   "version": "3.11.5"
  }
 },
 "nbformat": 4,
 "nbformat_minor": 5
}
