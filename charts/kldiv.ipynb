{
 "cells": [
  {
   "cell_type": "code",
   "execution_count": 1,
   "id": "c3c8bfe1-3db1-4a90-813e-cdad8d1b1fb2",
   "metadata": {
    "tags": []
   },
   "outputs": [
    {
     "data": {
      "text/plain": [
       "'/Users/laurasisson/odor-pair'"
      ]
     },
     "execution_count": 1,
     "metadata": {},
     "output_type": "execute_result"
    }
   ],
   "source": [
    "import os\n",
    "os.chdir(\"..\")\n",
    "os.getcwd()"
   ]
  },
  {
   "cell_type": "code",
   "execution_count": 2,
   "id": "7955763e-8fbb-4b0e-9e36-a9904df9ed89",
   "metadata": {
    "tags": []
   },
   "outputs": [
    {
     "data": {
      "text/plain": [
       "{'mol1': 'CCCCC/C=C/C(=O)OC',\n",
       " 'mol1_notes': ['violet',\n",
       "  'sweet',\n",
       "  'oily',\n",
       "  'melon',\n",
       "  'pear',\n",
       "  'hairy',\n",
       "  'costus',\n",
       "  'fruity',\n",
       "  'violet leaf',\n",
       "  'waxy',\n",
       "  'fresh',\n",
       "  'green'],\n",
       " 'mol2': 'CCCCCOC(=O)CCC',\n",
       " 'mol2_notes': ['cherry',\n",
       "  'sweet',\n",
       "  'pineapple',\n",
       "  'fruity',\n",
       "  'banana',\n",
       "  'tropical'],\n",
       " 'blend_notes': ['animal', 'fruity', 'waxy']}"
      ]
     },
     "execution_count": 2,
     "metadata": {},
     "output_type": "execute_result"
    }
   ],
   "source": [
    "import json\n",
    "with open(\"dataset/full.json\") as f:\n",
    "    full_data = json.load(f)\n",
    "full_data[0]"
   ]
  },
  {
   "cell_type": "code",
   "execution_count": 3,
   "id": "0fccad70-1c35-4a57-9707-4b2b33f43fd3",
   "metadata": {
    "tags": []
   },
   "outputs": [],
   "source": [
    "import random\n",
    "random_seed = 3\n",
    "random.seed(random_seed)"
   ]
  },
  {
   "cell_type": "code",
   "execution_count": 4,
   "id": "18777421-589e-420e-923c-f5d671052649",
   "metadata": {
    "tags": []
   },
   "outputs": [],
   "source": [
    "import graph.utils\n",
    "import graph.stats\n",
    "import graph.coverage"
   ]
  },
  {
   "cell_type": "code",
   "execution_count": 5,
   "id": "eaa39b0c-1cb7-431e-bbc2-c6bfbcf73eb9",
   "metadata": {
    "tags": []
   },
   "outputs": [],
   "source": [
    "train_edges, test_edges = graph.coverage.random_split_carving(tf=.1)"
   ]
  },
  {
   "cell_type": "code",
   "execution_count": 7,
   "id": "4ec56d31-ee35-4953-a742-f4e13231830e",
   "metadata": {
    "tags": []
   },
   "outputs": [
    {
     "ename": "KeyError",
     "evalue": "('CCCOC(=O)C(C)C', 'C([C@@H]1[C@@H]([C@@H]([C@H]([C@H](O1)O[C@]2([C@H]([C@@H]([C@H](O2)CCl)O)O)CCl)O)O)Cl)O')",
     "output_type": "error",
     "traceback": [
      "\u001b[0;31m---------------------------------------------------------------------------\u001b[0m",
      "\u001b[0;31mKeyError\u001b[0m                                  Traceback (most recent call last)",
      "Cell \u001b[0;32mIn[7], line 1\u001b[0m\n\u001b[0;32m----> 1\u001b[0m \u001b[38;5;28mprint\u001b[39m(graph\u001b[38;5;241m.\u001b[39mstats\u001b[38;5;241m.\u001b[39mkl_similarity(train_edges))\n\u001b[1;32m      2\u001b[0m \u001b[38;5;28mprint\u001b[39m(graph\u001b[38;5;241m.\u001b[39mstats\u001b[38;5;241m.\u001b[39mkl_similarity(test_edges))\n",
      "File \u001b[0;32m~/odor-pair/graph/stats.py:43\u001b[0m, in \u001b[0;36mkl_similarity\u001b[0;34m(edges, target_edges)\u001b[0m\n\u001b[1;32m     42\u001b[0m \u001b[38;5;28;01mdef\u001b[39;00m \u001b[38;5;21mkl_similarity\u001b[39m(edges,target_edges\u001b[38;5;241m=\u001b[39m\u001b[38;5;28;01mNone\u001b[39;00m):\n\u001b[0;32m---> 43\u001b[0m     freqs \u001b[38;5;241m=\u001b[39m get_note_frequencies(edges)\n\u001b[1;32m     44\u001b[0m     \u001b[38;5;28;01mif\u001b[39;00m target_edges \u001b[38;5;129;01mis\u001b[39;00m \u001b[38;5;28;01mNone\u001b[39;00m:\n\u001b[1;32m     45\u001b[0m         target_freq \u001b[38;5;241m=\u001b[39m full_freq\n",
      "File \u001b[0;32m~/odor-pair/graph/stats.py:19\u001b[0m, in \u001b[0;36mget_note_frequencies\u001b[0;34m(edges)\u001b[0m\n\u001b[1;32m     17\u001b[0m edge_sum \u001b[38;5;241m=\u001b[39m []\n\u001b[1;32m     18\u001b[0m \u001b[38;5;28;01mfor\u001b[39;00m edge \u001b[38;5;129;01min\u001b[39;00m edges:\n\u001b[0;32m---> 19\u001b[0m     data \u001b[38;5;241m=\u001b[39m full_data[\u001b[38;5;28mtuple\u001b[39m(edge)]\n\u001b[1;32m     20\u001b[0m     edge_sum\u001b[38;5;241m.\u001b[39mappend(graph\u001b[38;5;241m.\u001b[39mutils\u001b[38;5;241m.\u001b[39mmulti_hot(data[\u001b[38;5;124m\"\u001b[39m\u001b[38;5;124mblend_notes\u001b[39m\u001b[38;5;124m\"\u001b[39m],should_canonize\u001b[38;5;241m=\u001b[39m\u001b[38;5;28;01mTrue\u001b[39;00m))\n\u001b[1;32m     21\u001b[0m \u001b[38;5;28;01mreturn\u001b[39;00m torch\u001b[38;5;241m.\u001b[39mstack(edge_sum)\u001b[38;5;241m.\u001b[39msum(axis\u001b[38;5;241m=\u001b[39m\u001b[38;5;241m0\u001b[39m)\n",
      "\u001b[0;31mKeyError\u001b[0m: ('CCCOC(=O)C(C)C', 'C([C@@H]1[C@@H]([C@@H]([C@H]([C@H](O1)O[C@]2([C@H]([C@@H]([C@H](O2)CCl)O)O)CCl)O)O)Cl)O')"
     ]
    }
   ],
   "source": [
    "print(graph.stats.kl_similarity(train_edges))\n",
    "print(graph.stats.kl_similarity(test_edges))\n"
   ]
  },
  {
   "cell_type": "code",
   "execution_count": null,
   "id": "8da0d465-0986-4881-a2c5-1d512e2c70ca",
   "metadata": {
    "tags": []
   },
   "outputs": [],
   "source": [
    "from tqdm.notebook import tqdm\n",
    "import numpy as np\n",
    "\n",
    "iters = 100\n",
    "eps = 1e-2\n",
    "reps = 5\n",
    "\n",
    "train_sim = []\n",
    "test_sim = []\n",
    "tt_sim = []\n",
    "tt_sim2 = []\n",
    "x = []\n",
    "\n",
    "for tf in tqdm(np.linspace(eps, 1-eps, iters),smoothing=0):\n",
    "    train_sim_reps = []\n",
    "    test_sim_reps = []\n",
    "    tt_sim_reps = []\n",
    "    tt_sim2_reps = []\n",
    "    \n",
    "    for _ in range(reps):\n",
    "        train_edges, test_edges = graph.coverage.random_split_carving(tf=tf)   \n",
    "        train_sim_reps.append(graph.stats.kl_similarity(train_edges))\n",
    "        test_sim_reps.append(graph.stats.kl_similarity(test_edges))\n",
    "        tt_sim_reps.append(graph.stats.kl_similarity(train_edges,test_edges))\n",
    "        tt_sim2_reps.append(graph.stats.kl_similarity(test_edges,train_edges))\n",
    "        \n",
    "    x.append(tf)\n",
    "    train_sim.append(np.mean(train_sim_reps))\n",
    "    test_sim.append(np.mean(test_sim_reps))\n",
    "    tt_sim.append(np.mean(tt_sim_reps))\n",
    "    tt_sim2.append(np.mean(tt_sim2_reps))\n"
   ]
  },
  {
   "cell_type": "code",
   "execution_count": null,
   "id": "a65df961-3094-40c7-ad86-04668a6d1a58",
   "metadata": {
    "tags": []
   },
   "outputs": [],
   "source": [
    "import matplotlib.pyplot as plt\n",
    "import utils\n",
    "\n",
    "fig, ax = utils.standard_fig_ax()\n",
    "\n",
    "# Create the plot\n",
    "plt.plot(x, train_sim, label='KLSim(Train||Full)', marker='.',linestyle='dashed')\n",
    "plt.plot(x, test_sim, label='KLSim(Test||Full)', marker='.',linestyle='dashed')\n",
    "plt.plot(x, tt_sim, label='KLSim(Train||Test)', marker='.',linestyle='dashed')\n",
    "plt.plot(x, tt_sim2, label='KLSim(Test||Train)', marker='.',linestyle='dashed')\n",
    "\n",
    "# Add labels and title\n",
    "plt.xlabel('Train Fraction')\n",
    "plt.ylabel('Kullback–Leibler Similarity')\n",
    "\n",
    "# Add a legend\n",
    "plt.legend()\n",
    "utils.save_figures(f\"kldiv\", fig)\n",
    "\n",
    "# Display the plot\n",
    "plt.show()"
   ]
  },
  {
   "cell_type": "code",
   "execution_count": null,
   "id": "189c7978-bc56-41fc-92a8-1e6ed3c2b372",
   "metadata": {
    "tags": []
   },
   "outputs": [],
   "source": [
    "import numpy as np\n",
    "import matplotlib.pyplot as plt\n",
    "import utils\n",
    "\n",
    "# Fit a cubic polynomial (degree 3) to the data\n",
    "train_coeff = np.polyfit(x, train_sim, 9)\n",
    "test_coeff = np.polyfit(x, test_sim, 9)\n",
    "tt_coeff = np.polyfit(x, tt_sim, 5)\n",
    "tt2_coeff = np.polyfit(x, tt_sim2, 5)\n",
    "\n",
    "# Create a polynomial function from the coefficients\n",
    "train_poly = np.poly1d(train_coeff)\n",
    "test_poly = np.poly1d(test_coeff)\n",
    "tt_poly = np.poly1d(tt_coeff)\n",
    "tt2_poly = np.poly1d(tt2_coeff)\n",
    "\n",
    "# Create a smooth range of x values for plotting the fitted curves\n",
    "x_smooth = np.linspace(min(x), max(x), 500)\n",
    "\n",
    "# Evaluate the polynomial at the smooth x values\n",
    "train_smooth = train_poly(x_smooth)\n",
    "test_smooth = test_poly(x_smooth)\n",
    "tt_smooth = tt_poly(x_smooth)\n",
    "tt2_smooth = tt2_poly(x_smooth)\n",
    "\n",
    "fig, ax = utils.standard_fig_ax()\n",
    "\n",
    "# Plot the original points with markers and cubic best-fit lines using color cycle\n",
    "plt.plot(x, train_sim, '.', color='C0')  # No label for points, use color 'C0'\n",
    "plt.plot(x_smooth, train_smooth, label='KLSim(Train||Full)', linestyle='dashed', color='C0')\n",
    "\n",
    "plt.plot(x, test_sim, '.', color='C1')  # No label for points, use color 'C1'\n",
    "plt.plot(x_smooth, test_smooth, label='KLSim(Test||Full)', linestyle='dashed', color='C1')\n",
    "\n",
    "plt.plot(x, tt_sim, '.', color='C2')  # No label for points, use color 'C2'\n",
    "plt.plot(x_smooth, tt_smooth, label='KLSim(Train||Test)', linestyle='dashed', color='C2')\n",
    "\n",
    "plt.plot(x, tt_sim2, '.', color='C3')  # No label for points, use color 'C3'\n",
    "plt.plot(x_smooth, tt2_smooth, label='KLSim(Test||Train)', linestyle='dashed', color='C3')\n",
    "\n",
    "# Add labels and title\n",
    "plt.xlabel('Train Fraction')\n",
    "plt.ylabel('Kullback–Leibler Similarity')\n",
    "\n",
    "# Add a legend (only for the lines, since they carry the label)\n",
    "plt.legend()\n",
    "utils.save_figures(f\"kldiv_polyfit_with_c_colors\", fig)\n",
    "\n",
    "# Display the plot\n",
    "plt.show()\n"
   ]
  }
 ],
 "metadata": {
  "kernelspec": {
   "display_name": "Python 3 (ipykernel)",
   "language": "python",
   "name": "python3"
  },
  "language_info": {
   "codemirror_mode": {
    "name": "ipython",
    "version": 3
   },
   "file_extension": ".py",
   "mimetype": "text/x-python",
   "name": "python",
   "nbconvert_exporter": "python",
   "pygments_lexer": "ipython3",
   "version": "3.11.5"
  }
 },
 "nbformat": 4,
 "nbformat_minor": 5
}
