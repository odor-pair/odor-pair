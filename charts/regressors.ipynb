{
 "cells": [
  {
   "cell_type": "code",
   "execution_count": 1,
   "id": "b1ee3fff-581e-40f9-acfa-5d946d603336",
   "metadata": {
    "tags": []
   },
   "outputs": [],
   "source": [
    "import json\n",
    "import numpy as np\n",
    "import utils"
   ]
  },
  {
   "cell_type": "code",
   "execution_count": 2,
   "id": "093512a5-8992-4b65-8133-aea62a4e528e",
   "metadata": {
    "tags": []
   },
   "outputs": [],
   "source": [
    "with open(\"data/coefficients.json\") as f:\n",
    "    coefficients = json.load(f)\n",
    "coeffs = np.array(coefficients[\"coeffs\"])\n",
    "r2s = np.array(coefficients[\"r2s\"])\n",
    "idcs = np.array(coefficients[\"idcs\"])\n",
    "scoeffs = sorted(coeffs,key=lambda p: p[0])\n",
    "x,y = zip(*scoeffs)"
   ]
  },
  {
   "cell_type": "code",
   "execution_count": null,
   "id": "91e5ea4a-dcc7-472b-bddf-14168a44e4cc",
   "metadata": {
    "tags": []
   },
   "outputs": [],
   "source": [
    "import matplotlib.pyplot as plt\n",
    "import numpy as np\n",
    "from mpl_toolkits.axes_grid1.inset_locator import inset_axes\n",
    "\n",
    "# Create a figure and axis\n",
    "fig, ax = utils.standard_fig_ax()\n",
    "ax.scatter(x,y,s=1e-1)\n",
    "ax.grid()\n",
    "r = 100\n",
    "xm, ym = 3, 5\n",
    "\n",
    "# The lines are helpful for debugging the figure\n",
    "# ax.axhline(y=ym, color='gray', linestyle='--')\n",
    "# ax.axvline(x=xm, color='gray', linestyle='--')\n",
    "\n",
    "ax.scatter(xm, ym, color='black', s=25, marker='x')\n",
    "# ax.text(xm,ym+5, 'Mean of Fit', ha='center', va='center')\n",
    "\n",
    "ax.set_xlim((-r+xm,r+xm))\n",
    "ax.set_ylim((-r+ym,r+ym))\n",
    "ax.set_xlabel(r\"Fit $\\alpha_1$ (First Molecule)\")\n",
    "ax.set_ylabel(r\"Fit $\\alpha_2$ (Second Molecule)\")\n",
    "\n",
    "# Create an inset axis\n",
    "axins = inset_axes(ax, width='30%', height='30%', loc='upper right')\n",
    "\n",
    "# Plot the zoomed-in region on the inset axis\n",
    "axins.scatter(x, y, s=1e-4)\n",
    "zr = 8\n",
    "axins.set_xlim(-zr+xm,zr+xm)  # Set the x-axis limits for the zoomed-in region\n",
    "axins.set_ylim(-zr+ym, zr+ym)  # Set the y-axis limits for the zoomed-in region\n",
    "\n",
    "\n",
    "# Mark the zoomed-in region in the main plot\n",
    "ax.indicate_inset_zoom(axins, edgecolor=\"gray\")\n",
    "ax.set_title(\"Scatterplot of fit linear regressors across molecules\")\n",
    "\n",
    "utils.save_figures(\"regressors\",fig)\n",
    "plt.show()\n"
   ]
  }
 ],
 "metadata": {
  "kernelspec": {
   "display_name": "Python 3 (ipykernel)",
   "language": "python",
   "name": "python3"
  },
  "language_info": {
   "codemirror_mode": {
    "name": "ipython",
    "version": 3
   },
   "file_extension": ".py",
   "mimetype": "text/x-python",
   "name": "python",
   "nbconvert_exporter": "python",
   "pygments_lexer": "ipython3",
   "version": "3.11.5"
  }
 },
 "nbformat": 4,
 "nbformat_minor": 5
}
